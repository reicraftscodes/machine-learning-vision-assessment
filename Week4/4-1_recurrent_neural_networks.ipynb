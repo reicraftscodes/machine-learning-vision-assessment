{
 "cells": [
  {
   "cell_type": "markdown",
   "metadata": {
    "deletable": false,
    "editable": false,
    "nbgrader": {
     "cell_type": "markdown",
     "checksum": "1fc2a0c568b45fc6bea249f201e44afa",
     "grade": false,
     "grade_id": "cell-9fdecec4ebd22836",
     "locked": true,
     "schema_version": 3,
     "solution": false,
     "task": false
    }
   },
   "source": [
    "<div class=\"alert alert-danger\" style=\"color:black\"><b>Running ML-LV Jupyter Notebooks:</b><br>\n",
    "    <ol>\n",
    "        <li>Make sure you are running all notebooks using the <code>adv_ai</code> kernel.\n",
    "        <li><b>It is very important that you do not create any additional files within the weekly folders on CSCT cloud.</b> Any additional files, or editing the notebooks with a different environment may prevent submission/marking of your work.</li>\n",
    "            <ul>\n",
    "                <li>NBGrader will automatically fetch and create the correct folders files for you.</li>\n",
    "                <li>All files that are not the Jupyter notebooks should be stored in the 'ML-LV/data' directory.</li>\n",
    "            </ul>\n",
    "        <li>Please <b>do not pip install</b> any python packages (or anything else). You should not need to install anything to complete these notebooks other than the packages provided in the Jupyter CSCT Cloud environment.</li>\n",
    "    </ol>\n",
    "    <b>If you would like to run this notebook locally you should:</b><br>\n",
    "    <ol>\n",
    "        <li>Create an environment using the requirements.txt file provided. <b>Any additional packages you install will not be accessible when uploaded to the server and may prevent marking.</b></li>\n",
    "        <li>Download a copy  of the notebook to your own machine. You can then edit the cells as you wish and then go back and copy the code into/edit the ones on the CSCT cloud in-place.</li>\n",
    "        <li><b>It is very important that you do not re-upload any notebooks that you have edited locally.</b> This is because NBGrader uses cell metadata to track marked tasks. <b>If you change this format it may prevent marking.</b></li>\n",
    "    </ol>\n",
    "</div>"
   ]
  },
  {
   "cell_type": "markdown",
   "metadata": {
    "deletable": false,
    "editable": false,
    "nbgrader": {
     "cell_type": "markdown",
     "checksum": "2666ec9e13d308796f7d8f89cdaca9b2",
     "grade": false,
     "grade_id": "cell-9f20c9898ea32e62",
     "locked": true,
     "schema_version": 3,
     "solution": false,
     "task": false
    }
   },
   "source": [
    "# Practical 4: Recurrent Neural Networks\n",
    "\n",
    "For most NLP problems the input representations consist of sequences of words (sentences, paragraphs, etc). The words in a sequence have a temporal relationship, or in other words, the *order* in which they appear changes the meaning of the sequence. In the previous practical we looked at several text classification methods which were unable to model this sequential relationship. Either because the algorithm processes all input features at once, or because the temporal relationship is lost through the chosen representation (BOW/TF-IDF), or both.\n",
    "\n",
    "In contrast, RNN process each feature of an input example in turn, at each time-step. So each word of an input sequence is processed and used to update an internal *hidden state*, or memory, of the network. Thus RNN are able to capture temporal relationships between each feature of an input example. For this reason RNN are frequently used form many NLP tasks, such as classification and language modelling.\n",
    "\n",
    "In the first part of this practical we will apply an RNN (LSTM) to the task of sentiment classification on the IMDB dataset. We will use word embedding representations for each word in the input sequence.\n",
    "\n",
    "In the second part of this practical we will explore various different configurations for RNN models, including bi-directional and stacked (or deep) RNNs. We will also use [Comet ML](https://www.comet.com/site/) to record results and compare different models and hyperparameter configurations.\n",
    "\n",
    "The objectives of this practical are:\n",
    "1. Understand the key concepts for applying RNN to NLP tasks, specifically input representations and shape\n",
    "\n",
    "2. Consider different RNN configurations and output modes, including returning sequences, or only the last hidden state, bi-directional and stacked RNN\n",
    "\n",
    "3. Compare and contrast different hyperparameters and models, making use of ML platforms, like [Comet ML](https://www.comet.com/site/) , to record and present results"
   ]
  },
  {
   "cell_type": "markdown",
   "metadata": {
    "deletable": false,
    "editable": false,
    "nbgrader": {
     "cell_type": "markdown",
     "checksum": "ded6a8dda9ba706952db31b5f4260a36",
     "grade": false,
     "grade_id": "cell-0ae5238802e7ae2d",
     "locked": true,
     "schema_version": 3,
     "solution": false,
     "task": false
    }
   },
   "source": [
    "# 1 LSTM for Sentiment Classification\n",
    "\n",
    "## 1.0 Import libraries"
   ]
  },
  {
   "cell_type": "code",
   "execution_count": 1,
   "metadata": {
    "tags": []
   },
   "outputs": [],
   "source": [
    "import os\n",
    "os.environ['TF_CPP_MIN_LOG_LEVEL'] = '3'  # Suppress Tensorflow messages\n",
    "import spacy\n",
    "import numpy as np\n",
    "import pandas as pd\n",
    "import matplotlib.pyplot as plt\n",
    "from gensim.models import Word2Vec\n",
    "import tensorflow as tf\n",
    "from tensorflow.keras import layers\n",
    "from sklearn.model_selection import train_test_split\n",
    "from sklearn.metrics import accuracy_score, ConfusionMatrixDisplay\n",
    "%matplotlib inline\n",
    "\n",
    "# Get the status of NBgrader (for skipping cell execution while validating/grading)\n",
    "grading = True if os.getenv('NBGRADER_EXECUTION') else False\n",
    "\n",
    "# Set seaborn style for matplotlib plots\n",
    "plt.style.use('seaborn-v0_8-white')\n",
    "\n",
    "# Get the project directory (should be in ML-LV)\n",
    "path = ''\n",
    "while os.path.basename(os.path.abspath(path)) != 'ML-LV':\n",
    "    path = os.path.abspath(os.path.join(path, '..'))\n",
    "\n",
    "# Set the directory to the data folder (should be in ML-LV/data/imdb)\n",
    "data_dir = os.path.join(path, 'data', 'imdb')\n",
    "\n",
    "# Set the directory to the shared dataset folder (should be in shared/datasets/imdb)\n",
    "dataset_dir = os.path.join(path, '..', 'shared', 'datasets', 'imdb')\n",
    "\n",
    "# Set the directory to the shared models folder (should be in shared/models/imdb)\n",
    "model_dir = os.path.join(path, '..', 'shared', 'models', 'imdb')\n",
    "\n",
    "# Load the Spacy language model ('en_core_web_md' should be in shared/models/spacy)\n",
    "nlp = spacy.load(os.path.join(path, '..', 'shared', 'models', 'spacy'))"
   ]
  },
  {
   "cell_type": "markdown",
   "metadata": {
    "deletable": false,
    "editable": false,
    "nbgrader": {
     "cell_type": "markdown",
     "checksum": "2c05ecf2c41f0bb98b72f22ffc5d7833",
     "grade": false,
     "grade_id": "cell-b6e40d8e602b1350",
     "locked": true,
     "schema_version": 3,
     "solution": false,
     "task": false
    }
   },
   "source": [
    "## 1.1 Load and pre-process data\n",
    "\n",
    "1. First load the full IMDB dataset and our smaller reviews set.\n",
    "\n",
    "2. Then we need to convert the 'positive' and 'negative' class labels to numerical values, 1 for positive and 0 for negative. Using the pandas `get_dummies` function creates two binary valued columns and then the `drop_first` parameter collapses these into a single column."
   ]
  },
  {
   "cell_type": "code",
   "execution_count": 2,
   "metadata": {
    "tags": []
   },
   "outputs": [
    {
     "data": {
      "text/html": [
       "<div>\n",
       "<style scoped>\n",
       "    .dataframe tbody tr th:only-of-type {\n",
       "        vertical-align: middle;\n",
       "    }\n",
       "\n",
       "    .dataframe tbody tr th {\n",
       "        vertical-align: top;\n",
       "    }\n",
       "\n",
       "    .dataframe thead th {\n",
       "        text-align: right;\n",
       "    }\n",
       "</style>\n",
       "<table border=\"1\" class=\"dataframe\">\n",
       "  <thead>\n",
       "    <tr style=\"text-align: right;\">\n",
       "      <th></th>\n",
       "      <th>review</th>\n",
       "      <th>sentiment</th>\n",
       "    </tr>\n",
       "  </thead>\n",
       "  <tbody>\n",
       "    <tr>\n",
       "      <th>0</th>\n",
       "      <td>one of the other reviewers has mentioned that ...</td>\n",
       "      <td>1</td>\n",
       "    </tr>\n",
       "    <tr>\n",
       "      <th>1</th>\n",
       "      <td>a wonderful little production the filming tech...</td>\n",
       "      <td>1</td>\n",
       "    </tr>\n",
       "    <tr>\n",
       "      <th>2</th>\n",
       "      <td>i thought this was a wonderful way to spend ti...</td>\n",
       "      <td>1</td>\n",
       "    </tr>\n",
       "    <tr>\n",
       "      <th>3</th>\n",
       "      <td>basically there is a family where a little boy...</td>\n",
       "      <td>0</td>\n",
       "    </tr>\n",
       "    <tr>\n",
       "      <th>4</th>\n",
       "      <td>petter mattei s love in the time of money is a...</td>\n",
       "      <td>1</td>\n",
       "    </tr>\n",
       "  </tbody>\n",
       "</table>\n",
       "</div>"
      ],
      "text/plain": [
       "                                              review  sentiment\n",
       "0  one of the other reviewers has mentioned that ...          1\n",
       "1  a wonderful little production the filming tech...          1\n",
       "2  i thought this was a wonderful way to spend ti...          1\n",
       "3  basically there is a family where a little boy...          0\n",
       "4  petter mattei s love in the time of money is a...          1"
      ]
     },
     "execution_count": 2,
     "metadata": {},
     "output_type": "execute_result"
    }
   ],
   "source": [
    "# Load the imdb dataset\n",
    "imdb_data = pd.read_csv(os.path.join(dataset_dir, 'imdb_dataset.csv'))\n",
    "\n",
    "# Load your imdb reviews\n",
    "imdb_reviews = pd.read_csv(os.path.join(data_dir, 'imdb_reviews.csv'))\n",
    "\n",
    "# Convert the sentiment to a binary value\n",
    "imdb_data['sentiment'] = pd.get_dummies(imdb_data['sentiment'], drop_first=True)\n",
    "imdb_reviews['sentiment'] = pd.get_dummies(imdb_reviews['sentiment'], drop_first=True)\n",
    "\n",
    "imdb_data.head()"
   ]
  },
  {
   "cell_type": "markdown",
   "metadata": {
    "deletable": false,
    "editable": false,
    "nbgrader": {
     "cell_type": "markdown",
     "checksum": "fc4d753358ada42479f00ff5a0bcef7f",
     "grade": false,
     "grade_id": "cell-6c6577d38232114b",
     "locked": true,
     "schema_version": 3,
     "solution": false,
     "task": false
    }
   },
   "source": [
    "### Plot sequence lengths\n",
    "\n",
    "Plot the distribution of review lengths in terms of number of tokens. This is important for RNN models because each token of an input review will be processed in turn, and so each input example will be a different length. Padding each review to the length of the longest in the data will increase processing time and may impact performance, so the distribution allows us to choose a suitable `max_seq_len` for the model to process. It looks like most reviews are less than 250 in length, so ~150 to 250 should be a suitable `max_seq_len`."
   ]
  },
  {
   "cell_type": "code",
   "execution_count": 3,
   "metadata": {
    "tags": []
   },
   "outputs": [
    {
     "name": "stdout",
     "output_type": "stream",
     "text": [
      "Mean sequence length: 235.67788\n",
      "Median sequence length: 177.0\n",
      "Max sequence length: 2498\n"
     ]
    },
    {
     "data": {
      "image/png": "[encoded data removed]",
      "text/plain": [
       "<Figure size 800x600 with 1 Axes>"
      ]
     },
     "metadata": {},
     "output_type": "display_data"
    }
   ],
   "source": [
    "# Tokenise the reviews\n",
    "tokenised_data = imdb_data['review'].apply(lambda x: [token.text for token in nlp.tokenizer(x)])\n",
    "\n",
    "# Get the sequence lengths\n",
    "seq_lengths = [len(review) for review in tokenised_data]\n",
    "\n",
    "print(f'Mean sequence length: {np.mean(seq_lengths)}')\n",
    "print(f'Median sequence length: {np.median(seq_lengths)}')\n",
    "print(f'Max sequence length: {np.max(seq_lengths)}')\n",
    "\n",
    "# Plot the distribution of review lengths\n",
    "fig, ax = plt.subplots(figsize=(8, 6))\n",
    "ax.hist(seq_lengths, bins=50)\n",
    "ax.set_xlim(0, 1200)\n",
    "ax.set_xlabel('Sequence Length')\n",
    "ax.set_ylabel('Frequency')\n",
    "plt.show()"
   ]
  },
  {
   "cell_type": "markdown",
   "metadata": {
    "deletable": false,
    "editable": false,
    "nbgrader": {
     "cell_type": "markdown",
     "checksum": "63c3c4f16032dced1f705a670e51a054",
     "grade": false,
     "grade_id": "cell-a77f4ef08f966923",
     "locked": true,
     "schema_version": 3,
     "solution": false,
     "task": false
    }
   },
   "source": [
    "### Load the vocabulary\n",
    "\n",
    "A vocabulary has been created from the larger IMDB dataset, so lets load that and set the vocabulary size accordingly."
   ]
  },
  {
   "cell_type": "code",
   "execution_count": 4,
   "metadata": {
    "tags": []
   },
   "outputs": [
    {
     "name": "stdout",
     "output_type": "stream",
     "text": [
      "Vocabulary size: 1998\n",
      "(0, the) (1, and) (2, a) (3, of) (4, is) (5, to) (6, it) (7, in) (8, i) (9, this) (10, that) (11, not) (12, was) (13, as) (14, movie) (15, for) (16, with) (17, but) (18, film) (19, you) (20, on) (21, are) (22, have) (23, s) (24, he) (25, his) (26, one) (27, be) (28, all) (29, at) (30, they) (31, by) (32, an) (33, who) (34, so) (35, from) (36, like) (37, there) (38, or) (39, do) (40, just) (41, her) (42, out) (43, about) (44, if) (45, has) (46, what) (47, can) (48, would) (49, some) "
     ]
    }
   ],
   "source": [
    "# Load the vocabulary file and store each word in a list\n",
    "with open(os.path.join(dataset_dir, 'imdb_vocab.txt'), 'r') as file:\n",
    "    imdb_vocab = file.read().splitlines() \n",
    "\n",
    "# Set the vocab size\n",
    "vocab_size = 2000\n",
    "imdb_vocab = imdb_vocab[:vocab_size -2]\n",
    "\n",
    "# Print the vocabulary\n",
    "print(f\"Vocabulary size: {len(imdb_vocab)}\")\n",
    "for i, word in enumerate(imdb_vocab[:50]):\n",
    "    print(f'({str(i)}, {word})', end=' ')"
   ]
  },
  {
   "cell_type": "markdown",
   "metadata": {
    "deletable": false,
    "editable": false,
    "nbgrader": {
     "cell_type": "markdown",
     "checksum": "725ed38094ab3e143f4e84c694ee1ae7",
     "grade": false,
     "grade_id": "cell-ff75dd34bdea5678",
     "locked": true,
     "schema_version": 3,
     "solution": false,
     "task": false
    }
   },
   "source": [
    "### Process and vectorise the text\n",
    "\n",
    "We will be using embedding representations as input to the RNN model, so each word in an input review needs to be mapped to an embedding vector. To do this we must first map each word to an integer according to its index within the vocabulary and then use that as a 'lookup' for the corresponding embedding. The result will be a 2D matrix/tensor of shape (`max_seq_len`, `embedding_dim`) for each input example. However, performing these steps manually beforehand results in a very large input tensor! So we will take advantage of the [TextVectorisation](https://www.tensorflow.org/api_docs/python/tf/keras/layers/TextVectorization) layer and [Embedding](https://www.tensorflow.org/api_docs/python/tf/keras/layers/Embedding) layer in Keras.\n",
    "\n",
    "1. We will split the data as normal, using the full IMDB data as training and validation and our reviews as a test set.\n",
    "\n",
    "2. Set up the text vectorisation layer with our vocabulary and specified `max_seq_len`. This layer takes a string input, tokenises each word, maps to integers and then outputs a sequence of the specified length. Note: this layer also adds some special padding (`''`) and unknown (`'[UNK]'`) tokens. The padding token is used to pad the sequences up to the maximum sequence length (if they are too short), so that we can create batches of similar sized inputs. The unknown token is used to replace words that are not in the vocabulary."
   ]
  },
  {
   "cell_type": "code",
   "execution_count": 5,
   "metadata": {
    "tags": []
   },
   "outputs": [
    {
     "name": "stdout",
     "output_type": "stream",
     "text": [
      "Shape of X: (50000,)\n",
      "['one of the other reviewers has mentioned that after watching just 1 oz episode you will be hooked they are right as this is exactly what happened with me the first thing that struck me about oz was its brutality and unflinching scenes of violence which set in right from the word go trust me this is not a show for the faint hearted or timid this show pulls no punches with regards to drugs sex or violence its is hardcore in the classic use of the word it is called oz as that is the nickname given to the oswald maximum security state penitentary it focuses mainly on emerald city an experimental section of the prison where all the cells have glass fronts and face inwards so privacy is not high on the agenda them city is home to many aryans muslims gangstas latinos christians italians irish and more so scuffles death stares dodgy dealings and shady agreements are never far away i would say the main appeal of the show is due to the fact that it goes where other shows would not dare forget pretty pictures painted for mainstream audiences forget charm forget romance oz does not mess around the first episode i ever saw struck me as so nasty it was surreal i could not say i was ready for it but as i watched more i developed a taste for oz and got accustomed to the high levels of graphic violence not just violence but injustice crooked guards who will be sold out for a nickel inmates who will kill on order and get away with it well mannered middle class inmates being turned into prison bitches due to their lack of street skills or prison experience watching oz you may become comfortable with what is uncomfortable viewing that is if you can get in touch with your darker side'\n",
      " 'a wonderful little production the filming technique is very unassuming very old time bbc fashion and gives a comforting and sometimes discomforting sense of realism to the entire piece the actors are extremely well chosen michael sheen not only has got all the polari but he has all the voices down pat too you can truly see the seamless editing guided by the references to williams diary entries not only is it well worth the watching but it is a terrificly written and performed piece a masterful production about one of the great master s of comedy and his life the realism really comes home with the little things the fantasy of the guard which rather than use the traditional dream techniques remains solid then disappears it plays on our knowledge and our senses particularly with the scenes concerning orton and halliwell and the sets particularly of their flat with halliwell s murals decorating every surface are terribly well done'\n",
      " 'i thought this was a wonderful way to spend time on a too hot summer weekend sitting in the air conditioned theater and watching a light hearted comedy the plot is simplistic but the dialogue is witty and the characters are likable even the well bread suspected serial killer while some may be disappointed when they realize this is not match point 2 risk addiction i thought it was proof that woody allen is still fully in control of the style many of us have grown to love this was the most i would laughed at one of woody s comedies in years dare i say a decade while i have never been impressed with scarlet johanson in this she managed to tone down her sexy image and jumped right into a average but spirited young woman this may not be the crown jewel of his career but it was wittier than devil wears prada and more interesting than superman a great comedy to go see with friends'\n",
      " 'basically there is a family where a little boy jake thinks there is a zombie in his closet his parents are fighting all the time this movie is slower than a soap opera and suddenly jake decides to become rambo and kill the zombie ok first of all when you are going to make a film you must decide if its a thriller or a drama as a drama the movie is watchable parents are divorcing arguing like in real life and then we have jake with his closet which totally ruins all the film i expected to see a boogeyman similar movie and instead i watched a drama with some meaningless thriller spots 3 out of 10 just for the well playing parents descent dialogs as for the shots with jake just ignore them'\n",
      " 'petter mattei s love in the time of money is a visually stunning film to watch mr mattei offers us a vivid portrait about human relations this is a movie that seems to be telling us what money power and success do to people in the different situations we encounter this being a variation on the arthur schnitzler s play about the same theme the director transfers the action to the present time new york where all these different characters meet and connect each one is connected in one way or another to the next person but no one seems to know the previous point of contact stylishly the film has a sophisticated luxurious look we are taken to see how these people live and the world they live in their own habitat the only thing one gets out of all these souls in the picture is the different stages of loneliness each one inhabits a big city is not exactly the best place in which human relations find sincere fulfillment as one discerns is the case with most of the people we encounter the acting is good under mr mattei s direction steve buscemi rosario dawson carol kane michael imperioli adrian grenier and the rest of the talented cast make these characters come alive we wish mr mattei good luck and await anxiously for his next work']\n",
      "Shape of y: (50000,)\n",
      "[1 1 1 0 1]\n",
      "\n",
      "Vectoriser vocabulary size: 2000\n",
      "['', '[UNK]', 'the', 'and', 'a', 'of', 'is', 'to', 'it', 'in', 'i', 'this', 'that', 'not', 'was', 'as', 'movie', 'for', 'with', 'but', 'film', 'you', 'on', 'are', 'have', 's', 'he', 'his', 'one', 'be', 'all', 'at', 'they', 'by', 'an', 'who', 'so', 'from', 'like', 'there', 'or', 'do', 'just', 'her', 'out', 'about', 'if', 'has', 'what', 'can']\n",
      "\n",
      "Vectorised review:\n",
      "[  28    5    2   83    1   47 1049   12  102  148   42  296    1  387\n",
      "   21   57   29    1   32   23  199   15   11    6  606   48  583   18\n",
      "   71    2   90  147   12    1   71   45    1   14   94    1    3    1\n",
      "  135    5  553   63  259    9  199   37    2  641  140 1724   71   11\n",
      "    6   13    4  118   17    2    1    1   40    1   11  118    1   59\n",
      "    1   18    1    7 1458  365   40  553   94    6    1    9    2  350\n",
      "  351    5    2  641    8    6  424    1   15   12    6    2    1  352\n",
      "    7    2    1    1    1 1030    1    8    1 1398   22    1  512   34\n",
      "    1    1    5    2 1180  117   30    2    1   24    1    1    3  378\n",
      "    1   36    1    6   13  289   22    2    1   92  512    6  335    7\n",
      "  109    1    1    1    1    1    1    1    3   54   36    1  317    1\n",
      "    1    1    3    1    1   23  113  218  233   10   50  132    2  274\n",
      " 1316    5    2  118    6  670    7    2  188   12    8  260  117   83\n",
      "  267   50   13    1  815  178 1291    1   17    1 1213  815 1420  815\n",
      "  861    1   75   13]\n",
      "\n",
      "Decoded review:\n",
      "['one', 'of', 'the', 'other', '[UNK]', 'has', 'mentioned', 'that', 'after', 'watching', 'just', '1', '[UNK]', 'episode', 'you', 'will', 'be', '[UNK]', 'they', 'are', 'right', 'as', 'this', 'is', 'exactly', 'what', 'happened', 'with', 'me', 'the', 'first', 'thing', 'that', '[UNK]', 'me', 'about', '[UNK]', 'was', 'its', '[UNK]', 'and', '[UNK]', 'scenes', 'of', 'violence', 'which', 'set', 'in', 'right', 'from', 'the', 'word', 'go', 'trust', 'me', 'this', 'is', 'not', 'a', 'show', 'for', 'the', '[UNK]', '[UNK]', 'or', '[UNK]', 'this', 'show', '[UNK]', 'no', '[UNK]', 'with', '[UNK]', 'to', 'drugs', 'sex', 'or', 'violence', 'its', 'is', '[UNK]', 'in', 'the', 'classic', 'use', 'of', 'the', 'word', 'it', 'is', 'called', '[UNK]', 'as', 'that', 'is', 'the', '[UNK]', 'given', 'to', 'the', '[UNK]', '[UNK]', '[UNK]', 'state', '[UNK]', 'it', '[UNK]', 'mainly', 'on', '[UNK]', 'city', 'an', '[UNK]', '[UNK]', 'of', 'the', 'prison', 'where', 'all', 'the', '[UNK]', 'have', '[UNK]', '[UNK]', 'and', 'face', '[UNK]', 'so', '[UNK]', 'is', 'not', 'high', 'on', 'the', '[UNK]', 'them', 'city', 'is', 'home', 'to', 'many', '[UNK]', '[UNK]', '[UNK]', '[UNK]', '[UNK]', '[UNK]', '[UNK]', 'and', 'more', 'so', '[UNK]', 'death', '[UNK]', '[UNK]', '[UNK]', 'and', '[UNK]', '[UNK]', 'are', 'never', 'far', 'away', 'i', 'would', 'say', 'the', 'main', 'appeal', 'of', 'the', 'show', 'is', 'due', 'to', 'the', 'fact', 'that', 'it', 'goes', 'where', 'other', 'shows', 'would', 'not', '[UNK]', 'forget', 'pretty', 'pictures', '[UNK]', 'for', '[UNK]', 'audiences', 'forget', 'charm', 'forget', 'romance', '[UNK]', 'does', 'not']\n"
     ]
    }
   ],
   "source": [
    "# Set the maximum sequence length\n",
    "max_seq_len = 200\n",
    "\n",
    "# Get the reviews\n",
    "X = imdb_data['review'].values\n",
    "print(f'Shape of X: {X.shape}')\n",
    "print(X[:5])\n",
    "\n",
    "# Get the class labels\n",
    "y = imdb_data['sentiment'].values\n",
    "print(f'Shape of y: {y.shape}')\n",
    "print(y[:5])\n",
    "\n",
    "# Split the data into training and validation sets\n",
    "X_train, X_val, y_train, y_val = train_test_split(X, y, test_size=0.2, random_state=42)\n",
    "\n",
    "# Get the test data\n",
    "X_test = imdb_reviews['review'].values\n",
    "y_test = imdb_reviews['sentiment'].values\n",
    "\n",
    "# Create the text vectoriser\n",
    "vectorise_layer = layers.TextVectorization(\n",
    "    standardize=None,\n",
    "    split='whitespace',\n",
    "    output_mode='int',\n",
    "    output_sequence_length=max_seq_len,\n",
    "    pad_to_max_tokens=False,\n",
    "    vocabulary=imdb_vocab\n",
    ")\n",
    "\n",
    "# Vocabulary size and content should be the same as above + 2 for the padding token and OOV token\n",
    "print(f'\\nVectoriser vocabulary size: {len(vectorise_layer.get_vocabulary())}')\n",
    "print(vectorise_layer.get_vocabulary()[:50])\n",
    "\n",
    "# Show the vectorisation of a review\n",
    "vectorised_review = vectorise_layer(X[0])\n",
    "print(f'\\nVectorised review:\\n{vectorised_review}')\n",
    "\n",
    "# Decode the vectorised review\n",
    "decoded_review = [vectorise_layer.get_vocabulary()[i] for i in vectorised_review]\n",
    "print(f'\\nDecoded review:\\n{decoded_review}')"
   ]
  },
  {
   "cell_type": "markdown",
   "metadata": {
    "deletable": false,
    "editable": false,
    "nbgrader": {
     "cell_type": "markdown",
     "checksum": "b1c9688f55e10dfd4661a48ff557bd00",
     "grade": false,
     "grade_id": "cell-18666b96ee15de51",
     "locked": true,
     "schema_version": 3,
     "solution": false,
     "task": false
    }
   },
   "source": [
    "### Create an embedding matrix\n",
    "\n",
    "We need to create an embedding matrix of shape (`vocab_size`, `embedding_dim`). This will be the 'lookup' table for each word in an input sequence to be mapped to its embedding. We will the embeddings tuned on the IMDB data from last week as these should already contain information about the word relations they were trained on.\n",
    "\n",
    "1. Create a numpy embedding matrix by looping over the vocabulary and assigning each word an embedding.\n",
    "\n",
    "2. Then create an embedding layer using the embedding matrix as the lookup. This layer takes a `max_seq_len` sequence of integers as input and maps each word to an embedding to produce a tensor of shape (`max_seq_len`, `embedding_dim`)."
   ]
  },
  {
   "cell_type": "code",
   "execution_count": 6,
   "metadata": {
    "tags": []
   },
   "outputs": [
    {
     "name": "stdout",
     "output_type": "stream",
     "text": [
      "Shape of embeddings: (2000, 50)\n",
      "[[ 0.          0.          0.         ...  0.          0.\n",
      "   0.        ]\n",
      " [ 0.          0.          0.         ...  0.          0.\n",
      "   0.        ]\n",
      " [ 0.          0.          0.         ...  0.          0.\n",
      "   0.        ]\n",
      " ...\n",
      " [-0.00894076 -0.12877092 -0.04895075 ...  0.14032619  0.10201658\n",
      "   0.34646019]\n",
      " [ 0.          0.          0.         ...  0.          0.\n",
      "   0.        ]\n",
      " [ 0.          0.          0.         ...  0.          0.\n",
      "   0.        ]]\n",
      "Shape of embedded review: (200, 50)\n",
      "Shape of embedding weights: (2000, 50)\n"
     ]
    }
   ],
   "source": [
    "# Set the embedding dimension\n",
    "embedding_dim = 50\n",
    "\n",
    "# Load the word embeddings\n",
    "w2v_model = Word2Vec.load(os.path.join(model_dir, 'imdb_w2v.model'))\n",
    "\n",
    "# Generate the embedding matrix\n",
    "embedding_matrix = np.zeros((vocab_size, embedding_dim))\n",
    "for i, word in enumerate(imdb_vocab):\n",
    "    if word in w2v_model.wv.key_to_index:\n",
    "        embedding_matrix[i] = w2v_model.wv.get_vector(word)[:embedding_dim]\n",
    "        \n",
    "# Show the embedding matrix\n",
    "print(f\"Shape of embeddings: {embedding_matrix.shape}\")\n",
    "print(embedding_matrix)\n",
    "\n",
    "# Create the embedding layer\n",
    "embedding_layer = layers.Embedding(\n",
    "    input_dim=vocab_size,\n",
    "    output_dim=embedding_dim,\n",
    "    embeddings_initializer=tf.keras.initializers.Constant(embedding_matrix),\n",
    "    mask_zero=True)\n",
    "\n",
    "# Show the vectorisation and embedding of a review\n",
    "vectorised_review = vectorise_layer(X[0])\n",
    "embedded_review = embedding_layer(vectorised_review)\n",
    "print(f'Shape of embedded review: {embedded_review.shape}')\n",
    "\n",
    "# Show the embedding weights\n",
    "embed_weights = embedding_layer.get_weights()[0]\n",
    "print(f'Shape of embedding weights: {embed_weights.shape}')"
   ]
  },
  {
   "cell_type": "markdown",
   "metadata": {
    "deletable": false,
    "editable": false,
    "nbgrader": {
     "cell_type": "markdown",
     "checksum": "2112bf3413c0149a1acd8c9031986bc0",
     "grade": false,
     "grade_id": "cell-137d9d4494374f66",
     "locked": true,
     "schema_version": 3,
     "solution": false,
     "task": false
    }
   },
   "source": [
    "## 1.2 Build the RNN model\n",
    "\n",
    "The cell below creates a Keras functional model:\n",
    "- The input layer takes a batch of single strings.\n",
    "\n",
    "- Vectorisation layer tokenises and maps each word to integers.\n",
    "\n",
    "- Embedding layer maps each sequence of words to embeddings. Each token in the sequence, of size `embedding_dim`, then becomes the input for the RNN at each timestep.\n",
    "\n",
    "- RNN (LSTM) processes each word in the sequence in turn. Here, because `return_sequences=False` we are taking the last hidden state as the encoded sequence representation.\n",
    "\n",
    "- Finally a feed forward layer performs classification."
   ]
  },
  {
   "cell_type": "code",
   "execution_count": 7,
   "metadata": {
    "tags": []
   },
   "outputs": [
    {
     "data": {
      "text/html": [
       "<pre style=\"white-space:pre;overflow-x:auto;line-height:normal;font-family:Menlo,'DejaVu Sans Mono',consolas,'Courier New',monospace\"><span style=\"font-weight: bold\">Model: \"LSTM\"</span>\n",
       "</pre>\n"
      ],
      "text/plain": [
       "\u001b[1mModel: \"LSTM\"\u001b[0m\n"
      ]
     },
     "metadata": {},
     "output_type": "display_data"
    },
    {
     "data": {
      "text/html": [
       "<pre style=\"white-space:pre;overflow-x:auto;line-height:normal;font-family:Menlo,'DejaVu Sans Mono',consolas,'Courier New',monospace\">┏━━━━━━━━━━━━━━━━━━━━━┳━━━━━━━━━━━━━━━━━━━┳━━━━━━━━━━━━┳━━━━━━━━━━━━━━━━━━━┓\n",
       "┃<span style=\"font-weight: bold\"> Layer (type)        </span>┃<span style=\"font-weight: bold\"> Output Shape      </span>┃<span style=\"font-weight: bold\">    Param # </span>┃<span style=\"font-weight: bold\"> Connected to      </span>┃\n",
       "┡━━━━━━━━━━━━━━━━━━━━━╇━━━━━━━━━━━━━━━━━━━╇━━━━━━━━━━━━╇━━━━━━━━━━━━━━━━━━━┩\n",
       "│ input_layer         │ (<span style=\"color: #00d7ff; text-decoration-color: #00d7ff\">None</span>, <span style=\"color: #00af00; text-decoration-color: #00af00\">1</span>)         │          <span style=\"color: #00af00; text-decoration-color: #00af00\">0</span> │ -                 │\n",
       "│ (<span style=\"color: #0087ff; text-decoration-color: #0087ff\">InputLayer</span>)        │                   │            │                   │\n",
       "├─────────────────────┼───────────────────┼────────────┼───────────────────┤\n",
       "│ text_vectorization  │ (<span style=\"color: #00d7ff; text-decoration-color: #00d7ff\">None</span>, <span style=\"color: #00af00; text-decoration-color: #00af00\">200</span>)       │          <span style=\"color: #00af00; text-decoration-color: #00af00\">0</span> │ input_layer[<span style=\"color: #00af00; text-decoration-color: #00af00\">0</span>][<span style=\"color: #00af00; text-decoration-color: #00af00\">0</span>] │\n",
       "│ (<span style=\"color: #0087ff; text-decoration-color: #0087ff\">TextVectorization</span>) │                   │            │                   │\n",
       "├─────────────────────┼───────────────────┼────────────┼───────────────────┤\n",
       "│ embedding           │ (<span style=\"color: #00d7ff; text-decoration-color: #00d7ff\">None</span>, <span style=\"color: #00af00; text-decoration-color: #00af00\">200</span>, <span style=\"color: #00af00; text-decoration-color: #00af00\">50</span>)   │    <span style=\"color: #00af00; text-decoration-color: #00af00\">100,000</span> │ text_vectorizati… │\n",
       "│ (<span style=\"color: #0087ff; text-decoration-color: #0087ff\">Embedding</span>)         │                   │            │                   │\n",
       "├─────────────────────┼───────────────────┼────────────┼───────────────────┤\n",
       "│ not_equal           │ (<span style=\"color: #00d7ff; text-decoration-color: #00d7ff\">None</span>, <span style=\"color: #00af00; text-decoration-color: #00af00\">200</span>)       │          <span style=\"color: #00af00; text-decoration-color: #00af00\">0</span> │ text_vectorizati… │\n",
       "│ (<span style=\"color: #0087ff; text-decoration-color: #0087ff\">NotEqual</span>)          │                   │            │                   │\n",
       "├─────────────────────┼───────────────────┼────────────┼───────────────────┤\n",
       "│ lstm (<span style=\"color: #0087ff; text-decoration-color: #0087ff\">LSTM</span>)         │ (<span style=\"color: #00d7ff; text-decoration-color: #00d7ff\">None</span>, <span style=\"color: #00af00; text-decoration-color: #00af00\">32</span>)        │     <span style=\"color: #00af00; text-decoration-color: #00af00\">10,624</span> │ embedding[<span style=\"color: #00af00; text-decoration-color: #00af00\">0</span>][<span style=\"color: #00af00; text-decoration-color: #00af00\">0</span>],  │\n",
       "│                     │                   │            │ not_equal[<span style=\"color: #00af00; text-decoration-color: #00af00\">0</span>][<span style=\"color: #00af00; text-decoration-color: #00af00\">0</span>]   │\n",
       "├─────────────────────┼───────────────────┼────────────┼───────────────────┤\n",
       "│ dense (<span style=\"color: #0087ff; text-decoration-color: #0087ff\">Dense</span>)       │ (<span style=\"color: #00d7ff; text-decoration-color: #00d7ff\">None</span>, <span style=\"color: #00af00; text-decoration-color: #00af00\">1</span>)         │         <span style=\"color: #00af00; text-decoration-color: #00af00\">33</span> │ lstm[<span style=\"color: #00af00; text-decoration-color: #00af00\">0</span>][<span style=\"color: #00af00; text-decoration-color: #00af00\">0</span>]        │\n",
       "└─────────────────────┴───────────────────┴────────────┴───────────────────┘\n",
       "</pre>\n"
      ],
      "text/plain": [
       "┏━━━━━━━━━━━━━━━━━━━━━┳━━━━━━━━━━━━━━━━━━━┳━━━━━━━━━━━━┳━━━━━━━━━━━━━━━━━━━┓\n",
       "┃\u001b[1m \u001b[0m\u001b[1mLayer (type)       \u001b[0m\u001b[1m \u001b[0m┃\u001b[1m \u001b[0m\u001b[1mOutput Shape     \u001b[0m\u001b[1m \u001b[0m┃\u001b[1m \u001b[0m\u001b[1m   Param #\u001b[0m\u001b[1m \u001b[0m┃\u001b[1m \u001b[0m\u001b[1mConnected to     \u001b[0m\u001b[1m \u001b[0m┃\n",
       "┡━━━━━━━━━━━━━━━━━━━━━╇━━━━━━━━━━━━━━━━━━━╇━━━━━━━━━━━━╇━━━━━━━━━━━━━━━━━━━┩\n",
       "│ input_layer         │ (\u001b[38;5;45mNone\u001b[0m, \u001b[38;5;34m1\u001b[0m)         │          \u001b[38;5;34m0\u001b[0m │ -                 │\n",
       "│ (\u001b[38;5;33mInputLayer\u001b[0m)        │                   │            │                   │\n",
       "├─────────────────────┼───────────────────┼────────────┼───────────────────┤\n",
       "│ text_vectorization  │ (\u001b[38;5;45mNone\u001b[0m, \u001b[38;5;34m200\u001b[0m)       │          \u001b[38;5;34m0\u001b[0m │ input_layer[\u001b[38;5;34m0\u001b[0m][\u001b[38;5;34m0\u001b[0m] │\n",
       "│ (\u001b[38;5;33mTextVectorization\u001b[0m) │                   │            │                   │\n",
       "├─────────────────────┼───────────────────┼────────────┼───────────────────┤\n",
       "│ embedding           │ (\u001b[38;5;45mNone\u001b[0m, \u001b[38;5;34m200\u001b[0m, \u001b[38;5;34m50\u001b[0m)   │    \u001b[38;5;34m100,000\u001b[0m │ text_vectorizati… │\n",
       "│ (\u001b[38;5;33mEmbedding\u001b[0m)         │                   │            │                   │\n",
       "├─────────────────────┼───────────────────┼────────────┼───────────────────┤\n",
       "│ not_equal           │ (\u001b[38;5;45mNone\u001b[0m, \u001b[38;5;34m200\u001b[0m)       │          \u001b[38;5;34m0\u001b[0m │ text_vectorizati… │\n",
       "│ (\u001b[38;5;33mNotEqual\u001b[0m)          │                   │            │                   │\n",
       "├─────────────────────┼───────────────────┼────────────┼───────────────────┤\n",
       "│ lstm (\u001b[38;5;33mLSTM\u001b[0m)         │ (\u001b[38;5;45mNone\u001b[0m, \u001b[38;5;34m32\u001b[0m)        │     \u001b[38;5;34m10,624\u001b[0m │ embedding[\u001b[38;5;34m0\u001b[0m][\u001b[38;5;34m0\u001b[0m],  │\n",
       "│                     │                   │            │ not_equal[\u001b[38;5;34m0\u001b[0m][\u001b[38;5;34m0\u001b[0m]   │\n",
       "├─────────────────────┼───────────────────┼────────────┼───────────────────┤\n",
       "│ dense (\u001b[38;5;33mDense\u001b[0m)       │ (\u001b[38;5;45mNone\u001b[0m, \u001b[38;5;34m1\u001b[0m)         │         \u001b[38;5;34m33\u001b[0m │ lstm[\u001b[38;5;34m0\u001b[0m][\u001b[38;5;34m0\u001b[0m]        │\n",
       "└─────────────────────┴───────────────────┴────────────┴───────────────────┘\n"
      ]
     },
     "metadata": {},
     "output_type": "display_data"
    },
    {
     "data": {
      "text/html": [
       "<pre style=\"white-space:pre;overflow-x:auto;line-height:normal;font-family:Menlo,'DejaVu Sans Mono',consolas,'Courier New',monospace\"><span style=\"font-weight: bold\"> Total params: </span><span style=\"color: #00af00; text-decoration-color: #00af00\">110,657</span> (432.25 KB)\n",
       "</pre>\n"
      ],
      "text/plain": [
       "\u001b[1m Total params: \u001b[0m\u001b[38;5;34m110,657\u001b[0m (432.25 KB)\n"
      ]
     },
     "metadata": {},
     "output_type": "display_data"
    },
    {
     "data": {
      "text/html": [
       "<pre style=\"white-space:pre;overflow-x:auto;line-height:normal;font-family:Menlo,'DejaVu Sans Mono',consolas,'Courier New',monospace\"><span style=\"font-weight: bold\"> Trainable params: </span><span style=\"color: #00af00; text-decoration-color: #00af00\">110,657</span> (432.25 KB)\n",
       "</pre>\n"
      ],
      "text/plain": [
       "\u001b[1m Trainable params: \u001b[0m\u001b[38;5;34m110,657\u001b[0m (432.25 KB)\n"
      ]
     },
     "metadata": {},
     "output_type": "display_data"
    },
    {
     "data": {
      "text/html": [
       "<pre style=\"white-space:pre;overflow-x:auto;line-height:normal;font-family:Menlo,'DejaVu Sans Mono',consolas,'Courier New',monospace\"><span style=\"font-weight: bold\"> Non-trainable params: </span><span style=\"color: #00af00; text-decoration-color: #00af00\">0</span> (0.00 B)\n",
       "</pre>\n"
      ],
      "text/plain": [
       "\u001b[1m Non-trainable params: \u001b[0m\u001b[38;5;34m0\u001b[0m (0.00 B)\n"
      ]
     },
     "metadata": {},
     "output_type": "display_data"
    }
   ],
   "source": [
    "# Input layer takes in a string\n",
    "inputs = tf.keras.Input(shape=(1,), dtype=tf.string)\n",
    "\n",
    "# Vectorise the inputs\n",
    "vectorised_inputs = vectorise_layer(inputs)\n",
    "\n",
    "# Embed the inputs\n",
    "embedded_inputs = embedding_layer(vectorised_inputs)\n",
    "\n",
    "# Recurrent layer\n",
    "lstm_layer = layers.LSTM(32, return_sequences=False)(embedded_inputs)\n",
    "\n",
    "# Classification layer\n",
    "outputs = layers.Dense(1, activation=\"sigmoid\")(lstm_layer)\n",
    "\n",
    "# Compile the model\n",
    "model = tf.keras.Model(inputs=inputs, outputs=outputs, name=\"LSTM\")\n",
    "model.compile(optimizer=\"adam\", loss=\"binary_crossentropy\", metrics=[\"accuracy\"])\n",
    "model.summary()"
   ]
  },
  {
   "cell_type": "markdown",
   "metadata": {
    "deletable": false,
    "editable": false,
    "nbgrader": {
     "cell_type": "markdown",
     "checksum": "79a4c3fa5047123d234c30c288f49af7",
     "grade": false,
     "grade_id": "cell-0a6c6a4cee1cbda5",
     "locked": true,
     "schema_version": 3,
     "solution": false,
     "task": false
    }
   },
   "source": [
    "### Train and evaluate the model"
   ]
  },
  {
   "cell_type": "code",
   "execution_count": 8,
   "metadata": {
    "tags": []
   },
   "outputs": [
    {
     "name": "stdout",
     "output_type": "stream",
     "text": [
      "Epoch 1/5\n",
      "\u001b[1m313/313\u001b[0m \u001b[32m━━━━━━━━━━━━━━━━━━━━\u001b[0m\u001b[37m\u001b[0m \u001b[1m22s\u001b[0m 66ms/step - accuracy: 0.5988 - loss: 0.6512 - val_accuracy: 0.8094 - val_loss: 0.4194\n",
      "Epoch 2/5\n",
      "\u001b[1m313/313\u001b[0m \u001b[32m━━━━━━━━━━━━━━━━━━━━\u001b[0m\u001b[37m\u001b[0m \u001b[1m20s\u001b[0m 64ms/step - accuracy: 0.8306 - loss: 0.3946 - val_accuracy: 0.8483 - val_loss: 0.3478\n",
      "Epoch 3/5\n",
      "\u001b[1m313/313\u001b[0m \u001b[32m━━━━━━━━━━━━━━━━━━━━\u001b[0m\u001b[37m\u001b[0m \u001b[1m20s\u001b[0m 65ms/step - accuracy: 0.8619 - loss: 0.3346 - val_accuracy: 0.8586 - val_loss: 0.3366\n",
      "Epoch 4/5\n",
      "\u001b[1m313/313\u001b[0m \u001b[32m━━━━━━━━━━━━━━━━━━━━\u001b[0m\u001b[37m\u001b[0m \u001b[1m20s\u001b[0m 65ms/step - accuracy: 0.8695 - loss: 0.3167 - val_accuracy: 0.8585 - val_loss: 0.3227\n",
      "Epoch 5/5\n",
      "\u001b[1m313/313\u001b[0m \u001b[32m━━━━━━━━━━━━━━━━━━━━\u001b[0m\u001b[37m\u001b[0m \u001b[1m20s\u001b[0m 65ms/step - accuracy: 0.8717 - loss: 0.3074 - val_accuracy: 0.8637 - val_loss: 0.3185\n",
      "\u001b[1m313/313\u001b[0m \u001b[32m━━━━━━━━━━━━━━━━━━━━\u001b[0m\u001b[37m\u001b[0m \u001b[1m4s\u001b[0m 13ms/step\n",
      "Validation Accuracy: 0.8637\n"
     ]
    },
    {
     "data": {
      "image/png": "[encoded data removed]",
      "text/plain": [
       "<Figure size 640x480 with 1 Axes>"
      ]
     },
     "metadata": {},
     "output_type": "display_data"
    }
   ],
   "source": [
    "if not grading:\n",
    "    # Fit the model\n",
    "    results = model.fit(X_train, y_train, epochs=5, batch_size=128, validation_data=(X_val, y_val))\n",
    "    \n",
    "    # Predict class labels for validation set\n",
    "    predictions = model.predict(X_val)\n",
    "    predictions = [0 if x < 0.5 else 1 for x in predictions]  # Convert probabilities to binary\n",
    "    print(f'Validation Accuracy: {accuracy_score(y_val, predictions)}')\n",
    "    \n",
    "    # Print confusion matrix\n",
    "    conf_matrix = ConfusionMatrixDisplay.from_predictions(y_val, predictions, display_labels=['negative', 'positive'], colorbar=False)\n",
    "    plt.show()"
   ]
  },
  {
   "cell_type": "markdown",
   "metadata": {
    "deletable": false,
    "editable": false,
    "nbgrader": {
     "cell_type": "markdown",
     "checksum": "04d515d833c2bf045daf9c6596d3482c",
     "grade": false,
     "grade_id": "cell-7b3259f707b1dfe3",
     "locked": true,
     "schema_version": 3,
     "solution": false,
     "task": false
    }
   },
   "source": [
    "\n",
    "### Evaluate the model on your IMDB reviews"
   ]
  },
  {
   "cell_type": "code",
   "execution_count": 9,
   "metadata": {
    "tags": []
   },
   "outputs": [
    {
     "name": "stdout",
     "output_type": "stream",
     "text": [
      "\u001b[1m4/4\u001b[0m \u001b[32m━━━━━━━━━━━━━━━━━━━━\u001b[0m\u001b[37m\u001b[0m \u001b[1m0s\u001b[0m 11ms/step\n",
      "Test Accuracy: 0.61\n"
     ]
    },
    {
     "data": {
      "image/png": "[encoded data removed]",
      "text/plain": [
       "<Figure size 640x480 with 1 Axes>"
      ]
     },
     "metadata": {},
     "output_type": "display_data"
    }
   ],
   "source": [
    "if not grading:\n",
    "    # Predict class labels for test set\n",
    "    predictions = model.predict(X_test)\n",
    "    predictions = [0 if x < 0.5 else 1 for x in predictions]  # Convert probabilities to binary\n",
    "    print(f'Test Accuracy: {accuracy_score(y_test, predictions)}')\n",
    "    \n",
    "    # Print confusion matrix\n",
    "    conf_matrix = ConfusionMatrixDisplay.from_predictions(y_test, predictions, display_labels=['negative', 'positive'], colorbar=False)\n",
    "    plt.show()"
   ]
  },
  {
   "cell_type": "markdown",
   "metadata": {
    "deletable": false,
    "editable": false,
    "nbgrader": {
     "cell_type": "markdown",
     "checksum": "cd79113a3651ba60f700d845c8ecd5aa",
     "grade": false,
     "grade_id": "cell-b75b742b30758692",
     "locked": true,
     "schema_version": 3,
     "solution": false,
     "task": false
    },
    "tags": []
   },
   "source": [
    "<div class=\"alert alert-info\" style=\"color:black\"><h2>1.3 Exercise: RNN architectures</h2>\n",
    "\n",
    "As discussed in the lecture, there are several different architectural variations of RNN models, such as Bi-directional and stacked layers. You can use the Keras [Bi-directional layer](https://www.tensorflow.org/api_docs/python/tf/keras/layers/Bidirectional) to convert the uni-directional LSTM into bi-directional. To stack two LSTM layers the first will need to output sequences (`return_sequences=True`), which become the inputs for the second layer. Then you can either take the last hidden state as output (as we did before), or pool the sequence of outputs.\n",
    "\n",
    "1. In the following cell complete the `build_model()` function. It should take in the following arguments and return a Keras functional model:\n",
    "    - `input_data` is the training set (for adapting the vectoriser layer).\n",
    "    - `max_seq_len` is the maximum sequence length.\n",
    "    - `embed_matrix` is the pre-computed embedding matrix.\n",
    "    - `units` is the number of units in the recurrent layer.\n",
    "    - `bi_direction` is whether to use a bi-directional recurrent layer.\n",
    "    - `stacked` is whether to stack two recurrent layers.\n",
    "    - `n_class` is the number of classes to predict, or the shape of the output layer.\n",
    "    - `optimiser` is the optimiser to use.\n",
    "    - `lr` is the learning rate for the optimiser.\n",
    "\n",
    "2. You will need to use the [adapt()](https://www.tensorflow.org/api_docs/python/tf/keras/layers/TextVectorization#adapt) method on the vectorisation layer instead of explicitly setting a vocabulary.\n",
    "\n",
    "3. You should make sure your function creates an LSTM based model with all of the possible combinations (4) for bi-directionality and stacked architectures, or neither.\n",
    "\n",
    "4. You can manually create an optimiser using the [get()](https://www.tensorflow.org/api_docs/python/tf/keras/optimizers/get) function to retrieve an optimiser by its name. Then manually set its learning rate.\n",
    "\n",
    "3. Once all the layers are implemented the function should compile the model with the given optimiser and return it.\n",
    "\n",
    "<b>MARKS AVAILABLE: 5</b>\n",
    "<br>\n",
    "<b>MO1</b>\n",
    "</div>"
   ]
  },
  {
   "cell_type": "code",
   "execution_count": 10,
   "metadata": {
    "deletable": false,
    "nbgrader": {
     "cell_type": "code",
     "checksum": "b96bf7050ac2ad616444280fed93da7d",
     "grade": false,
     "grade_id": "cell-6c5e85516612a6a1",
     "locked": false,
     "schema_version": 3,
     "solution": true,
     "task": false
    }
   },
   "outputs": [],
   "source": [
    "def build_model(input_data, max_seq_len, embed_matrix, units=32, bi_dir=False, stacked=False, n_class=1, optimiser='adam', lr=0.001):\n",
    "    \"\"\"Builds a LSTM model with the given parameters.\n",
    "    \n",
    "    Arguments:\n",
    "        input_data (np.array): The training set inputs\n",
    "        max_seq_len (int): The maximum sequence length\n",
    "        embed_matrix (np.array): An embedding matrix\n",
    "        units (int): The number of LSTM units\n",
    "        bi_dir (bool): Whether to use a bidirectional LSTM\n",
    "        stacked (bool): Whether to use a stacked LSTM\n",
    "        n_class (int): The number of classes to predict\n",
    "        optimiser (str): The optimiser to use\n",
    "        lr (str): The optimiser learning rate to use\n",
    "    \"\"\"\n",
    "    # YOUR CODE HERE\n",
    "    # Input layer\n",
    "    inputs = tf.keras.Input(shape=(1,), dtype=tf.string)\n",
    "\n",
    "    # Vectorization layer\n",
    "    vectorize_layer = layers.TextVectorization(\n",
    "        standardize=None,\n",
    "        split='whitespace',\n",
    "        output_mode='int',\n",
    "        output_sequence_length=max_seq_len,\n",
    "        max_tokens=embed_matrix.shape[0] - 2  # OOV tokens\n",
    "    )\n",
    "    vectorize_layer.adapt(input_data)\n",
    "    vectorized = vectorize_layer(inputs)\n",
    "\n",
    "    # Embedding layer\n",
    "    embedding_layer = layers.Embedding(\n",
    "        input_dim=embed_matrix.shape[0],\n",
    "        output_dim=embed_matrix.shape[1],\n",
    "        embeddings_initializer=tf.keras.initializers.Constant(embed_matrix),\n",
    "        mask_zero=True\n",
    "    )\n",
    "    embedded = embedding_layer(vectorized)\n",
    "\n",
    "    # LSTM layers\n",
    "    x = embedded\n",
    "    if stacked:\n",
    "        # First LSTM layer returns sequences for the next layer\n",
    "        if bi_dir:\n",
    "            lstm = layers.Bidirectional(layers.LSTM(units, return_sequences=True))\n",
    "        else:\n",
    "            lstm = layers.LSTM(units, return_sequences=True)\n",
    "        x = lstm(x)\n",
    "\n",
    "        # Second LSTM layer returns only the last output\n",
    "        if bi_dir:\n",
    "            lstm = layers.Bidirectional(layers.LSTM(units, return_sequences=False))\n",
    "        else:\n",
    "            lstm = layers.LSTM(units, return_sequences=False)\n",
    "        x = lstm(x)\n",
    "    else:\n",
    "        # Single LSTM layer\n",
    "        if bi_dir:\n",
    "            lstm = layers.Bidirectional(layers.LSTM(units, return_sequences=False))\n",
    "        else:\n",
    "            lstm = layers.LSTM(units, return_sequences=False)\n",
    "        x = lstm(x)\n",
    "\n",
    "    # Output layer\n",
    "    outputs = layers.Dense(n_class, activation='sigmoid')(x)\n",
    "\n",
    "    # Create and compile the model\n",
    "    model = tf.keras.Model(inputs=inputs, outputs=outputs)\n",
    "    opt = tf.keras.optimizers.get(optimiser)\n",
    "    opt.learning_rate = lr\n",
    "    model.compile(optimizer=opt, loss='binary_crossentropy', metrics=['accuracy'])\n",
    "    \n",
    "    return model"
   ]
  },
  {
   "cell_type": "code",
   "execution_count": 11,
   "metadata": {
    "deletable": false,
    "editable": false,
    "nbgrader": {
     "cell_type": "code",
     "checksum": "34c98e78b9d617e6d50f1c4f7ef42943",
     "grade": true,
     "grade_id": "cell-22022773b1e5583b",
     "locked": true,
     "points": 3,
     "schema_version": 3,
     "solution": false,
     "task": false
    }
   },
   "outputs": [
    {
     "name": "stdout",
     "output_type": "stream",
     "text": [
      "All tests passed!\n"
     ]
    }
   ],
   "source": [
    "# Test cell (3 marks)\n",
    "\n",
    "# Create a model using the build_model function\n",
    "seq_len = 100\n",
    "embed_dim = 50\n",
    "embed_matrix = np.random.rand(2000, embed_dim)\n",
    "model = build_model(X_train, seq_len, embed_matrix, units=32, bi_dir=False, stacked=False, n_class=1, optimiser='adam', lr=0.001)\n",
    "\n",
    "# Test the model is a functional model\n",
    "assert str(type(model)) == \"<class 'keras.src.models.functional.Functional'>\", 'Model should be a Functional Model'\n",
    "\n",
    "# Test the number of layers\n",
    "assert len(model.layers) == 5, 'Model should have 5 layers'\n",
    "\n",
    "# Test the size of the input shape\n",
    "assert model.input_shape == (None, 1), 'Input shape should be (None, 1)'\n",
    "\n",
    "# Test the sequence length and embedding dimension\n",
    "assert model.layers[2].output.shape == (None, seq_len, embed_dim), f'Embedding layer output shape should be (None, {seq_len}, {embed_dim})'\n",
    "\n",
    "# Test the number of units\n",
    "assert model.layers[3].units == 32, 'LSTM layer should have 32 units'\n",
    "\n",
    "# Test the lstm is not bidirectional\n",
    "assert not isinstance(model.layers[3], layers.Bidirectional), 'LSTM layer should not be bidirectional'\n",
    "\n",
    "# Test the classification layer\n",
    "assert model.layers[4].units == 1, 'Classification layer should have 1 unit'\n",
    "\n",
    "# Test the optimiser\n",
    "assert isinstance(model.optimizer, tf.keras.optimizers.Adam), 'Model should use the Adam optimiser'\n",
    "\n",
    "# Test the learning rate\n",
    "assert model.optimizer.learning_rate == 0.001, 'Model should use a learning rate of 0.001'\n",
    "\n",
    "print('All tests passed!')"
   ]
  },
  {
   "cell_type": "code",
   "execution_count": null,
   "metadata": {
    "deletable": false,
    "editable": false,
    "nbgrader": {
     "cell_type": "code",
     "checksum": "c2f1a5cbcf88bf851713be5b2001ac7f",
     "grade": true,
     "grade_id": "cell-209303f3215d766d",
     "locked": true,
     "points": 2,
     "schema_version": 3,
     "solution": false,
     "task": false
    }
   },
   "outputs": [],
   "source": [
    "# Hidden test cell (2 marks)\n",
    "# Tests all parameters of the build_model function including the bidirectional and stacked LSTM options\n"
   ]
  },
  {
   "cell_type": "markdown",
   "metadata": {
    "deletable": false,
    "editable": false,
    "nbgrader": {
     "cell_type": "markdown",
     "checksum": "a4147f213f95d0f0e59a0ea471063bc1",
     "grade": false,
     "grade_id": "cell-eeec9f264f13c08e",
     "locked": true,
     "schema_version": 3,
     "solution": false,
     "task": false
    }
   },
   "source": [
    "<div class=\"alert alert-success\" style=\"color:black\"><h3>Before you submit this notebook to NBGrader for marking:</h3> \n",
    "\n",
    "1. Make sure have completed all exercises marked by <span style=\"color:blue\">**blue cells**</span>.\n",
    "2. For automatically marked exercises ensure you have completed any cells with `# YOUR CODE HERE`. Then click 'Validate' button above, or ensure all cells run without producing an error.\n",
    "3. For manually marked exercises ensure you have completed any cells with `\"YOUR ANSWER HERE\"`.\n",
    "4. Ensure all cells are run with their output visible.\n",
    "5. Fill in your student ID (**only**) below.\n",
    "6. You should now **save and download** your work.\n",
    "\n",
    "</div>"
   ]
  },
  {
   "cell_type": "markdown",
   "metadata": {},
   "source": [
    "**Student ID:** 15006280\n"
   ]
  }
 ],
 "metadata": {
  "kernelspec": {
   "display_name": "adv_ai",
   "language": "python",
   "name": "adv_ai"
  },
  "language_info": {
   "codemirror_mode": {
    "name": "ipython",
    "version": 3
   },
   "file_extension": ".py",
   "mimetype": "text/x-python",
   "name": "python",
   "nbconvert_exporter": "python",
   "pygments_lexer": "ipython3",
   "version": "3.11.9"
  }
 },
 "nbformat": 4,
 "nbformat_minor": 4
}
