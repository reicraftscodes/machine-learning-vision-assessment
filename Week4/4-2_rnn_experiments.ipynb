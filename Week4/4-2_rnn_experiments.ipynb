{
 "cells": [
  {
   "cell_type": "markdown",
   "metadata": {
    "deletable": false,
    "editable": false,
    "nbgrader": {
     "cell_type": "markdown",
     "checksum": "5506a394b883d84b05208ef577aba703",
     "grade": false,
     "grade_id": "cell-8708c164a160bace",
     "locked": true,
     "schema_version": 3,
     "solution": false,
     "task": false
    }
   },
   "source": [
    "<div class=\"alert alert-danger\" style=\"color:black\"><b>Running ML-LV Jupyter Notebooks:</b><br>\n",
    "    <ol>\n",
    "        <li>Make sure you are running all notebooks using the <code>adv_ai</code> kernel.\n",
    "        <li><b>It is very important that you do not create any additional files within the weekly folders on CSCT cloud.</b> Any additional files, or editing the notebooks with a different environment may prevent submission/marking of your work.</li>\n",
    "            <ul>\n",
    "                <li>NBGrader will automatically fetch and create the correct folders files for you.</li>\n",
    "                <li>All files that are not the Jupyter notebooks should be stored in the 'ML-LV/data' directory.</li>\n",
    "            </ul>\n",
    "        <li>Please <b>do not pip install</b> any python packages (or anything else). You should not need to install anything to complete these notebooks other than the packages provided in the Jupyter CSCT Cloud environment.</li>\n",
    "    </ol>\n",
    "    <b>If you would like to run this notebook locally you should:</b><br>\n",
    "    <ol>\n",
    "        <li>Create an environment using the requirements.txt file provided. <b>Any additional packages you install will not be accessible when uploaded to the server and may prevent marking.</b></li>\n",
    "        <li>Download a copy  of the notebook to your own machine. You can then edit the cells as you wish and then go back and copy the code into/edit the ones on the CSCT cloud in-place.</li>\n",
    "        <li><b>It is very important that you do not re-upload any notebooks that you have edited locally.</b> This is because NBGrader uses cell metadata to track marked tasks. <b>If you change this format it may prevent marking.</b></li>\n",
    "    </ol>\n",
    "</div>"
   ]
  },
  {
   "cell_type": "markdown",
   "metadata": {
    "deletable": false,
    "editable": false,
    "nbgrader": {
     "cell_type": "markdown",
     "checksum": "47de26ab8272f88b941647cc48eba8ee",
     "grade": false,
     "grade_id": "cell-c3d9f602d99d2b09",
     "locked": true,
     "schema_version": 3,
     "solution": false,
     "task": false
    }
   },
   "source": [
    "# 2 Experimenting with RNN\n",
    "\n",
    "## 2.0 Import libraries\n",
    "\n",
    "1. [Comet ML](https://www.comet.com/) - is an experiment and model tracking API which allows easy logging of model hyperparameters and experiment metrics."
   ]
  },
  {
   "cell_type": "code",
   "execution_count": 1,
   "metadata": {
    "tags": []
   },
   "outputs": [],
   "source": [
    "import os\n",
    "os.environ['TF_CPP_MIN_LOG_LEVEL'] = '3'  # Suppress Tensorflow messages\n",
    "import spacy\n",
    "import comet_ml\n",
    "import numpy as np\n",
    "import pandas as pd\n",
    "import matplotlib.pyplot as plt\n",
    "from gensim.models import Word2Vec\n",
    "import tensorflow as tf\n",
    "from tensorflow.keras import layers\n",
    "from sklearn.model_selection import train_test_split\n",
    "from sklearn.metrics import accuracy_score, ConfusionMatrixDisplay\n",
    "%matplotlib inline\n",
    "\n",
    "# Get the status of NBgrader (for skipping cell execution while validating/grading)\n",
    "grading = True if os.getenv('NBGRADER_EXECUTION') else False\n",
    "\n",
    "# Set seaborn style for matplotlib plots\n",
    "plt.style.use('seaborn-v0_8-white')\n",
    "\n",
    "# Get the project directory (should be in ML-LV)\n",
    "path = ''\n",
    "while os.path.basename(os.path.abspath(path)) != 'ML-LV':\n",
    "    path = os.path.abspath(os.path.join(path, '..'))\n",
    "\n",
    "# Set the directory to the data folder (should be in ML-LV/data/imdb)\n",
    "data_dir = os.path.join(path, 'data', 'imdb')\n",
    "\n",
    "# Set the directory to the shared dataset folder (should be in shared/datasets/imdb)\n",
    "dataset_dir = os.path.join(path, '..', 'shared', 'datasets', 'imdb')\n",
    "\n",
    "# Set the directory to the shared models folder (should be in shared/models/imdb)\n",
    "model_dir = os.path.join(path, '..', 'shared', 'models', 'imdb')\n",
    "\n",
    "# Load the Spacy language model ('en_core_web_md' should be in shared/models/spacy)\n",
    "nlp = spacy.load(os.path.join(path, '..', 'shared', 'models', 'spacy'))"
   ]
  },
  {
   "cell_type": "markdown",
   "metadata": {
    "deletable": false,
    "editable": false,
    "nbgrader": {
     "cell_type": "markdown",
     "checksum": "1932d4dea826518ab7d6c61d8a682d37",
     "grade": false,
     "grade_id": "cell-2b846e1448d2351c",
     "locked": true,
     "schema_version": 3,
     "solution": false,
     "task": false
    }
   },
   "source": [
    "## 2.1 Load and pre-process data"
   ]
  },
  {
   "cell_type": "code",
   "execution_count": 2,
   "metadata": {
    "tags": []
   },
   "outputs": [
    {
     "data": {
      "text/html": [
       "<div>\n",
       "<style scoped>\n",
       "    .dataframe tbody tr th:only-of-type {\n",
       "        vertical-align: middle;\n",
       "    }\n",
       "\n",
       "    .dataframe tbody tr th {\n",
       "        vertical-align: top;\n",
       "    }\n",
       "\n",
       "    .dataframe thead th {\n",
       "        text-align: right;\n",
       "    }\n",
       "</style>\n",
       "<table border=\"1\" class=\"dataframe\">\n",
       "  <thead>\n",
       "    <tr style=\"text-align: right;\">\n",
       "      <th></th>\n",
       "      <th>review</th>\n",
       "      <th>sentiment</th>\n",
       "    </tr>\n",
       "  </thead>\n",
       "  <tbody>\n",
       "    <tr>\n",
       "      <th>0</th>\n",
       "      <td>one of the other reviewers has mentioned that ...</td>\n",
       "      <td>1</td>\n",
       "    </tr>\n",
       "    <tr>\n",
       "      <th>1</th>\n",
       "      <td>a wonderful little production the filming tech...</td>\n",
       "      <td>1</td>\n",
       "    </tr>\n",
       "    <tr>\n",
       "      <th>2</th>\n",
       "      <td>i thought this was a wonderful way to spend ti...</td>\n",
       "      <td>1</td>\n",
       "    </tr>\n",
       "    <tr>\n",
       "      <th>3</th>\n",
       "      <td>basically there is a family where a little boy...</td>\n",
       "      <td>0</td>\n",
       "    </tr>\n",
       "    <tr>\n",
       "      <th>4</th>\n",
       "      <td>petter mattei s love in the time of money is a...</td>\n",
       "      <td>1</td>\n",
       "    </tr>\n",
       "  </tbody>\n",
       "</table>\n",
       "</div>"
      ],
      "text/plain": [
       "                                              review  sentiment\n",
       "0  one of the other reviewers has mentioned that ...          1\n",
       "1  a wonderful little production the filming tech...          1\n",
       "2  i thought this was a wonderful way to spend ti...          1\n",
       "3  basically there is a family where a little boy...          0\n",
       "4  petter mattei s love in the time of money is a...          1"
      ]
     },
     "execution_count": 2,
     "metadata": {},
     "output_type": "execute_result"
    }
   ],
   "source": [
    "# Load the imdb dataset\n",
    "imdb_data = pd.read_csv(os.path.join(dataset_dir, 'imdb_dataset.csv'))\n",
    "\n",
    "# Load your imdb reviews\n",
    "imdb_reviews = pd.read_csv(os.path.join(data_dir, 'imdb_reviews.csv'))\n",
    "\n",
    "# Convert the sentiment to a binary value\n",
    "imdb_data['sentiment'] = pd.get_dummies(imdb_data['sentiment'], drop_first=True)\n",
    "imdb_reviews['sentiment'] = pd.get_dummies(imdb_reviews['sentiment'], drop_first=True)\n",
    "\n",
    "imdb_data.head()"
   ]
  },
  {
   "cell_type": "markdown",
   "metadata": {
    "deletable": false,
    "editable": false,
    "nbgrader": {
     "cell_type": "markdown",
     "checksum": "2fbdcde921a7063e24fc67a917453356",
     "grade": false,
     "grade_id": "cell-d34b9c17a1f6d68c",
     "locked": true,
     "schema_version": 3,
     "solution": false,
     "task": false
    }
   },
   "source": [
    "### Load the vocabulary"
   ]
  },
  {
   "cell_type": "code",
   "execution_count": 3,
   "metadata": {
    "tags": []
   },
   "outputs": [
    {
     "name": "stdout",
     "output_type": "stream",
     "text": [
      "Vocabulary size: 2000\n",
      "(0, the) (1, and) (2, a) (3, of) (4, is) (5, to) (6, it) (7, in) (8, i) (9, this) (10, that) (11, not) (12, was) (13, as) (14, movie) (15, for) (16, with) (17, but) (18, film) (19, you) (20, on) (21, are) (22, have) (23, s) (24, he) (25, his) (26, one) (27, be) (28, all) (29, at) (30, they) (31, by) (32, an) (33, who) (34, so) (35, from) (36, like) (37, there) (38, or) (39, do) (40, just) (41, her) (42, out) (43, about) (44, if) (45, has) (46, what) (47, can) (48, would) (49, some) "
     ]
    }
   ],
   "source": [
    "# Load the vocabulary file and store each word in a list\n",
    "with open(os.path.join(dataset_dir, 'imdb_vocab.txt'), 'r') as file:\n",
    "    imdb_vocab = file.read().splitlines() \n",
    "\n",
    "# Set the vocab size\n",
    "vocab_size = 2000\n",
    "imdb_vocab = imdb_vocab[:vocab_size]\n",
    "\n",
    "# Print the vocabulary\n",
    "print(f\"Vocabulary size: {len(imdb_vocab)}\")\n",
    "for i, word in enumerate(imdb_vocab[:50]):\n",
    "    print(f'({str(i)}, {word})', end=' ')"
   ]
  },
  {
   "cell_type": "markdown",
   "metadata": {
    "deletable": false,
    "editable": false,
    "nbgrader": {
     "cell_type": "markdown",
     "checksum": "5ee6d55122e88fabbf79b5eb2655ef41",
     "grade": false,
     "grade_id": "cell-fa3c0b568e0344a9",
     "locked": true,
     "schema_version": 3,
     "solution": false,
     "task": false
    }
   },
   "source": [
    "### Process the text"
   ]
  },
  {
   "cell_type": "code",
   "execution_count": 4,
   "metadata": {
    "tags": []
   },
   "outputs": [
    {
     "name": "stdout",
     "output_type": "stream",
     "text": [
      "Shape of X: (50000,)\n",
      "['one of the other reviewers has mentioned that after watching just 1 oz episode you will be hooked they are right as this is exactly what happened with me the first thing that struck me about oz was its brutality and unflinching scenes of violence which set in right from the word go trust me this is not a show for the faint hearted or timid this show pulls no punches with regards to drugs sex or violence its is hardcore in the classic use of the word it is called oz as that is the nickname given to the oswald maximum security state penitentary it focuses mainly on emerald city an experimental section of the prison where all the cells have glass fronts and face inwards so privacy is not high on the agenda them city is home to many aryans muslims gangstas latinos christians italians irish and more so scuffles death stares dodgy dealings and shady agreements are never far away i would say the main appeal of the show is due to the fact that it goes where other shows would not dare forget pretty pictures painted for mainstream audiences forget charm forget romance oz does not mess around the first episode i ever saw struck me as so nasty it was surreal i could not say i was ready for it but as i watched more i developed a taste for oz and got accustomed to the high levels of graphic violence not just violence but injustice crooked guards who will be sold out for a nickel inmates who will kill on order and get away with it well mannered middle class inmates being turned into prison bitches due to their lack of street skills or prison experience watching oz you may become comfortable with what is uncomfortable viewing that is if you can get in touch with your darker side'\n",
      " 'a wonderful little production the filming technique is very unassuming very old time bbc fashion and gives a comforting and sometimes discomforting sense of realism to the entire piece the actors are extremely well chosen michael sheen not only has got all the polari but he has all the voices down pat too you can truly see the seamless editing guided by the references to williams diary entries not only is it well worth the watching but it is a terrificly written and performed piece a masterful production about one of the great master s of comedy and his life the realism really comes home with the little things the fantasy of the guard which rather than use the traditional dream techniques remains solid then disappears it plays on our knowledge and our senses particularly with the scenes concerning orton and halliwell and the sets particularly of their flat with halliwell s murals decorating every surface are terribly well done'\n",
      " 'i thought this was a wonderful way to spend time on a too hot summer weekend sitting in the air conditioned theater and watching a light hearted comedy the plot is simplistic but the dialogue is witty and the characters are likable even the well bread suspected serial killer while some may be disappointed when they realize this is not match point 2 risk addiction i thought it was proof that woody allen is still fully in control of the style many of us have grown to love this was the most i would laughed at one of woody s comedies in years dare i say a decade while i have never been impressed with scarlet johanson in this she managed to tone down her sexy image and jumped right into a average but spirited young woman this may not be the crown jewel of his career but it was wittier than devil wears prada and more interesting than superman a great comedy to go see with friends'\n",
      " 'basically there is a family where a little boy jake thinks there is a zombie in his closet his parents are fighting all the time this movie is slower than a soap opera and suddenly jake decides to become rambo and kill the zombie ok first of all when you are going to make a film you must decide if its a thriller or a drama as a drama the movie is watchable parents are divorcing arguing like in real life and then we have jake with his closet which totally ruins all the film i expected to see a boogeyman similar movie and instead i watched a drama with some meaningless thriller spots 3 out of 10 just for the well playing parents descent dialogs as for the shots with jake just ignore them'\n",
      " 'petter mattei s love in the time of money is a visually stunning film to watch mr mattei offers us a vivid portrait about human relations this is a movie that seems to be telling us what money power and success do to people in the different situations we encounter this being a variation on the arthur schnitzler s play about the same theme the director transfers the action to the present time new york where all these different characters meet and connect each one is connected in one way or another to the next person but no one seems to know the previous point of contact stylishly the film has a sophisticated luxurious look we are taken to see how these people live and the world they live in their own habitat the only thing one gets out of all these souls in the picture is the different stages of loneliness each one inhabits a big city is not exactly the best place in which human relations find sincere fulfillment as one discerns is the case with most of the people we encounter the acting is good under mr mattei s direction steve buscemi rosario dawson carol kane michael imperioli adrian grenier and the rest of the talented cast make these characters come alive we wish mr mattei good luck and await anxiously for his next work']\n",
      "Shape of y: (50000,)\n",
      "[1 1 1 0 1]\n"
     ]
    }
   ],
   "source": [
    "# Set the maximum sequence length\n",
    "max_seq_len = 200\n",
    "\n",
    "# Get the reviews\n",
    "X = imdb_data['review'].values\n",
    "print(f'Shape of X: {X.shape}')\n",
    "print(X[:5])\n",
    "\n",
    "# Get the class labels\n",
    "y = imdb_data['sentiment'].values\n",
    "print(f'Shape of y: {y.shape}')\n",
    "print(y[:5])\n",
    "\n",
    "# Split the data into training and validation sets\n",
    "X_train, X_val, y_train, y_val = train_test_split(X, y, test_size=0.2, random_state=42)\n",
    "\n",
    "# Get the test data\n",
    "X_test = imdb_reviews['review'].values\n",
    "y_test = imdb_reviews['sentiment'].values"
   ]
  },
  {
   "cell_type": "markdown",
   "metadata": {
    "deletable": false,
    "editable": false,
    "nbgrader": {
     "cell_type": "markdown",
     "checksum": "72f0c3468ab40b96fed61715012e50b5",
     "grade": false,
     "grade_id": "cell-0d89df32f249e6bb",
     "locked": true,
     "schema_version": 3,
     "solution": false,
     "task": false
    }
   },
   "source": [
    "### Create an embedding matrix"
   ]
  },
  {
   "cell_type": "code",
   "execution_count": 5,
   "metadata": {
    "tags": []
   },
   "outputs": [
    {
     "name": "stdout",
     "output_type": "stream",
     "text": [
      "Shape of embeddings: (2000, 50)\n",
      "[[ 0.          0.          0.         ...  0.          0.\n",
      "   0.        ]\n",
      " [ 0.          0.          0.         ...  0.          0.\n",
      "   0.        ]\n",
      " [ 0.          0.          0.         ...  0.          0.\n",
      "   0.        ]\n",
      " ...\n",
      " [-0.00894076 -0.12877092 -0.04895075 ...  0.14032619  0.10201658\n",
      "   0.34646019]\n",
      " [ 0.17975898  0.03691994 -0.0170421  ...  0.11182626 -0.01342651\n",
      "   0.08303089]\n",
      " [ 0.20864272 -0.06361175 -0.23851547 ...  0.11337754  0.2491575\n",
      "   0.01783207]]\n"
     ]
    }
   ],
   "source": [
    "# Set the embedding dimension\n",
    "embedding_dim = 50\n",
    "\n",
    "# Load the word embeddings\n",
    "w2v_model = Word2Vec.load(os.path.join(model_dir, 'imdb_w2v.model'))\n",
    "\n",
    "# Generate the embedding matrix\n",
    "embedding_matrix = np.zeros((vocab_size, embedding_dim))\n",
    "for i, word in enumerate(imdb_vocab):\n",
    "    if word in w2v_model.wv.key_to_index:\n",
    "        embedding_matrix[i] = w2v_model.wv.get_vector(word)[:embedding_dim]\n",
    "\n",
    "# Show the embedding matrix\n",
    "print(f\"Shape of embeddings: {embedding_matrix.shape}\")\n",
    "print(embedding_matrix)"
   ]
  },
  {
   "cell_type": "code",
   "execution_count": 6,
   "metadata": {},
   "outputs": [],
   "source": [
    "def build_model(input_data, max_seq_len, embed_matrix, units=32, bi_dir=False, stacked=False, n_class=1, optimiser='adam', lr=0.001):\n",
    "    \"\"\"Builds a LSTM model with the given parameters.\n",
    "    \n",
    "    Arguments:\n",
    "        input_data (np.array): The training set inputs\n",
    "        max_seq_len (int): The maximum sequence length\n",
    "        embed_matrix (np.array): An embedding matrix\n",
    "        units (int): The number of LSTM units\n",
    "        bi_dir (bool): Whether to use a bidirectional LSTM\n",
    "        stacked (bool): Whether to use a stacked LSTM\n",
    "        n_class (int): The number of classes to predict\n",
    "        optimiser (str): The optimiser to use\n",
    "        lr (str): The optimiser learning rate to use\n",
    "    \"\"\"\n",
    "    # Add your code from exercise 1.3 here\n",
    "    # Input layer\n",
    "    inputs = tf.keras.Input(shape=(1,), dtype=tf.string)\n",
    "\n",
    "    # Vectorization layer\n",
    "    vectorize_layer = layers.TextVectorization(\n",
    "        standardize=None,\n",
    "        split='whitespace',\n",
    "        output_mode='int',\n",
    "        output_sequence_length=max_seq_len,\n",
    "        max_tokens=embed_matrix.shape[0] - 2  # OOV tokens\n",
    "    )\n",
    "    vectorize_layer.adapt(input_data)\n",
    "    vectorized = vectorize_layer(inputs)\n",
    "\n",
    "    # Embedding layer\n",
    "    embedding_layer = layers.Embedding(\n",
    "        input_dim=embed_matrix.shape[0],\n",
    "        output_dim=embed_matrix.shape[1],\n",
    "        embeddings_initializer=tf.keras.initializers.Constant(embed_matrix),\n",
    "        mask_zero=True\n",
    "    )\n",
    "    embedded = embedding_layer(vectorized)\n",
    "\n",
    "    # LSTM layers\n",
    "    x = embedded\n",
    "    if stacked:\n",
    "        # First LSTM layer returns sequences for the next layer\n",
    "        if bi_dir:\n",
    "            lstm = layers.Bidirectional(layers.LSTM(units, return_sequences=True))\n",
    "        else:\n",
    "            lstm = layers.LSTM(units, return_sequences=True)\n",
    "        x = lstm(x)\n",
    "\n",
    "        # Second LSTM layer returns only the last output\n",
    "        if bi_dir:\n",
    "            lstm = layers.Bidirectional(layers.LSTM(units, return_sequences=False))\n",
    "        else:\n",
    "            lstm = layers.LSTM(units, return_sequences=False)\n",
    "        x = lstm(x)\n",
    "    else:\n",
    "        # Single LSTM layer\n",
    "        if bi_dir:\n",
    "            lstm = layers.Bidirectional(layers.LSTM(units, return_sequences=False))\n",
    "        else:\n",
    "            lstm = layers.LSTM(units, return_sequences=False)\n",
    "        x = lstm(x)\n",
    "\n",
    "    # Output layer\n",
    "    outputs = layers.Dense(n_class, activation='sigmoid')(x)\n",
    "\n",
    "    # Create and compile the model\n",
    "    model = tf.keras.Model(inputs=inputs, outputs=outputs)\n",
    "    opt = tf.keras.optimizers.get(optimiser)\n",
    "    opt.learning_rate = lr\n",
    "    model.compile(optimizer=opt, loss='binary_crossentropy', metrics=['accuracy'])\n",
    "    \n",
    "    return model"
   ]
  },
  {
   "cell_type": "markdown",
   "metadata": {
    "deletable": false,
    "editable": false,
    "nbgrader": {
     "cell_type": "markdown",
     "checksum": "5a7e67334ea17e0bc3bee38f08f83bb8",
     "grade": false,
     "grade_id": "cell-b998626f04f04176",
     "locked": true,
     "schema_version": 3,
     "solution": false,
     "task": false
    },
    "tags": []
   },
   "source": [
    "<div class=\"alert alert-info\" style=\"color:black\"><h2>2.2 Exercise: Experiment with Comet ML</h2>\n",
    "\n",
    "Now we will experiment with some different LSTM model architectures and hyperparameters but we will use [Comet ML](https://www.comet.com/site/) to log the training metrics and model hyperparameters. This will allow us to compare the impact of different models and different hyperparamters on the sentiment classification task. Comet allows you to track models, experiments and also produce graphs for comparison.\n",
    "\n",
    "Working in small groups of 2 to 4 to complete the following:\n",
    "\n",
    "1. You will need a Comet ML account and ideally to have created a project. Once you have an account you will need your API key. A guide can be found [here](https://www.comet.com/docs/v2/guides/getting-started/quickstart/). You should be able to provide access to a Comet project for all members of the group, so that everyone can log experiments.\n",
    "\n",
    "2. The first two lines below create a comet experiment object that will be used to track the training and log metrics/parameters. You need the API key and to provide a project name. Then we can also provide a name for this experiment.\n",
    "\n",
    "3. Next some experiment and model hyperparameters are set within a dictionary. These can be any relevant values but for now we have one pre-processing parameter (`max_seq_len`), several model hyperparameters and some training parameters (`batch_size` and `epochs`).\n",
    "\n",
    "4. Build the model using the function you created in 1.3 (you can extend it if you wish), except use the parameters defined within the dictionary.\n",
    "\n",
    "5. Then, try experimenting with a few different architectures and hyperparameters to evaluate the impact on classification accuracy. Individually you could each explore the impact of different experiment parameters and then use Comet to compare results e.g. one person explores sequence lengths, another model hyperparameters, optimisers and learning rates and so on.\n",
    "\n",
    "6. Once you have a decent number of experiments/results (10 to 20 is fine) create a short report in Comet ML to present your findings. You can find a template to get you started [here](https://www.comet.com/nathanduran/imdb-sentiment-analysis/reports/hyperparameter-search). Make sure it includes some informative graphs/visualisations!\n",
    "\n",
    "</div>"
   ]
  },
  {
   "cell_type": "code",
   "execution_count": 7,
   "metadata": {
    "tags": []
   },
   "outputs": [],
   "source": [
    "# Authenticate the user with the Comet.ml API using login\n",
    "# then Comet will asked you to input API key\n",
    "comet_ml.login()"
   ]
  },
  {
   "cell_type": "code",
   "execution_count": 10,
   "metadata": {
    "tags": []
   },
   "outputs": [
    {
     "name": "stderr",
     "output_type": "stream",
     "text": [
      "\u001b[1;38;5;214mCOMET WARNING:\u001b[0m To get all data logged automatically, import comet_ml before the following modules: tensorflow, keras.\n",
      "\u001b[1;38;5;214mCOMET WARNING:\u001b[0m As you are running in a Jupyter environment, you will need to call `experiment.end()` when finished to ensure all metrics and code are logged before exiting.\n",
      "\u001b[1;38;5;39mCOMET INFO:\u001b[0m Experiment is live on comet.com https://www.comet.com/reicraftscodes/imdb-sentiment-analysis/d170a177fbd744c5a19d9ded72688e9f\n",
      "\n",
      "\u001b[1;38;5;39mCOMET INFO:\u001b[0m Couldn't find a Git repository in '/home/jovyan/ML-LV/Week4' nor in any parent directory. Set `COMET_GIT_DIRECTORY` if your Git Repository is elsewhere.\n"
     ]
    },
    {
     "data": {
      "text/html": [
       "<pre style=\"white-space:pre;overflow-x:auto;line-height:normal;font-family:Menlo,'DejaVu Sans Mono',consolas,'Courier New',monospace\"><span style=\"font-weight: bold\">Model: \"functional\"</span>\n",
       "</pre>\n"
      ],
      "text/plain": [
       "\u001b[1mModel: \"functional\"\u001b[0m\n"
      ]
     },
     "metadata": {},
     "output_type": "display_data"
    },
    {
     "data": {
      "text/html": [
       "<pre style=\"white-space:pre;overflow-x:auto;line-height:normal;font-family:Menlo,'DejaVu Sans Mono',consolas,'Courier New',monospace\">┏━━━━━━━━━━━━━━━━━━━━━┳━━━━━━━━━━━━━━━━━━━┳━━━━━━━━━━━━┳━━━━━━━━━━━━━━━━━━━┓\n",
       "┃<span style=\"font-weight: bold\"> Layer (type)        </span>┃<span style=\"font-weight: bold\"> Output Shape      </span>┃<span style=\"font-weight: bold\">    Param # </span>┃<span style=\"font-weight: bold\"> Connected to      </span>┃\n",
       "┡━━━━━━━━━━━━━━━━━━━━━╇━━━━━━━━━━━━━━━━━━━╇━━━━━━━━━━━━╇━━━━━━━━━━━━━━━━━━━┩\n",
       "│ input_layer         │ (<span style=\"color: #00d7ff; text-decoration-color: #00d7ff\">None</span>, <span style=\"color: #00af00; text-decoration-color: #00af00\">1</span>)         │          <span style=\"color: #00af00; text-decoration-color: #00af00\">0</span> │ -                 │\n",
       "│ (<span style=\"color: #0087ff; text-decoration-color: #0087ff\">InputLayer</span>)        │                   │            │                   │\n",
       "├─────────────────────┼───────────────────┼────────────┼───────────────────┤\n",
       "│ text_vectorization  │ (<span style=\"color: #00d7ff; text-decoration-color: #00d7ff\">None</span>, <span style=\"color: #00af00; text-decoration-color: #00af00\">200</span>)       │          <span style=\"color: #00af00; text-decoration-color: #00af00\">0</span> │ input_layer[<span style=\"color: #00af00; text-decoration-color: #00af00\">0</span>][<span style=\"color: #00af00; text-decoration-color: #00af00\">0</span>] │\n",
       "│ (<span style=\"color: #0087ff; text-decoration-color: #0087ff\">TextVectorization</span>) │                   │            │                   │\n",
       "├─────────────────────┼───────────────────┼────────────┼───────────────────┤\n",
       "│ embedding           │ (<span style=\"color: #00d7ff; text-decoration-color: #00d7ff\">None</span>, <span style=\"color: #00af00; text-decoration-color: #00af00\">200</span>, <span style=\"color: #00af00; text-decoration-color: #00af00\">50</span>)   │    <span style=\"color: #00af00; text-decoration-color: #00af00\">100,000</span> │ text_vectorizati… │\n",
       "│ (<span style=\"color: #0087ff; text-decoration-color: #0087ff\">Embedding</span>)         │                   │            │                   │\n",
       "├─────────────────────┼───────────────────┼────────────┼───────────────────┤\n",
       "│ not_equal           │ (<span style=\"color: #00d7ff; text-decoration-color: #00d7ff\">None</span>, <span style=\"color: #00af00; text-decoration-color: #00af00\">200</span>)       │          <span style=\"color: #00af00; text-decoration-color: #00af00\">0</span> │ text_vectorizati… │\n",
       "│ (<span style=\"color: #0087ff; text-decoration-color: #0087ff\">NotEqual</span>)          │                   │            │                   │\n",
       "├─────────────────────┼───────────────────┼────────────┼───────────────────┤\n",
       "│ lstm (<span style=\"color: #0087ff; text-decoration-color: #0087ff\">LSTM</span>)         │ (<span style=\"color: #00d7ff; text-decoration-color: #00d7ff\">None</span>, <span style=\"color: #00af00; text-decoration-color: #00af00\">32</span>)        │     <span style=\"color: #00af00; text-decoration-color: #00af00\">10,624</span> │ embedding[<span style=\"color: #00af00; text-decoration-color: #00af00\">0</span>][<span style=\"color: #00af00; text-decoration-color: #00af00\">0</span>],  │\n",
       "│                     │                   │            │ not_equal[<span style=\"color: #00af00; text-decoration-color: #00af00\">0</span>][<span style=\"color: #00af00; text-decoration-color: #00af00\">0</span>]   │\n",
       "├─────────────────────┼───────────────────┼────────────┼───────────────────┤\n",
       "│ dense (<span style=\"color: #0087ff; text-decoration-color: #0087ff\">Dense</span>)       │ (<span style=\"color: #00d7ff; text-decoration-color: #00d7ff\">None</span>, <span style=\"color: #00af00; text-decoration-color: #00af00\">1</span>)         │         <span style=\"color: #00af00; text-decoration-color: #00af00\">33</span> │ lstm[<span style=\"color: #00af00; text-decoration-color: #00af00\">0</span>][<span style=\"color: #00af00; text-decoration-color: #00af00\">0</span>]        │\n",
       "└─────────────────────┴───────────────────┴────────────┴───────────────────┘\n",
       "</pre>\n"
      ],
      "text/plain": [
       "┏━━━━━━━━━━━━━━━━━━━━━┳━━━━━━━━━━━━━━━━━━━┳━━━━━━━━━━━━┳━━━━━━━━━━━━━━━━━━━┓\n",
       "┃\u001b[1m \u001b[0m\u001b[1mLayer (type)       \u001b[0m\u001b[1m \u001b[0m┃\u001b[1m \u001b[0m\u001b[1mOutput Shape     \u001b[0m\u001b[1m \u001b[0m┃\u001b[1m \u001b[0m\u001b[1m   Param #\u001b[0m\u001b[1m \u001b[0m┃\u001b[1m \u001b[0m\u001b[1mConnected to     \u001b[0m\u001b[1m \u001b[0m┃\n",
       "┡━━━━━━━━━━━━━━━━━━━━━╇━━━━━━━━━━━━━━━━━━━╇━━━━━━━━━━━━╇━━━━━━━━━━━━━━━━━━━┩\n",
       "│ input_layer         │ (\u001b[38;5;45mNone\u001b[0m, \u001b[38;5;34m1\u001b[0m)         │          \u001b[38;5;34m0\u001b[0m │ -                 │\n",
       "│ (\u001b[38;5;33mInputLayer\u001b[0m)        │                   │            │                   │\n",
       "├─────────────────────┼───────────────────┼────────────┼───────────────────┤\n",
       "│ text_vectorization  │ (\u001b[38;5;45mNone\u001b[0m, \u001b[38;5;34m200\u001b[0m)       │          \u001b[38;5;34m0\u001b[0m │ input_layer[\u001b[38;5;34m0\u001b[0m][\u001b[38;5;34m0\u001b[0m] │\n",
       "│ (\u001b[38;5;33mTextVectorization\u001b[0m) │                   │            │                   │\n",
       "├─────────────────────┼───────────────────┼────────────┼───────────────────┤\n",
       "│ embedding           │ (\u001b[38;5;45mNone\u001b[0m, \u001b[38;5;34m200\u001b[0m, \u001b[38;5;34m50\u001b[0m)   │    \u001b[38;5;34m100,000\u001b[0m │ text_vectorizati… │\n",
       "│ (\u001b[38;5;33mEmbedding\u001b[0m)         │                   │            │                   │\n",
       "├─────────────────────┼───────────────────┼────────────┼───────────────────┤\n",
       "│ not_equal           │ (\u001b[38;5;45mNone\u001b[0m, \u001b[38;5;34m200\u001b[0m)       │          \u001b[38;5;34m0\u001b[0m │ text_vectorizati… │\n",
       "│ (\u001b[38;5;33mNotEqual\u001b[0m)          │                   │            │                   │\n",
       "├─────────────────────┼───────────────────┼────────────┼───────────────────┤\n",
       "│ lstm (\u001b[38;5;33mLSTM\u001b[0m)         │ (\u001b[38;5;45mNone\u001b[0m, \u001b[38;5;34m32\u001b[0m)        │     \u001b[38;5;34m10,624\u001b[0m │ embedding[\u001b[38;5;34m0\u001b[0m][\u001b[38;5;34m0\u001b[0m],  │\n",
       "│                     │                   │            │ not_equal[\u001b[38;5;34m0\u001b[0m][\u001b[38;5;34m0\u001b[0m]   │\n",
       "├─────────────────────┼───────────────────┼────────────┼───────────────────┤\n",
       "│ dense (\u001b[38;5;33mDense\u001b[0m)       │ (\u001b[38;5;45mNone\u001b[0m, \u001b[38;5;34m1\u001b[0m)         │         \u001b[38;5;34m33\u001b[0m │ lstm[\u001b[38;5;34m0\u001b[0m][\u001b[38;5;34m0\u001b[0m]        │\n",
       "└─────────────────────┴───────────────────┴────────────┴───────────────────┘\n"
      ]
     },
     "metadata": {},
     "output_type": "display_data"
    },
    {
     "data": {
      "text/html": [
       "<pre style=\"white-space:pre;overflow-x:auto;line-height:normal;font-family:Menlo,'DejaVu Sans Mono',consolas,'Courier New',monospace\"><span style=\"font-weight: bold\"> Total params: </span><span style=\"color: #00af00; text-decoration-color: #00af00\">110,657</span> (432.25 KB)\n",
       "</pre>\n"
      ],
      "text/plain": [
       "\u001b[1m Total params: \u001b[0m\u001b[38;5;34m110,657\u001b[0m (432.25 KB)\n"
      ]
     },
     "metadata": {},
     "output_type": "display_data"
    },
    {
     "data": {
      "text/html": [
       "<pre style=\"white-space:pre;overflow-x:auto;line-height:normal;font-family:Menlo,'DejaVu Sans Mono',consolas,'Courier New',monospace\"><span style=\"font-weight: bold\"> Trainable params: </span><span style=\"color: #00af00; text-decoration-color: #00af00\">110,657</span> (432.25 KB)\n",
       "</pre>\n"
      ],
      "text/plain": [
       "\u001b[1m Trainable params: \u001b[0m\u001b[38;5;34m110,657\u001b[0m (432.25 KB)\n"
      ]
     },
     "metadata": {},
     "output_type": "display_data"
    },
    {
     "data": {
      "text/html": [
       "<pre style=\"white-space:pre;overflow-x:auto;line-height:normal;font-family:Menlo,'DejaVu Sans Mono',consolas,'Courier New',monospace\"><span style=\"font-weight: bold\"> Non-trainable params: </span><span style=\"color: #00af00; text-decoration-color: #00af00\">0</span> (0.00 B)\n",
       "</pre>\n"
      ],
      "text/plain": [
       "\u001b[1m Non-trainable params: \u001b[0m\u001b[38;5;34m0\u001b[0m (0.00 B)\n"
      ]
     },
     "metadata": {},
     "output_type": "display_data"
    }
   ],
   "source": [
    "if not grading:\n",
    "    # Create the comet ml experiment\n",
    "    experiment = comet_ml.Experiment(project_name=\"imdb-sentiment-analysis\", log_env_gpu=False)\n",
    "    experiment.set_name('lstm')\n",
    "    \n",
    "    # Set and log the hyperparameters\n",
    "    params = {'max_seq_len': 200,\n",
    "              'lstm_units': 32,\n",
    "              'bi_dir': False,\n",
    "              'stacked': False,\n",
    "              'optimizer': 'rmsprop',\n",
    "              'learning_rate': 0.001,\n",
    "              'batch_size': 128,\n",
    "              'epochs': 5}\n",
    "    \n",
    "    experiment.log_parameters(params)\n",
    "    \n",
    "    # Build the model\n",
    "    model = build_model(X_train,\n",
    "                        params['max_seq_len'],\n",
    "                        embedding_matrix,\n",
    "                        units=params['lstm_units'],\n",
    "                        bi_dir=params['bi_dir'],\n",
    "                        stacked=params['stacked'],\n",
    "                        n_class=1,\n",
    "                        optimiser=params['optimizer'],\n",
    "                        lr=params['learning_rate'])\n",
    "    model.summary()"
   ]
  },
  {
   "cell_type": "markdown",
   "metadata": {
    "deletable": false,
    "editable": false,
    "nbgrader": {
     "cell_type": "markdown",
     "checksum": "93d2ffc3afeb61c2666c8145f5b3e2c4",
     "grade": false,
     "grade_id": "cell-e995992cd446ecbd",
     "locked": true,
     "schema_version": 3,
     "solution": false,
     "task": false
    }
   },
   "source": [
    "### Train and evaluate the model\n",
    "\n",
    "Train the model as before, but use `model.evaluate()` to get a test set accuracy and log that with Comet. We will also log the confusion matrix so that it can be viewed in the experiment on Comet.\n",
    "\n",
    "Once training and evaluation is complete the experiment should be visible on Comet ML. You can create graphs (Panels) to display results across multiple experiments. You can also view the results of each individual experiment."
   ]
  },
  {
   "cell_type": "code",
   "execution_count": 11,
   "metadata": {},
   "outputs": [
    {
     "name": "stdout",
     "output_type": "stream",
     "text": [
      "Epoch 1/5\n",
      "\u001b[1m313/313\u001b[0m \u001b[32m━━━━━━━━━━━━━━━━━━━━\u001b[0m\u001b[37m\u001b[0m \u001b[1m23s\u001b[0m 70ms/step - accuracy: 0.5853 - loss: 0.6575 - val_accuracy: 0.7965 - val_loss: 0.4587\n",
      "Epoch 2/5\n",
      "\u001b[1m313/313\u001b[0m \u001b[32m━━━━━━━━━━━━━━━━━━━━\u001b[0m\u001b[37m\u001b[0m \u001b[1m22s\u001b[0m 71ms/step - accuracy: 0.7933 - loss: 0.4612 - val_accuracy: 0.7738 - val_loss: 0.4736\n",
      "Epoch 3/5\n",
      "\u001b[1m313/313\u001b[0m \u001b[32m━━━━━━━━━━━━━━━━━━━━\u001b[0m\u001b[37m\u001b[0m \u001b[1m27s\u001b[0m 85ms/step - accuracy: 0.8271 - loss: 0.3985 - val_accuracy: 0.8506 - val_loss: 0.3515\n",
      "Epoch 4/5\n",
      "\u001b[1m313/313\u001b[0m \u001b[32m━━━━━━━━━━━━━━━━━━━━\u001b[0m\u001b[37m\u001b[0m \u001b[1m32s\u001b[0m 101ms/step - accuracy: 0.8481 - loss: 0.3604 - val_accuracy: 0.8627 - val_loss: 0.3188\n",
      "Epoch 5/5\n",
      "\u001b[1m313/313\u001b[0m \u001b[32m━━━━━━━━━━━━━━━━━━━━\u001b[0m\u001b[37m\u001b[0m \u001b[1m38s\u001b[0m 92ms/step - accuracy: 0.8631 - loss: 0.3271 - val_accuracy: 0.8472 - val_loss: 0.3548\n",
      "\u001b[1m313/313\u001b[0m \u001b[32m━━━━━━━━━━━━━━━━━━━━\u001b[0m\u001b[37m\u001b[0m \u001b[1m6s\u001b[0m 18ms/step\n",
      "Validation Accuracy: 0.8472\n"
     ]
    },
    {
     "data": {
      "image/png": "[encoded data removed]",
      "text/plain": [
       "<Figure size 640x480 with 1 Axes>"
      ]
     },
     "metadata": {},
     "output_type": "display_data"
    },
    {
     "name": "stdout",
     "output_type": "stream",
     "text": [
      "\u001b[1m4/4\u001b[0m \u001b[32m━━━━━━━━━━━━━━━━━━━━\u001b[0m\u001b[37m\u001b[0m \u001b[1m0s\u001b[0m 13ms/step - accuracy: 0.6199 - loss: 0.7854\n",
      "Test Accuracy: 0.6200\n",
      "\u001b[1m4/4\u001b[0m \u001b[32m━━━━━━━━━━━━━━━━━━━━\u001b[0m\u001b[37m\u001b[0m \u001b[1m0s\u001b[0m 13ms/step\n"
     ]
    },
    {
     "data": {
      "image/png": "[encoded data removed]",
      "text/plain": [
       "<Figure size 640x480 with 1 Axes>"
      ]
     },
     "metadata": {},
     "output_type": "display_data"
    },
    {
     "name": "stderr",
     "output_type": "stream",
     "text": [
      "\u001b[1;38;5;39mCOMET INFO:\u001b[0m ---------------------------------------------------------------------------------------\n",
      "\u001b[1;38;5;39mCOMET INFO:\u001b[0m Comet.ml Experiment Summary\n",
      "\u001b[1;38;5;39mCOMET INFO:\u001b[0m ---------------------------------------------------------------------------------------\n",
      "\u001b[1;38;5;39mCOMET INFO:\u001b[0m   Data:\n",
      "\u001b[1;38;5;39mCOMET INFO:\u001b[0m     display_summary_level : 1\n",
      "\u001b[1;38;5;39mCOMET INFO:\u001b[0m     name                  : lstm\n",
      "\u001b[1;38;5;39mCOMET INFO:\u001b[0m     url                   : https://www.comet.com/reicraftscodes/imdb-sentiment-analysis/d170a177fbd744c5a19d9ded72688e9f\n",
      "\u001b[1;38;5;39mCOMET INFO:\u001b[0m   Metrics:\n",
      "\u001b[1;38;5;39mCOMET INFO:\u001b[0m     test_accuracy : 0.6200000047683716\n",
      "\u001b[1;38;5;39mCOMET INFO:\u001b[0m   Others:\n",
      "\u001b[1;38;5;39mCOMET INFO:\u001b[0m     Name : lstm\n",
      "\u001b[1;38;5;39mCOMET INFO:\u001b[0m   Parameters:\n",
      "\u001b[1;38;5;39mCOMET INFO:\u001b[0m     batch_size    : 128\n",
      "\u001b[1;38;5;39mCOMET INFO:\u001b[0m     bi_dir        : False\n",
      "\u001b[1;38;5;39mCOMET INFO:\u001b[0m     epochs        : 5\n",
      "\u001b[1;38;5;39mCOMET INFO:\u001b[0m     learning_rate : 0.001\n",
      "\u001b[1;38;5;39mCOMET INFO:\u001b[0m     lstm_units    : 32\n",
      "\u001b[1;38;5;39mCOMET INFO:\u001b[0m     max_seq_len   : 200\n",
      "\u001b[1;38;5;39mCOMET INFO:\u001b[0m     optimizer     : rmsprop\n",
      "\u001b[1;38;5;39mCOMET INFO:\u001b[0m     stacked       : False\n",
      "\u001b[1;38;5;39mCOMET INFO:\u001b[0m   Uploads:\n",
      "\u001b[1;38;5;39mCOMET INFO:\u001b[0m     conda-environment-definition : 1\n",
      "\u001b[1;38;5;39mCOMET INFO:\u001b[0m     conda-info                   : 1\n",
      "\u001b[1;38;5;39mCOMET INFO:\u001b[0m     conda-specification          : 1\n",
      "\u001b[1;38;5;39mCOMET INFO:\u001b[0m     confusion-matrix             : 1\n",
      "\u001b[1;38;5;39mCOMET INFO:\u001b[0m     environment details          : 1\n",
      "\u001b[1;38;5;39mCOMET INFO:\u001b[0m     filename                     : 1\n",
      "\u001b[1;38;5;39mCOMET INFO:\u001b[0m     installed packages           : 1\n",
      "\u001b[1;38;5;39mCOMET INFO:\u001b[0m     notebook                     : 1\n",
      "\u001b[1;38;5;39mCOMET INFO:\u001b[0m     os packages                  : 1\n",
      "\u001b[1;38;5;39mCOMET INFO:\u001b[0m     source_code                  : 1\n",
      "\u001b[1;38;5;39mCOMET INFO:\u001b[0m \n",
      "\u001b[1;38;5;214mCOMET WARNING:\u001b[0m To get all data logged automatically, import comet_ml before the following modules: tensorflow, keras.\n"
     ]
    }
   ],
   "source": [
    "if not grading:\n",
    "    # Fit the model\n",
    "    results = model.fit(X_train, y_train, epochs=params['epochs'], batch_size=params['batch_size'], validation_data=(X_val, y_val))\n",
    "    \n",
    "    # Predict class labels for validation set\n",
    "    predictions = model.predict(X_val)\n",
    "    predictions = [0 if x < 0.5 else 1 for x in predictions]  # Convert probabilities to binary\n",
    "    print(f'Validation Accuracy: {accuracy_score(y_val, predictions)}')\n",
    "    \n",
    "    # Print confusion matrix\n",
    "    conf_matrix = ConfusionMatrixDisplay.from_predictions(y_val, predictions, display_labels=['negative', 'positive'], colorbar=False)\n",
    "    plt.show()\n",
    "    \n",
    "    # Evaluate on test set\n",
    "    test_loss, test_acc = model.evaluate(X_test, y_test)\n",
    "    print(f'Test Accuracy: {test_acc:.4f}')\n",
    "    experiment.log_metric(\"test_accuracy\", test_acc)\n",
    "    \n",
    "    # Predict class labels for test set\n",
    "    predictions = model.predict(X_test)\n",
    "    predictions = [0 if x < 0.5 else 1 for x in predictions] # Convert probabilities to binary\n",
    "    \n",
    "    # Print/log confusion matrix\n",
    "    conf_matrix = ConfusionMatrixDisplay.from_predictions(y_test, predictions, display_labels=['negative', 'positive'], colorbar=False)\n",
    "    plt.show()\n",
    "    experiment.log_confusion_matrix(y_test, predictions, labels=['negative', 'positive'])\n",
    "    \n",
    "    # End the experiment\n",
    "    experiment.end()"
   ]
  },
  {
   "cell_type": "markdown",
   "metadata": {
    "deletable": false,
    "editable": false,
    "nbgrader": {
     "cell_type": "markdown",
     "checksum": "9fd4d382515b707da6756ea4945ba05e",
     "grade": false,
     "grade_id": "cell-6f31db7f502751ca",
     "locked": true,
     "schema_version": 3,
     "solution": false,
     "task": false
    }
   },
   "source": [
    "<div class=\"alert alert-success\" style=\"color:black\"><h3>Before you submit this notebook to NBGrader for marking:</h3> \n",
    "\n",
    "1. Make sure have completed all exercises marked by <span style=\"color:blue\">**blue cells**</span>.\n",
    "2. For automatically marked exercises ensure you have completed any cells with `# YOUR CODE HERE`. Then click 'Validate' button above, or ensure all cells run without producing an error.\n",
    "3. For manually marked exercises ensure you have completed any cells with `\"YOUR ANSWER HERE\"`.\n",
    "4. Ensure all cells are run with their output visible.\n",
    "5. Fill in your student ID (**only**) below.\n",
    "6. You should now **save and download** your work.\n",
    "\n",
    "</div>"
   ]
  },
  {
   "cell_type": "markdown",
   "metadata": {},
   "source": [
    "**Student ID:** 15006280"
   ]
  }
 ],
 "metadata": {
  "kernelspec": {
   "display_name": "adv_ai",
   "language": "python",
   "name": "adv_ai"
  },
  "language_info": {
   "codemirror_mode": {
    "name": "ipython",
    "version": 3
   },
   "file_extension": ".py",
   "mimetype": "text/x-python",
   "name": "python",
   "nbconvert_exporter": "python",
   "pygments_lexer": "ipython3",
   "version": "3.11.9"
  }
 },
 "nbformat": 4,
 "nbformat_minor": 4
}
