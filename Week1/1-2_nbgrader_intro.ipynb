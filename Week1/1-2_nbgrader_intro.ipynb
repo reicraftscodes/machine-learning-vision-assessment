{
 "cells": [
  {
   "cell_type": "markdown",
   "metadata": {
    "deletable": false,
    "editable": false,
    "nbgrader": {
     "cell_type": "markdown",
     "checksum": "0dfbec1279013effe90440d7b539f0b2",
     "grade": false,
     "grade_id": "cell-fc55ab8099d592a5",
     "locked": true,
     "schema_version": 3,
     "solution": false,
     "task": false
    }
   },
   "source": [
    "<div class=\"alert alert-danger\" style=\"color:black\"><b>Running ML-LV Jupyter Notebooks:</b><br>\n",
    "    <ol>\n",
    "        <li>Make sure you are running all notebooks using the <code>adv_ai</code> kernel.\n",
    "        <li><b>It is very important that you do not create any additional files within the weekly folders on CSCT cloud.</b> Any additional files, or editing the notebooks with a different environment may prevent submission/marking of your work.</li>\n",
    "            <ul>\n",
    "                <li>NBGrader will automatically fetch and create the correct folders files for you.</li>\n",
    "                <li>All files that are not the Jupyter notebooks should be stored in the 'ML-LV/data' directory.</li>\n",
    "            </ul>\n",
    "        <li>Please <b>do not pip install</b> any python packages (or anything else). You should not need to install anything to complete these notebooks other than the packages provided in the Jupyter CSCT Cloud environment.</li>\n",
    "    </ol>\n",
    "    <b>If you would like to run this notebook locally you should:</b><br>\n",
    "    <ol>\n",
    "        <li>Create an environment using the requirements.txt file provided. <b>Any additional packages you install will not be accessible when uploaded to the server and may prevent marking.</b></li>\n",
    "        <li>Download a copy  of the notebook to your own machine. You can then edit the cells as you wish and then go back and copy the code into/edit the ones on the CSCT cloud in-place.</li>\n",
    "        <li><b>It is very important that you do not re-upload any notebooks that you have edited locally.</b> This is because NBGrader uses cell metadata to track marked tasks. <b>If you change this format it may prevent marking.</b></li>\n",
    "    </ol>\n",
    "</div>"
   ]
  },
  {
   "cell_type": "markdown",
   "metadata": {
    "deletable": false,
    "editable": false,
    "nbgrader": {
     "cell_type": "markdown",
     "checksum": "5b65add1341f9549d0a095c0420c6b7d",
     "grade": false,
     "grade_id": "cell-7717cdd5abe5d273",
     "locked": true,
     "schema_version": 3,
     "solution": false,
     "task": false
    }
   },
   "source": [
    "# 2 Introduction to NBGrader\n",
    "\n",
    "Throughout this module we will be using Jupyter Notebooks containing:\n",
    "- Further worked examples and activities to illustrate and provide ‘hands-on’ experience of the algorithms and issues covered in that week’s materials.\n",
    "- A series of exercises to complete to demonstrate your understanding. These will involve a mixture of:\n",
    "    - *Automatically* marked exercises which involve writing or completing code to implement ML algorithms or functions to implement create common exercises from typical Data Science/AI workflows.\n",
    "    - *Manually* marked exercises/questions which will contain a mixture of short essay style questions, multiple choice or short answer questions and some larger coding related exercises.\n",
    "\n",
    "We will be using NBGrader to *fetch*, *validate* and *submit* each notebook for marking, and receive *feedback*. For a complete overview of this process you should refer to the assessment brief and instructions provided by your tutor. The following exercises provide a very simple demonstration for how the automatic and manually marked exercises work within NBGrader.\n",
    "\n",
    "<div class=\"alert alert-success\" style=\"color:black\"><b>Note:</b> The following exercises <b>do not</b> contribute towards your portfolio. They are only intended to demonstrate the process of completing exercises using NBGrader. As such they are worth <b>0 Marks</b>.\n",
    "</div>"
   ]
  },
  {
   "cell_type": "markdown",
   "metadata": {
    "deletable": false,
    "editable": false,
    "nbgrader": {
     "cell_type": "markdown",
     "checksum": "15b26ab7e5002f0191fd15b4f8dba7a8",
     "grade": false,
     "grade_id": "cell-8e0995105733afeb",
     "locked": true,
     "schema_version": 3,
     "solution": false,
     "task": false
    }
   },
   "source": [
    "<div class=\"alert alert-info\" style=\"color:black\"><h3>2.1 Exercise: Automatically marked</h3>\n",
    "\n",
    "With NBGrader automatically marked cells simply check that your code passes a series of tests. These could involve checking variable values, or completing a function and checking it produces the expected output or error handling. There are two types of test cells:\n",
    "- Visible - Most of the tests will be visible to you, like the 5 in the cell below.\n",
    "- Hidden - Some of the tests will not be visible to you. Your code will only be run against these tests once it has been submitted for marking via NBGrader.\n",
    "\n",
    "All exercises (highlighted in blue cells like this one) will include a description of what your code should do and the total marks available. Ensure you complete any code marked with `# YOUR CODE HERE`.\n",
    "\n",
    "You can check your work by clicking on the 'Validate' button at the top of the page (in JupyterHub), or simply ensure all cells run without producing an error.\n",
    "\n",
    "For this exercise you are asked to write a function that returns a list of numbers, such that $x_i=i^2$, for $1\\leq i \\leq n$. Make sure it handles the case where $n<1$ by raising a **ValueError**. For example, your function should print **[1, 4, 9, 16, 25, 36, 49, 64, 81, 100]** for $n=10$.\n",
    "\n",
    "<b>MARKS AVAILABLE: 0</b>\n",
    "</div>"
   ]
  },
  {
   "cell_type": "code",
   "execution_count": 5,
   "metadata": {
    "deletable": false,
    "nbgrader": {
     "cell_type": "code",
     "checksum": "3d787c4af580cc2b1e8d789cabb7acdc",
     "grade": false,
     "grade_id": "cell-728d2fe8b7067637",
     "locked": false,
     "schema_version": 3,
     "solution": true,
     "task": false
    },
    "tags": []
   },
   "outputs": [],
   "source": [
    "def squares(n):\n",
    "    \"\"\"Compute the squares of numbers from 1 to n, such that the \n",
    "    ith element of the returned list equals i^2.\n",
    "    \"\"\"\n",
    "    # YOUR CODE HERE\n",
    "    if n <= 0:\n",
    "        raise ValueError(\"n must be a positive integer.\")\n",
    "    return [i**2 for i in range(1, n+1)]"
   ]
  },
  {
   "cell_type": "code",
   "execution_count": 7,
   "metadata": {
    "deletable": false,
    "editable": false,
    "nbgrader": {
     "cell_type": "code",
     "checksum": "a9d1a0a2ba5b01c5885bf2c60f5122c8",
     "grade": true,
     "grade_id": "cell-1a8de0a6dee68aff",
     "locked": true,
     "points": 0,
     "schema_version": 3,
     "solution": false,
     "task": false
    },
    "tags": []
   },
   "outputs": [],
   "source": [
    "# Check that squares returns the correct output for several inputs\n",
    "assert squares(1) == [1]\n",
    "assert squares(2) == [1, 4]\n",
    "assert squares(3) == [1, 4, 9]\n",
    "assert squares(4) == [1, 4, 9, 16]\n",
    "assert squares(5) == [1, 4, 9, 16, 25]\n",
    "\n",
    "# Check that squares raises an error for invalid inputs\n",
    "try:\n",
    "    squares(0)\n",
    "except ValueError:\n",
    "    pass\n",
    "else:\n",
    "    raise AssertionError(\"did not raise\")\n",
    "\n",
    "try:\n",
    "    squares(-4)\n",
    "except ValueError:\n",
    "    pass\n",
    "else:\n",
    "    raise AssertionError(\"did not raise\")"
   ]
  },
  {
   "cell_type": "markdown",
   "metadata": {
    "deletable": false,
    "editable": false,
    "nbgrader": {
     "cell_type": "markdown",
     "checksum": "5dcab11abda49fe1dc0e869c1d6d36e0",
     "grade": false,
     "grade_id": "cell-cc8602fc13dff920",
     "locked": true,
     "schema_version": 3,
     "solution": false,
     "task": false
    }
   },
   "source": [
    "<div class=\"alert alert-info\" style=\"color:black\"><h3>2.2 Exercise: Manually marked</h3>\n",
    "\n",
    "With NBGrader manually marked cells must be marked by your tutor once the notebook has been submitted for marking via NBGrader. These can be either markdown cells or code cells. Markdown cells will be used for short essay style questions, multiple choice or short answer questions and code cells for some larger coding related exercises.\n",
    "\n",
    "All manually marked exercises will include a description of what your code should do and the marks available, including a marking scheme. Ensure you complete any cell marked with `\"YOUR ANSWER HERE\"`.\n",
    "\n",
    "The following is an example of one short answer and one multiple choice question.\n",
    "\n",
    "</div>"
   ]
  },
  {
   "cell_type": "markdown",
   "metadata": {
    "deletable": false,
    "editable": false,
    "nbgrader": {
     "cell_type": "markdown",
     "checksum": "9c503ad1bae67fbc597ae24783967ead",
     "grade": false,
     "grade_id": "short-answer",
     "locked": true,
     "schema_version": 3,
     "solution": false,
     "task": false
    }
   },
   "source": [
    "<div class=\"alert alert-info\" style=\"color:black\"><h3>2.2.1 Short Answer:</h3>\n",
    "\n",
    "Simply state the name of one of the films in your reviews dataset and whether you think the overall sentiment (from your annotations) is positive or negative. For example, \"Batman - Positive\".\n",
    "\n",
    "You can complete the question by editing the markdown cell below.\n",
    "\n",
    "<b>MARKS AVAILABLE: 0</b>\n",
    "</div>"
   ]
  },
  {
   "cell_type": "markdown",
   "metadata": {
    "deletable": false,
    "nbgrader": {
     "cell_type": "markdown",
     "checksum": "a872daf953db84f2236bcd4ae6255e12",
     "grade": true,
     "grade_id": "cell-705906757aed343a",
     "locked": false,
     "points": 0,
     "schema_version": 3,
     "solution": true,
     "task": false
    }
   },
   "source": [
    "Dr. Strange - Positive\n",
    "XO, Kity - Negative"
   ]
  },
  {
   "cell_type": "markdown",
   "metadata": {
    "deletable": false,
    "editable": false,
    "nbgrader": {
     "cell_type": "markdown",
     "checksum": "b71b8ebb44bc7b06a9058daaf9a2c991",
     "grade": false,
     "grade_id": "multiple-choice",
     "locked": true,
     "schema_version": 3,
     "solution": false,
     "task": false
    }
   },
   "source": [
    "<div class=\"alert alert-info\" style=\"color:black\"><h3>2.2.2 Multiple Choice:</h3>\n",
    "\n",
    "How much was Google fined under GDPR laws for dropping cookies on google.fr (hint: you may want to read the article about web scraping linked above)?\n",
    "\n",
    "<ol type=\"A\">\n",
    "    <li>€120,000</li>\n",
    "    <li>€50,000,000</li>\n",
    "    <li>€120,000,000</li>\n",
    "</ol>\n",
    "\n",
    "You can complete the question by editing the markdown cell below.\n",
    "\n",
    "<b>MARKS AVAILABLE: 0</b>\n",
    "</div>"
   ]
  },
  {
   "cell_type": "markdown",
   "metadata": {
    "deletable": false,
    "nbgrader": {
     "cell_type": "markdown",
     "checksum": "9492b91c64e2ea5726dd71d6f51a622f",
     "grade": true,
     "grade_id": "cell-89d11d4b233fd832",
     "locked": false,
     "points": 0,
     "schema_version": 3,
     "solution": true,
     "task": false
    }
   },
   "source": [
    "€50,000,000"
   ]
  },
  {
   "cell_type": "markdown",
   "metadata": {
    "deletable": false,
    "editable": false,
    "nbgrader": {
     "cell_type": "markdown",
     "checksum": "3669535dce55d8c5653390688e0ad3b6",
     "grade": false,
     "grade_id": "cell-e8526a2200476dce",
     "locked": true,
     "schema_version": 3,
     "solution": false,
     "task": false
    }
   },
   "source": [
    "<div class=\"alert alert-success\" style=\"color:black\"><h3>Before you submit this notebook to NBGrader for marking:</h3> \n",
    "\n",
    "1. Make sure have completed all exercises marked by <span style=\"color:blue\">**blue cells**</span>.\n",
    "2. For automatically marked exercises ensure you have completed any cells with `# YOUR CODE HERE`. Then click 'Validate' button above, or ensure all cells run without producing an error.\n",
    "3. For manually marked exercises ensure you have completed any cells with `\"YOUR ANSWER HERE\"`.\n",
    "4. Ensure all cells are run with their output visible.\n",
    "5. Fill in your student ID (**only**) below.\n",
    "6. You should now **save and download** your work.\n",
    "\n",
    "</div>"
   ]
  },
  {
   "cell_type": "markdown",
   "metadata": {},
   "source": [
    "**Student ID:** 15006280"
   ]
  }
 ],
 "metadata": {
  "kernelspec": {
   "display_name": "adv_ai",
   "language": "python",
   "name": "adv_ai"
  },
  "language_info": {
   "codemirror_mode": {
    "name": "ipython",
    "version": 3
   },
   "file_extension": ".py",
   "mimetype": "text/x-python",
   "name": "python",
   "nbconvert_exporter": "python",
   "pygments_lexer": "ipython3",
   "version": "3.11.9"
  }
 },
 "nbformat": 4,
 "nbformat_minor": 4
}
