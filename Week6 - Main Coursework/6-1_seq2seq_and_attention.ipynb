{
 "cells": [
  {
   "cell_type": "markdown",
   "metadata": {
    "deletable": false,
    "editable": false,
    "nbgrader": {
     "cell_type": "markdown",
     "checksum": "ff16389941e39c8ef7b33afabc08556f",
     "grade": false,
     "grade_id": "cell-00c9203358debce1",
     "locked": true,
     "schema_version": 3,
     "solution": false,
     "task": false
    }
   },
   "source": [
    "<div class=\"alert alert-danger\" style=\"color:black\"><b>Running ML-LV Jupyter Notebooks:</b><br>\n",
    "    <ol>\n",
    "        <li>Make sure you are running all notebooks using the <code>adv_ai</code> kernel.\n",
    "        <li><b>It is very important that you do not create any additional files within the weekly folders on CSCT cloud.</b> Any additional files, or editing the notebooks with a different environment may prevent submission/marking of your work.</li>\n",
    "            <ul>\n",
    "                <li>NBGrader will automatically fetch and create the correct folders files for you.</li>\n",
    "                <li>All files that are not the Jupyter notebooks should be stored in the 'ML-LV/data' directory.</li>\n",
    "            </ul>\n",
    "        <li>Please <b>do not pip install</b> any python packages (or anything else). You should not need to install anything to complete these notebooks other than the packages provided in the Jupyter CSCT Cloud environment.</li>\n",
    "    </ol>\n",
    "    <b>If you would like to run this notebook locally you should:</b><br>\n",
    "    <ol>\n",
    "        <li>Create an environment using the requirements.txt file provided. <b>Any additional packages you install will not be accessible when uploaded to the server and may prevent marking.</b></li>\n",
    "        <li>Download a copy  of the notebook to your own machine. You can then edit the cells as you wish and then go back and copy the code into/edit the ones on the CSCT cloud in-place.</li>\n",
    "        <li><b>It is very important that you do not re-upload any notebooks that you have edited locally.</b> This is because NBGrader uses cell metadata to track marked tasks. <b>If you change this format it may prevent marking.</b></li>\n",
    "    </ol>\n",
    "</div>"
   ]
  },
  {
   "cell_type": "markdown",
   "metadata": {
    "deletable": false,
    "editable": false,
    "nbgrader": {
     "cell_type": "markdown",
     "checksum": "ea23ec9fc6e22a105ac22f34eceba1bc",
     "grade": false,
     "grade_id": "cell-ff1143c7f103e07a",
     "locked": true,
     "schema_version": 3,
     "solution": false,
     "task": false
    }
   },
   "source": [
    "# Practical 6: Attention and Transformers\n",
    "\n",
    "A typical Seq2seq model is limited by fixed size input and output vectors. For many tasks, such as Machine Translation (MT), text summarisation and generating text with a language model, we may wish to output different size sequences. The performance of Seq2seq models may also be limited by the single fixed-size context vector produced by the encoder, which reduces the amount of information passed to the decoder. The attention mechanism aims to solve these issues. Instead of encoding a single context vector the encoder produces a *sequence* of vectors, one for each timestep of the input. The attention mechanism then allows the decoder to 'pay attention' to the important important inputs and ignore less important ones.\n",
    "\n",
    "Although attention mechanisms often result in a significant performance boost on many task, the recurrent nature of Seq2seq architecture means it is slow to train. To overcome this issue Vaswani, A. et al. (2017) proposed a new architecture, the Transformer, which throws away recurrence and focuses only on attention. [Attention is all you need!](https://proceedings.neurips.cc/paper/2017/file/3f5ee243547dee91fbd053c1c4a845aa-Paper.pdf). Transformers have since become the basis for nearly all state-of-the-art models for language modelling, classification, MT, summarisation and many other NLP tasks.\n",
    "\n",
    "In the first part of this practical we will create a Seq2seq model with attention for MT. The MT model will be trained to translate English sentences into French with an [English to French](http://www.manythings.org/anki/) dataset. Once trained, we will be able to translate English phrases and visualise the weights of the attention mechanism to understand which English words were 'attended to' in order to produce the translation.\n",
    "\n",
    "In the second part of this practical we will create a Transformer-based translator by fine-tuning an existing model, the [T5](https://arxiv.org/abs/1910.10683v3), on our translation dataset.\n",
    "\n",
    "The objectives of this practical are:\n",
    "1. Understand how Seq2seq architecture and attention mechanisms work, and help the model to identify the important features of input sequences\n",
    "\n",
    "2. Introduce a new ML library, Hugging Face 🤗 Transformers that is useful for building and fine-tuning large Transformer models\n",
    "\n",
    "3. Compare and contrast recurrent Seq2seq with attention to a transfer learning approach using a large pre-trained language model (T5), based on Transformer architecture, for MT"
   ]
  },
  {
   "cell_type": "markdown",
   "metadata": {
    "deletable": false,
    "editable": false,
    "nbgrader": {
     "cell_type": "markdown",
     "checksum": "c988090bf5f08493bcdc64b9f9382a0b",
     "grade": false,
     "grade_id": "cell-44797d28014447bf",
     "locked": true,
     "schema_version": 3,
     "solution": false,
     "task": false
    }
   },
   "source": [
    "# 1 Translation with Seq2Seq and Attention\n",
    "\n",
    "## 1.0 Import libraries"
   ]
  },
  {
   "cell_type": "code",
   "execution_count": 1,
   "metadata": {
    "tags": []
   },
   "outputs": [],
   "source": [
    "import os\n",
    "os.environ['TF_CPP_MIN_LOG_LEVEL'] = '3'  # Suppress Tensorflow messages\n",
    "os.environ[\"TF_USE_LEGACY_KERAS\"] = \"1\"  # Use legacy keras for compatibility\n",
    "import re\n",
    "import unicodedata\n",
    "import pickle\n",
    "import nltk\n",
    "import numpy as np\n",
    "import matplotlib.pyplot as plt\n",
    "import matplotlib.ticker as ticker\n",
    "import tensorflow as tf\n",
    "from nltk.translate.bleu_score import corpus_bleu, SmoothingFunction\n",
    "from nltk.translate import meteor\n",
    "from tensorflow.keras import layers\n",
    "from tensorflow.keras.utils import pad_sequences\n",
    "from sklearn.model_selection import train_test_split\n",
    "%matplotlib inline\n",
    "\n",
    "# Get the status of NBgrader (for skipping cell execution while validating/grading)\n",
    "grading = True if os.getenv('NBGRADER_EXECUTION') else False\n",
    "\n",
    "# Set seaborn style for matplotlib plots\n",
    "plt.style.use('seaborn-v0_8-white')\n",
    "\n",
    "# Get the project directory (should be in ML-LV)\n",
    "path = ''\n",
    "while os.path.basename(os.path.abspath(path)) != 'ML-LV':\n",
    "    path = os.path.abspath(os.path.join(path, '..'))\n",
    "\n",
    "# Set the directory to the data folder (should be in ML-LV/data)\n",
    "data_dir = os.path.join(path, 'data')\n",
    "\n",
    "# Set the directory to the shared dataset folder (should be in shared/datasets/translate)\n",
    "dataset_dir = os.path.join(path, '..', 'shared', 'datasets', 'translate')\n",
    "\n",
    "# Set the directory to the shared models folder (should be in shared/models/translate)\n",
    "model_dir = os.path.join(path, '..', 'shared', 'models', 'translate')\n",
    "\n",
    "# Set the nltk data directory (should be in shared/datasets/nltk_data)\n",
    "nltk.data.path.append(os.path.join(dataset_dir, '..', 'nltk_data'))"
   ]
  },
  {
   "cell_type": "markdown",
   "metadata": {
    "deletable": false,
    "editable": false,
    "nbgrader": {
     "cell_type": "markdown",
     "checksum": "b4a27a52a5359eeb79575348d3e25aaa",
     "grade": false,
     "grade_id": "cell-fd1d12c38d8183b6",
     "locked": true,
     "schema_version": 3,
     "solution": false,
     "task": false
    }
   },
   "source": [
    "## 1.1 Load and pre-process data\n",
    "\n",
    "The data directory should contain the English and French text file. We will simply loop over the file and separate the English and French phrases. Then perform some simple normalisation by removing accents from the french words and keeping only basic punctuation symbols (.,!? and '), and then tokenise and remove extra whitespace."
   ]
  },
  {
   "cell_type": "code",
   "execution_count": 12,
   "metadata": {
    "tags": []
   },
   "outputs": [
    {
     "name": "stdout",
     "output_type": "stream",
     "text": [
      "Number of English sentences: 197463\n",
      "Number of French sentences: 197463\n",
      "First 5 sentences: \n",
      "go . -> va !\n",
      "go . -> marche .\n",
      "go . -> en route !\n",
      "go . -> bouge !\n",
      "hi . -> salut !\n"
     ]
    }
   ],
   "source": [
    "def preprocess_sentence(sentence):\n",
    "    # Remove accents\n",
    "    sentence = unicodedata.normalize('NFD', sentence).encode('ascii', 'ignore')\n",
    "    # Convert back to unicode\n",
    "    sentence = sentence.decode('UTF-8')\n",
    "\n",
    "    # Replace everything with space except (a-z, A-Z, \".\", \"?\", \"!\", \"'\", \",\")\n",
    "    sentence = re.sub(r\"[^a-zA-Z?.!',¿]+\", \" \", sentence)\n",
    "\n",
    "    # Create a space between word and the punctuation following it\n",
    "    sentence = re.sub(r\"([?.!,¿])\", r\" \\1 \", sentence)\n",
    "\n",
    "    # Lowercase and remove leading/trailing spaces\n",
    "    sentence = sentence.lower().strip()\n",
    "\n",
    "    # Tokenize\n",
    "    tokens = sentence.split()\n",
    "\n",
    "    return tokens\n",
    "\n",
    "if not grading:\n",
    "    # Preprocess the English and French sentences\n",
    "    eng_corpus = []\n",
    "    fr_corpus = []\n",
    "    with open(os.path.join(dataset_dir, 'english-french.txt'), 'r', encoding='utf-8') as file:\n",
    "        text = file.read().splitlines()\n",
    "\n",
    "        for line in text:\n",
    "            # Split the line into English and French\n",
    "            line = line.split('\\t')\n",
    "\n",
    "            # Add to corpus\n",
    "            eng_corpus.append(preprocess_sentence(line[0]))\n",
    "            fr_corpus.append(preprocess_sentence(line[1]))\n",
    "\n",
    "    print(f\"Number of English sentences: {len(eng_corpus)}\")\n",
    "    print(f\"Number of French sentences: {len(fr_corpus)}\")\n",
    "    print(\"First 5 sentences: \")\n",
    "    for i in range(5):\n",
    "        print(' '.join(eng_corpus[i]) + ' -> ' + ' '.join(fr_corpus[i]))"
   ]
  },
  {
   "cell_type": "markdown",
   "metadata": {
    "deletable": false,
    "editable": false,
    "nbgrader": {
     "cell_type": "markdown",
     "checksum": "c447ffd4396f7d632521e378795b4f0b",
     "grade": false,
     "grade_id": "cell-6bf60fe55bd91d38",
     "locked": true,
     "schema_version": 3,
     "solution": false,
     "task": false
    }
   },
   "source": [
    "### Plot sequence lengths\n",
    "\n",
    "We can plot the distribution of sentence lengths to determine how long the input sequences should be.\n",
    "It looks like sequences of ~20 should be a suitable `max_seq_len`."
   ]
  },
  {
   "cell_type": "code",
   "execution_count": 3,
   "metadata": {
    "tags": []
   },
   "outputs": [
    {
     "name": "stdout",
     "output_type": "stream",
     "text": [
      "Mean sequence length: 7.147 (English), 7.703 (French)\n",
      "Median sequence length: 7.0 (English), 7.000 (French)\n",
      "Max sequence length: 52 (English), 59 (French)\n"
     ]
    },
    {
     "data": {
      "image/png": "[encoded data removed]",
      "text/plain": [
       "<Figure size 800x600 with 1 Axes>"
      ]
     },
     "metadata": {},
     "output_type": "display_data"
    }
   ],
   "source": [
    "# Get the sequence lengths\n",
    "eng_seq_lengths = [len(sent) for sent in eng_corpus]\n",
    "fr_seq_lengths = [len(sent) for sent in fr_corpus]\n",
    "\n",
    "print(f\"Mean sequence length: {np.mean(eng_seq_lengths):.3f} (English), {np.mean(fr_seq_lengths):.3f} (French)\")\n",
    "print(f\"Median sequence length: {np.median(eng_seq_lengths)} (English), {np.median(fr_seq_lengths):.3f} (French)\")\n",
    "print(f\"Max sequence length: {np.max(eng_seq_lengths)} (English), {np.max(fr_seq_lengths)} (French)\")\n",
    "\n",
    "# Plot the distribution of sentence lengths\n",
    "fig, ax = plt.subplots(figsize=(8, 6))\n",
    "ax.hist(eng_seq_lengths, bins=50)\n",
    "ax.hist(fr_seq_lengths, bins=50, alpha=0.7)\n",
    "ax.set_xlabel('Sequence Length')\n",
    "ax.set_ylabel('Frequency')\n",
    "plt.show()"
   ]
  },
  {
   "cell_type": "markdown",
   "metadata": {
    "deletable": false,
    "editable": false,
    "nbgrader": {
     "cell_type": "markdown",
     "checksum": "6a821fb06ef78f48663669f2577a26a7",
     "grade": false,
     "grade_id": "cell-a7829992d7675525",
     "locked": true,
     "schema_version": 3,
     "solution": false,
     "task": false
    }
   },
   "source": [
    "### Load a vocabulary\n",
    "\n",
    "Load a vocabulary as before, for both English and French. As with language modelling, increasing the vocabulary size greatly increases the complexity of the task, because each output prediction is a word from the vocabulary. However, if either vocabulary is too small the model will not be able to learn a complete mapping between the words, so we will keep all words in the vocabulary."
   ]
  },
  {
   "cell_type": "code",
   "execution_count": 4,
   "metadata": {
    "tags": []
   },
   "outputs": [
    {
     "name": "stdout",
     "output_type": "stream",
     "text": [
      "English vocabulary size: 15722\n",
      "(0, <pad>) (1, <unk>) (2, <s>) (3, </s>) (4, .) (5, i) (6, you) (7, to) (8, the) (9, ?) (10, a) (11, is) (12, tom) (13, that) (14, do) (15, of) (16, it) (17, he) (18, this) (19, in) (20, me) (21, don't) (22, have) (23, ,) (24, was) (25, my) (26, for) (27, i'm) (28, your) (29, are) (30, what) (31, we) (32, be) (33, want) (34, not) (35, know) (36, she) (37, like) (38, on) (39, with) (40, can) (41, you're) (42, did) (43, at) (44, all) (45, how) (46, his) (47, think) (48, go) (49, they) \n",
      "French vocabulary size: 27962\n",
      "(0, <pad>) (1, <unk>) (2, <s>) (3, </s>) (4, .) (5, je) (6, de) (7, a) (8, ?) (9, pas) (10, vous) (11, que) (12, la) (13, ne) (14, le) (15, tu) (16, il) (17, tom) (18, est) (19, ce) (20, ,) (21, un) (22, nous) (23, les) (24, en) (25, une) (26, j'ai) (27, suis) (28, pour) (29, me) (30, faire) (31, c'est) (32, ca) (33, elle) (34, !) (35, des) (36, dans) (37, plus) (38, du) (39, qui) (40, moi) (41, tout) (42, te) (43, veux) (44, fait) (45, avec) (46, mon) (47, au) (48, se) (49, si) "
     ]
    }
   ],
   "source": [
    "# Load the vocabulary files and store each word in a list\n",
    "with open(os.path.join(model_dir, 'eng_vocab.txt'), 'r') as file:\n",
    "    eng_vocab = file.read().splitlines()\n",
    "\n",
    "with open(os.path.join(model_dir, 'fr_vocab.txt'), 'r') as file:\n",
    "    fr_vocab = file.read().splitlines()\n",
    "\n",
    "# Print the vocabulary\n",
    "print(f\"English vocabulary size: {len(eng_vocab)}\")\n",
    "for i, word in enumerate(eng_vocab[:50]):\n",
    "    print(f'({str(i)}, {word})', end=' ')\n",
    "print()\n",
    "print(f\"French vocabulary size: {len(fr_vocab)}\")\n",
    "for i, word in enumerate(fr_vocab[:50]):\n",
    "    print(f'({str(i)}, {word})', end=' ')"
   ]
  },
  {
   "cell_type": "markdown",
   "metadata": {
    "deletable": false,
    "editable": false,
    "nbgrader": {
     "cell_type": "markdown",
     "checksum": "1746a136fc17e5b8cba85cdab11371f5",
     "grade": false,
     "grade_id": "cell-e56a4aeef60f77b2",
     "locked": true,
     "schema_version": 3,
     "solution": false,
     "task": false
    }
   },
   "source": [
    "## 1.2 Create a data generator\n",
    "\n",
    "As with language modelling, the number of inputs required for training is larger than the number of phrase pairs in the data, so we will use a Generator class to feed data into the model. For each input/output pair we need to generate:\n",
    "\n",
    "1. Encoder inputs, the English phrase\n",
    "\n",
    "2. Decoder inputs, the French phrase including the `<s>` token, but not including the `</s>` token (so the decoder has the context vector(s) and a token to start generating from)\n",
    "\n",
    "3. Decoder outputs, the French phrase including the `</s>` token, but not including the `<s>` token (so the decoder learns to generate output until the `</s>` token is reached)\n",
    "\n",
    "<div class=\"alert alert-success\" style=\"color:black\"><b>Note:</b> We could perform all pre-processing within the data generator, such as tokenisation and lowercasing. However, for simplicity and to allow the creation of a vocabulary, here we only preform the step which greatly decrease memory requirements.</div>"
   ]
  },
  {
   "cell_type": "code",
   "execution_count": 5,
   "metadata": {
    "tags": []
   },
   "outputs": [
    {
     "name": "stdout",
     "output_type": "stream",
     "text": [
      "Number of training batches: 1158\n",
      "Number of validation batches: 386\n",
      "Encoder input shape: (128, 20)\n",
      "Decoder input shape: (128, 20)\n",
      "Output shape: (128, 20)\n",
      "\n",
      "Input Sentence: <s> a known mistake is better than an unknown truth . </s> <pad> <pad> <pad> <pad> <pad> <pad> <pad> <pad>\n",
      "Input Vector: [   2   10  688  427   11  156  110   80 3623  360    4    3    0    0\n",
      "    0    0    0    0    0    0]\n",
      "Target Sentence: une erreur connue est meilleure qu'une verite inconnue . </s> <pad> <pad> <pad> <pad> <pad> <pad> <pad> <pad> <pad> <pad>\n",
      "Target Vector: [  25  455 3136   18  746  669  343 5376    4    3    0    0    0    0\n",
      "    0    0    0    0    0    0]\n",
      "\n",
      "Input Sentence: <s> it's about time i was going . </s> <pad> <pad> <pad> <pad> <pad> <pad> <pad> <pad> <pad> <pad> <pad>\n",
      "Input Vector: [ 2 50 54 53  5 24 65  4  3  0  0  0  0  0  0  0  0  0  0  0]\n",
      "Target Sentence: il est temps que j'y aille . </s> <pad> <pad> <pad> <pad> <pad> <pad> <pad> <pad> <pad> <pad> <pad> <pad>\n",
      "Target Vector: [  16   18   66   11  595 1567    4    3    0    0    0    0    0    0\n",
      "    0    0    0    0    0    0]\n",
      "\n",
      "Input Sentence: <s> pull the plug . </s> <pad> <pad> <pad> <pad> <pad> <pad> <pad> <pad> <pad> <pad> <pad> <pad> <pad> <pad>\n",
      "Input Vector: [   2 1431    8 3854    4    3    0    0    0    0    0    0    0    0\n",
      "    0    0    0    0    0    0]\n",
      "Target Sentence: debranche la prise . </s> <pad> <pad> <pad> <pad> <pad> <pad> <pad> <pad> <pad> <pad> <pad> <pad> <pad> <pad> <pad>\n",
      "Target Vector: [8728   12 1623    4    3    0    0    0    0    0    0    0    0    0\n",
      "    0    0    0    0    0    0]\n",
      "\n"
     ]
    }
   ],
   "source": [
    "class MTDataGenerator(tf.keras.utils.Sequence):\n",
    "    \"\"\"Custom data generator for machine translation.\"\"\"\n",
    "\n",
    "    def __init__(self, in_data, out_data, in_vocab, out_vocab, max_seq_len, batch_size, shuffle=True, **kwargs):\n",
    "        \"\"\"Constructor for data generator.\n",
    "        \n",
    "        Arguments:\n",
    "            in_data (list): List of input sentences\n",
    "            out_data (list): List of output sentences\n",
    "            in_vocab (list): List of input vocabulary\n",
    "            out_vocab (list): List of output vocabulary\n",
    "            max_seq_len (int): Maximum sequence length\n",
    "            batch_size (int): Batch size\n",
    "            shuffle (bool): Whether to shuffle the data after each epoch\n",
    "        \"\"\"\n",
    "        super().__init__(**kwargs)\n",
    "        \n",
    "        self.in_data = in_data\n",
    "        self.out_data = out_data\n",
    "        self.in_vocab = in_vocab\n",
    "        self.out_vocab = out_vocab\n",
    "\n",
    "        self.max_seq_len = max_seq_len\n",
    "        self.batch_size = batch_size\n",
    "        self.shuffle = shuffle\n",
    "\n",
    "        # Get the data indexes and shuffle\n",
    "        self.indexes = np.arange(len(self.in_data))\n",
    "        self.on_epoch_end()\n",
    "    \n",
    "    def on_epoch_end(self):\n",
    "        \"\"\"Updates data after each epoch. Currently only shuffles data if shuffle=True.\"\"\"\n",
    "        if self.shuffle:\n",
    "            np.random.shuffle(self.indexes)\n",
    "        \n",
    "    def __len__(self):\n",
    "        \"\"\"Calculates the number of batches per epoch (num_sent / batch_size).\"\"\"\n",
    "        return int(np.ceil(len(self.in_data) / self.batch_size))\n",
    "\n",
    "    def __getitem__(self, index):\n",
    "        \"\"\"Generates a batch of data.\"\"\"\n",
    "\n",
    "        # Generate batch of inputs and outputs\n",
    "        batch_enc_inputs, batch_dec_inputs, batch_outputs = [], [], []\n",
    "\n",
    "        # Generate indexes of the batch\n",
    "        batch_indexes = self.indexes[index * self.batch_size:(index + 1) * self.batch_size]\n",
    "\n",
    "        for ind in batch_indexes:\n",
    "\n",
    "            # Get the sentence\n",
    "            in_sent = self.in_data[ind]\n",
    "            out_sent = self.out_data[ind]\n",
    "            \n",
    "            # Vectorise the sentences\n",
    "            in_sent_vector = [self.in_vocab.index(word) if word in self.in_vocab else self.in_vocab.index('<unk>') for word in in_sent]\n",
    "            out_sent_vector = [self.out_vocab.index(word) if word in self.out_vocab else self.out_vocab.index('<unk>') for word in out_sent]\n",
    "\n",
    "            # Add the start and end tokens\n",
    "            in_sent_vector = [self.in_vocab.index('<s>')] + in_sent_vector + [self.in_vocab.index('</s>')]\n",
    "            out_sent_vector = [self.out_vocab.index('<s>')] + out_sent_vector + [self.out_vocab.index('</s>')]\n",
    "\n",
    "            # Add the sentences to the batch\n",
    "            batch_enc_inputs.append(in_sent_vector)\n",
    "            batch_dec_inputs.append(out_sent_vector[:-1])\n",
    "            batch_outputs.append(out_sent_vector[1:])\n",
    "\n",
    "        # Pad the sentences to the max_seq_len\n",
    "        batch_enc_inputs = pad_sequences(batch_enc_inputs, maxlen=self.max_seq_len, padding='post', truncating='post', value=0.0)\n",
    "        batch_dec_inputs = pad_sequences(batch_dec_inputs, maxlen=self.max_seq_len, padding='post', truncating='post', value=0.0)\n",
    "        batch_outputs = pad_sequences(batch_outputs, maxlen=self.max_seq_len, padding='post', truncating='post', value=0.0)\n",
    "\n",
    "        # Convert input/outputs to numpy arrays\n",
    "        batch_enc_inputs = np.array(batch_enc_inputs)\n",
    "        batch_dec_inputs = np.array(batch_dec_inputs)\n",
    "        batch_outputs = np.array(batch_outputs)\n",
    "\n",
    "        return (batch_enc_inputs, batch_dec_inputs), batch_outputs\n",
    "\n",
    "# Set the maximum sequence length and batch size\n",
    "max_seq_len = 20\n",
    "batch_size = 128\n",
    "\n",
    "# Create a train and validation set data generator\n",
    "eng_train, eng_val, fr_train, fr_val = train_test_split(eng_corpus, fr_corpus, test_size=0.25, random_state=42)\n",
    "train_generator = MTDataGenerator(eng_train, fr_train, eng_vocab, fr_vocab, max_seq_len=max_seq_len, batch_size=batch_size)\n",
    "val_generator = MTDataGenerator(eng_val, fr_val, eng_vocab, fr_vocab, max_seq_len=max_seq_len, batch_size=batch_size)\n",
    "\n",
    "# Print the number of batches\n",
    "print(f\"Number of training batches: {len(train_generator)}\")\n",
    "print(f\"Number of validation batches: {len(val_generator)}\")\n",
    "\n",
    "# Print the first examples\n",
    "inputs, outputs = train_generator[0]\n",
    "enc_inputs, dec_inputs = inputs\n",
    "\n",
    "print(f\"Encoder input shape: {enc_inputs.shape}\")\n",
    "print(f\"Decoder input shape: {dec_inputs.shape}\")\n",
    "print(f\"Output shape: {outputs.shape}\\n\")\n",
    "for i in range(3):\n",
    "    print(\"Input Sentence: \" + ' '.join([eng_vocab[word] for word in enc_inputs[i]]))\n",
    "    print(f\"Input Vector: {enc_inputs[i]}\")\n",
    "    print(\"Target Sentence: \" + ' '.join([fr_vocab[word] for word in outputs[i]]))\n",
    "    print(f\"Target Vector: {outputs[i]}\")\n",
    "    print()"
   ]
  },
  {
   "cell_type": "markdown",
   "metadata": {
    "deletable": false,
    "editable": false,
    "nbgrader": {
     "cell_type": "markdown",
     "checksum": "378efcd5192e4d02ae3db5a4d96f3fd1",
     "grade": false,
     "grade_id": "cell-1883eb33c58c1b37",
     "locked": true,
     "schema_version": 3,
     "solution": false,
     "task": false
    }
   },
   "source": [
    "## 1.3 Build the Seq2Seq with Attention Model\n",
    "\n",
    "The following cells define a Seq2Seq model which uses recurrent layers and an attention mechanism. Both the attention mechanism and Seq2Seq make use of subclassing, which allows us to define our own layers and model classes that inherit the behaviour of the built-in Keras layers and models.\n",
    "\n",
    "The `BahdanauAttention` class below implements (additive) [Bahdanau style attention](https://arxiv.org/pdf/1409.0473.pdf) as a Keras layer. Attention is calculated for all inputs in a batch within the `call()` method:\n",
    "\n",
    "1. The score is calculated with $V.tahn(W_1.h + W_2.s)$\n",
    "\n",
    "2. The attention weights ($a$) are calculated by softmaxing the score\n",
    "\n",
    "3. The context vector is then $\\sum_{i=1}^{n}a.h$\n",
    "\n",
    "Take some time to understand what the `BahdanauAttention` class below is doing. Particularly the `call()` method."
   ]
  },
  {
   "cell_type": "code",
   "execution_count": 6,
   "metadata": {
    "tags": []
   },
   "outputs": [],
   "source": [
    "class BahdanauAttention(tf.keras.layers.Layer):\n",
    "    \"\"\"Bahdanau additive attention layer.\"\"\"\n",
    "\n",
    "    def __init__(self, units):\n",
    "        \"\"\"Constructor for attention layer.\n",
    "        \n",
    "        Arguments:\n",
    "            units (int): Number of units\n",
    "        \"\"\"\n",
    "        super(BahdanauAttention, self).__init__(name='BahdanauAttention')\n",
    "        self.W1 = tf.keras.layers.Dense(units)\n",
    "        self.W2 = tf.keras.layers.Dense(units)\n",
    "        self.V = tf.keras.layers.Dense(1)\n",
    "    \n",
    "    def call(self, query, values):\n",
    "        \"\"\"Forward pass for attention layer.\n",
    "        \n",
    "        Arguments:\n",
    "            query (tf.Tensor): Query is the decoder hidden state shape=(batch_size, hidden_size)\n",
    "            values (tf.Tensor): Values is the encoder output shape=(batch_size, max_seq_len, hidden_size)\n",
    "        \"\"\"\n",
    "        # Expand for time dimension shape=(batch_size, 1, hidden_size)\n",
    "        query_with_time_axis = tf.expand_dims(query, 1)\n",
    "\n",
    "        # Calculate attention score shape=(batch_size, max_length, 1)\n",
    "        score = self.V(tf.nn.tanh(self.W1(query_with_time_axis) + self.W2(values)))\n",
    "\n",
    "        # Calculate attention weights shape=(batch_size, max_length, 1)\n",
    "        attention_weights = tf.nn.softmax(score, axis=1)\n",
    "\n",
    "        # Calculate context vector shape=(batch_size, hidden_size)\n",
    "        context_vector = attention_weights * values\n",
    "        context_vector = tf.reduce_sum(context_vector, axis=1)\n",
    "\n",
    "        return context_vector, attention_weights"
   ]
  },
  {
   "cell_type": "markdown",
   "metadata": {
    "deletable": false,
    "editable": false,
    "nbgrader": {
     "cell_type": "markdown",
     "checksum": "c8abd39f84c4dcb086f38843cb76249d",
     "grade": false,
     "grade_id": "cell-71a897c07754aae3",
     "locked": true,
     "schema_version": 3,
     "solution": false,
     "task": false
    }
   },
   "source": [
    "The `Translator` class below implements Seq2Seq with attention as a Keras model. The algorithm is implemented within the `call()` method:\n",
    "\n",
    "1. First the inputs are encoded with the encoder layers\n",
    "\n",
    "2. Then, for each timestep ($t$) decode the sequence:\n",
    "    \n",
    "    1. Calculate the context vector by applying attention to the current decoder state and encoder outputs\n",
    "\n",
    "    2. Concatenate the context vector and decoder inputs, and pass to the decoder\n",
    "\n",
    "    3. Generate the predicted token from the decoder outputs\n",
    "\n",
    "<div class=\"alert alert-success\" style=\"color:black\"><b>Note:</b> During training the model uses <em>teacher forcing</em>, which, regardless of the predicted token, adds the actual (ground truth) token to the decoder inputs at each timestep. This is, of course, not valid during evaluation/inference, where the predicted token is appended to the decoder input for the next timestep.\n",
    "</div>\n",
    "\n",
    "The remaining functions are utility functions for generating translations with a trained model:\n",
    "\n",
    "1. `translate()` takes a sentence (string) as input, applies the necessary pre-processing, and generates a predicted output sentence as well as an attention plot from the attention weights\n",
    "\n",
    "2. `plot_attention()` generates a heatmap from the attention weights, which shows their magnitude with respect to each input/output token in the processed sequence\n",
    "\n",
    "Take some time to understand what the `Translator` class below is doing. Particularly the `call()` and `translate()` methods."
   ]
  },
  {
   "cell_type": "code",
   "execution_count": 7,
   "metadata": {
    "tags": []
   },
   "outputs": [
    {
     "data": {
      "text/html": [
       "<pre style=\"white-space:pre;overflow-x:auto;line-height:normal;font-family:Menlo,'DejaVu Sans Mono',consolas,'Courier New',monospace\"><span style=\"font-weight: bold\">Model: \"seq2seq_attn\"</span>\n",
       "</pre>\n"
      ],
      "text/plain": [
       "\u001b[1mModel: \"seq2seq_attn\"\u001b[0m\n"
      ]
     },
     "metadata": {},
     "output_type": "display_data"
    },
    {
     "data": {
      "text/html": [
       "<pre style=\"white-space:pre;overflow-x:auto;line-height:normal;font-family:Menlo,'DejaVu Sans Mono',consolas,'Courier New',monospace\">┏━━━━━━━━━━━━━━━━━━━━━┳━━━━━━━━━━━━━━━━━━━┳━━━━━━━━━━━━┳━━━━━━━━━━━━━━━━━━━┓\n",
       "┃<span style=\"font-weight: bold\"> Layer (type)        </span>┃<span style=\"font-weight: bold\"> Output Shape      </span>┃<span style=\"font-weight: bold\">    Param # </span>┃<span style=\"font-weight: bold\"> Connected to      </span>┃\n",
       "┡━━━━━━━━━━━━━━━━━━━━━╇━━━━━━━━━━━━━━━━━━━╇━━━━━━━━━━━━╇━━━━━━━━━━━━━━━━━━━┩\n",
       "│ encoder_inputs      │ (<span style=\"color: #00d7ff; text-decoration-color: #00d7ff\">None</span>, <span style=\"color: #00af00; text-decoration-color: #00af00\">20</span>)        │          <span style=\"color: #00af00; text-decoration-color: #00af00\">0</span> │ -                 │\n",
       "│ (<span style=\"color: #0087ff; text-decoration-color: #0087ff\">InputLayer</span>)        │                   │            │                   │\n",
       "├─────────────────────┼───────────────────┼────────────┼───────────────────┤\n",
       "│ decoder_inputs      │ (<span style=\"color: #00d7ff; text-decoration-color: #00d7ff\">None</span>, <span style=\"color: #00af00; text-decoration-color: #00af00\">20</span>)        │          <span style=\"color: #00af00; text-decoration-color: #00af00\">0</span> │ -                 │\n",
       "│ (<span style=\"color: #0087ff; text-decoration-color: #0087ff\">InputLayer</span>)        │                   │            │                   │\n",
       "├─────────────────────┼───────────────────┼────────────┼───────────────────┤\n",
       "│ Translator          │ (<span style=\"color: #00d7ff; text-decoration-color: #00d7ff\">None</span>, <span style=\"color: #00af00; text-decoration-color: #00af00\">20</span>, <span style=\"color: #00af00; text-decoration-color: #00af00\">27962</span>) │ <span style=\"color: #00af00; text-decoration-color: #00af00\">12,311,431</span> │ encoder_inputs[<span style=\"color: #00af00; text-decoration-color: #00af00\">0</span>… │\n",
       "│ (<span style=\"color: #0087ff; text-decoration-color: #0087ff\">Translator</span>)        │                   │            │ decoder_inputs[<span style=\"color: #00af00; text-decoration-color: #00af00\">0</span>… │\n",
       "└─────────────────────┴───────────────────┴────────────┴───────────────────┘\n",
       "</pre>\n"
      ],
      "text/plain": [
       "┏━━━━━━━━━━━━━━━━━━━━━┳━━━━━━━━━━━━━━━━━━━┳━━━━━━━━━━━━┳━━━━━━━━━━━━━━━━━━━┓\n",
       "┃\u001b[1m \u001b[0m\u001b[1mLayer (type)       \u001b[0m\u001b[1m \u001b[0m┃\u001b[1m \u001b[0m\u001b[1mOutput Shape     \u001b[0m\u001b[1m \u001b[0m┃\u001b[1m \u001b[0m\u001b[1m   Param #\u001b[0m\u001b[1m \u001b[0m┃\u001b[1m \u001b[0m\u001b[1mConnected to     \u001b[0m\u001b[1m \u001b[0m┃\n",
       "┡━━━━━━━━━━━━━━━━━━━━━╇━━━━━━━━━━━━━━━━━━━╇━━━━━━━━━━━━╇━━━━━━━━━━━━━━━━━━━┩\n",
       "│ encoder_inputs      │ (\u001b[38;5;45mNone\u001b[0m, \u001b[38;5;34m20\u001b[0m)        │          \u001b[38;5;34m0\u001b[0m │ -                 │\n",
       "│ (\u001b[38;5;33mInputLayer\u001b[0m)        │                   │            │                   │\n",
       "├─────────────────────┼───────────────────┼────────────┼───────────────────┤\n",
       "│ decoder_inputs      │ (\u001b[38;5;45mNone\u001b[0m, \u001b[38;5;34m20\u001b[0m)        │          \u001b[38;5;34m0\u001b[0m │ -                 │\n",
       "│ (\u001b[38;5;33mInputLayer\u001b[0m)        │                   │            │                   │\n",
       "├─────────────────────┼───────────────────┼────────────┼───────────────────┤\n",
       "│ Translator          │ (\u001b[38;5;45mNone\u001b[0m, \u001b[38;5;34m20\u001b[0m, \u001b[38;5;34m27962\u001b[0m) │ \u001b[38;5;34m12,311,431\u001b[0m │ encoder_inputs[\u001b[38;5;34m0\u001b[0m… │\n",
       "│ (\u001b[38;5;33mTranslator\u001b[0m)        │                   │            │ decoder_inputs[\u001b[38;5;34m0\u001b[0m… │\n",
       "└─────────────────────┴───────────────────┴────────────┴───────────────────┘\n"
      ]
     },
     "metadata": {},
     "output_type": "display_data"
    },
    {
     "data": {
      "text/html": [
       "<pre style=\"white-space:pre;overflow-x:auto;line-height:normal;font-family:Menlo,'DejaVu Sans Mono',consolas,'Courier New',monospace\"><span style=\"font-weight: bold\"> Total params: </span><span style=\"color: #00af00; text-decoration-color: #00af00\">12,311,431</span> (46.96 MB)\n",
       "</pre>\n"
      ],
      "text/plain": [
       "\u001b[1m Total params: \u001b[0m\u001b[38;5;34m12,311,431\u001b[0m (46.96 MB)\n"
      ]
     },
     "metadata": {},
     "output_type": "display_data"
    },
    {
     "data": {
      "text/html": [
       "<pre style=\"white-space:pre;overflow-x:auto;line-height:normal;font-family:Menlo,'DejaVu Sans Mono',consolas,'Courier New',monospace\"><span style=\"font-weight: bold\"> Trainable params: </span><span style=\"color: #00af00; text-decoration-color: #00af00\">12,311,431</span> (46.96 MB)\n",
       "</pre>\n"
      ],
      "text/plain": [
       "\u001b[1m Trainable params: \u001b[0m\u001b[38;5;34m12,311,431\u001b[0m (46.96 MB)\n"
      ]
     },
     "metadata": {},
     "output_type": "display_data"
    },
    {
     "data": {
      "text/html": [
       "<pre style=\"white-space:pre;overflow-x:auto;line-height:normal;font-family:Menlo,'DejaVu Sans Mono',consolas,'Courier New',monospace\"><span style=\"font-weight: bold\"> Non-trainable params: </span><span style=\"color: #00af00; text-decoration-color: #00af00\">0</span> (0.00 B)\n",
       "</pre>\n"
      ],
      "text/plain": [
       "\u001b[1m Non-trainable params: \u001b[0m\u001b[38;5;34m0\u001b[0m (0.00 B)\n"
      ]
     },
     "metadata": {},
     "output_type": "display_data"
    }
   ],
   "source": [
    "class Translator(tf.keras.Model):\n",
    "    \"\"\"Sequence to sequence model with attention for machine translation.\"\"\"\n",
    "\n",
    "    def __init__(self, in_vocab, out_vocab, max_seq_len, embedding_dim, recurrent_units, attn_units):\n",
    "        \"\"\"Constructor for translator model.\n",
    "\n",
    "        Arguments:\n",
    "            in_vocab (list): List of English vocabulary\n",
    "            out_vocab (list): List of French vocabulary\n",
    "            max_seq_len (int): Maximum sequence length\n",
    "            embedding_dim (int): Embedding dimension\n",
    "            recurrent_units (int): Number of recurrent units\n",
    "            attn_units (int): Number of attention units\n",
    "        \"\"\"\n",
    "        super().__init__(name='Translator')\n",
    "\n",
    "        self.in_vocab = in_vocab\n",
    "        self.out_vocab = out_vocab\n",
    "        self.max_seq_len = max_seq_len\n",
    "        self.embedding_dim = embedding_dim\n",
    "        self.recurrent_units = recurrent_units\n",
    "        self.attn_units = attn_units\n",
    "\n",
    "        # Set some empty attention weights for plotting\n",
    "        self.attention_weights = None\n",
    "\n",
    "        # Define the encoder layers\n",
    "        self.enc_embedding = tf.keras.layers.Embedding(\n",
    "            len(self.in_vocab),\n",
    "            self.embedding_dim,\n",
    "            mask_zero=True,\n",
    "            name='encoder_embedding')\n",
    "\n",
    "        self.encoder = layers.GRU(self.recurrent_units, return_sequences=True, return_state=True, dropout=0.0, name='encoder')\n",
    "        \n",
    "        # Define the decoder and attention layers\n",
    "        self.dec_embedding = tf.keras.layers.Embedding(\n",
    "            len(self.out_vocab),\n",
    "            self.embedding_dim,\n",
    "            mask_zero=True,\n",
    "            name='decoder_embedding')\n",
    "\n",
    "        self.attention_layer = BahdanauAttention(self.attn_units)\n",
    "        \n",
    "        self.decoder= layers.GRU(self.recurrent_units, return_sequences=True, return_state=True, dropout=0.0, name='decoder')\n",
    "        self.decoder_dense = layers.Dense(len(self.out_vocab), activation='softmax', name='decoder_dense')\n",
    "\n",
    "    def call(self, inputs, training=False):\n",
    "        \"\"\"Forward pass for translator model.\"\"\"\n",
    "        \n",
    "        # Accumulate the decoder outputs/predictions\n",
    "        all_outputs = []\n",
    "        self.attention_weights = []\n",
    "\n",
    "        # Unpack the inputs\n",
    "        encoder_inputs, decoder_inputs = inputs\n",
    "\n",
    "        # Encode the inputs\n",
    "        encoder_outputs = self.enc_embedding(encoder_inputs)\n",
    "        encoder_outputs, enc_state = self.encoder(encoder_outputs)\n",
    "\n",
    "        # Set the initial decoder state to the encoder state\n",
    "        dec_state = enc_state\n",
    "\n",
    "        # Iterate over the decoder inputs one token at a time\n",
    "        for t in range(self.max_seq_len):\n",
    "            # Get the current decoder input\n",
    "            # If training use the next decoder input (teacher forcing)\n",
    "            if training:\n",
    "                decoder_input = decoder_inputs[:, t]\n",
    "            # Else use the predicted decoder input (i.e when using the model for inference)\n",
    "            elif not training and t > 0:\n",
    "                # Squash the output time dimension, shape=(batch_size, vocab_size)\n",
    "                decoder_input = tf.squeeze(tf.argmax(decoder_outputs, axis=-1), axis=1) \n",
    "            # Else set the initial decoder input to the <s> token\n",
    "            elif not training and t == 0:\n",
    "                    current_batch_size = tf.shape(decoder_inputs)[0]\n",
    "                    decoder_input = tf.fill([current_batch_size], self.out_vocab.index('<s>'))\n",
    "\n",
    "            # Embed the decoder input, shape=(batch_size, 1, embedding_dim)\n",
    "            decoder_input = self.dec_embedding(decoder_input)\n",
    "            decoder_input = tf.expand_dims(decoder_input, axis=1)\n",
    "\n",
    "            # Calculate the context vector and attention weights, shape=(batch_size, 1, attn_units)\n",
    "            context_vector, curr_attn_weights = self.attention_layer(dec_state, encoder_outputs)\n",
    "            context_vector = tf.expand_dims(context_vector, axis=1)\n",
    "\n",
    "            # Store the attention weights to plot later on\n",
    "            curr_attn_weights = tf.reshape(curr_attn_weights, (-1, ))\n",
    "            self.attention_weights.append(curr_attn_weights)\n",
    "\n",
    "            # Concatenate the context vector and decoder input, shape=(batch_size, 1, embedding_dim + attn_units)\n",
    "            decoder_input = tf.concat([context_vector, decoder_input], axis=-1)\n",
    "\n",
    "            # Pass the concatenated vector to the decoder\n",
    "            decoder_outputs, dec_state = self.decoder(decoder_input, initial_state=dec_state)\n",
    "\n",
    "            # Generate the predictions and append to all_outputs shape=(batch_size, 1, vocab_size)\n",
    "            decoder_outputs = self.decoder_dense(decoder_outputs)\n",
    "\n",
    "            all_outputs.append(decoder_outputs)\n",
    "\n",
    "        # Concatenate the outputs, shape=(batch_size, max_seq_len, vocab_size)\n",
    "        outputs = tf.concat(all_outputs, axis=1)\n",
    "\n",
    "        # Stack the attention weights, shape=(batch_size, max_seq_len, max_seq_len)\n",
    "        self.attention_weights = tf.stack(self.attention_weights)\n",
    "\n",
    "        return outputs\n",
    "\n",
    "    def translate(self, sentence):\n",
    "        \"\"\"Function to translate a sentence.\"\"\"\n",
    "\n",
    "        # Preprocess the sentence\n",
    "        tokenised_sentence = ['<s>']  + preprocess_sentence(sentence) + ['</s>']\n",
    "        \n",
    "        # Vectorise and pad the sentence to the max sequence length\n",
    "        encoder_input = [self.in_vocab.index(word) for word in tokenised_sentence]\n",
    "        encoder_input = tf.keras.preprocessing.sequence.pad_sequences([encoder_input], maxlen=self.max_seq_len, padding='post')\n",
    "\n",
    "        # Create the decoder input\n",
    "        decoder_input = np.zeros((1, self.max_seq_len))\n",
    "\n",
    "        # Join the encoder and decoder inputs\n",
    "        inputs = (encoder_input, decoder_input)\n",
    "\n",
    "        # Generate the predictions and attention weights\n",
    "        predictions = self.call(inputs)\n",
    "        attention_weights = self.attention_weights\n",
    "\n",
    "        # Get the predicted sentence\n",
    "        predicted_ids = tf.argmax(predictions[0], axis=-1).numpy()\n",
    "        predicted_sentence = []\n",
    "        for tkn_id in predicted_ids:\n",
    "            if self.out_vocab[tkn_id] != '<pad>':\n",
    "                predicted_sentence.append(self.out_vocab[tkn_id])\n",
    "            if self.out_vocab[tkn_id] == '</s>':\n",
    "                break\n",
    "        # Above is a fix for model not behaving the same way on Juptyer CSCT cloud (even though code is the same)\n",
    "        # predicted_sentence = [self.out_vocab[i] for i in predicted_ids if self.out_vocab[i] != '<pad>']\n",
    "\n",
    "        print('Input: {}'.format(sentence))\n",
    "        print('Predicted translation: {}'.format(' '.join(predicted_sentence[:-1])))\n",
    "\n",
    "        # Only take the attention weights for the words in the sentence\n",
    "        attention_weights = attention_weights[:len(predicted_sentence), :len(tokenised_sentence)]\n",
    "        # Plot the attention weights\n",
    "        attn_fig = self.plot_attention(attention_weights, tokenised_sentence, predicted_sentence)\n",
    "\n",
    "        return ' '.join(predicted_sentence[:-1]), attn_fig\n",
    "\n",
    "    def plot_attention(self, attention, sentence, predicted_sentence):\n",
    "        \"\"\"Function for plotting the attention weights.\"\"\"\n",
    "\n",
    "        # Plot the attention weights\n",
    "        fig = plt.figure(figsize=(8, 6))\n",
    "        ax = fig.add_subplot(1, 1, 1)\n",
    "        ax.matshow(attention, cmap='viridis')\n",
    "\n",
    "        # Set the x and y ticks (need to discard the first and last for some reason)\n",
    "        yticks_loc = ax.get_yticks().tolist()[1:-1]\n",
    "        ax.yaxis.set_major_locator(ticker.FixedLocator(yticks_loc))\n",
    "        xticks_loc = ax.get_xticks().tolist()[1:-1]\n",
    "        ax.xaxis.set_major_locator(ticker.FixedLocator(xticks_loc))\n",
    "\n",
    "        # Set the labels\n",
    "        fontdict = {'fontsize': 14}\n",
    "        ax.set_xticklabels(sentence, fontdict=fontdict, rotation=90)\n",
    "        ax.set_yticklabels(predicted_sentence, fontdict=fontdict)\n",
    "\n",
    "        return fig\n",
    "\n",
    "# Hyperparameters\n",
    "embedding_dim = 100\n",
    "recurrent_units = 256\n",
    "attn_units = max_seq_len\n",
    "\n",
    "# Create the model\n",
    "encoder_inputs = layers.Input(shape=(max_seq_len, ), name='encoder_inputs')\n",
    "decoder_inputs = layers.Input(shape=(max_seq_len, ), name='decoder_inputs')\n",
    "translator = Translator(eng_vocab, fr_vocab, max_seq_len, embedding_dim, recurrent_units, attn_units)\n",
    "outputs = translator((encoder_inputs, decoder_inputs))\n",
    "\n",
    "model = tf.keras.Model(inputs=[encoder_inputs, decoder_inputs], outputs=outputs, name='seq2seq_attn')\n",
    "model.compile(loss='sparse_categorical_crossentropy', optimizer='adam', metrics=['accuracy'])\n",
    "model.summary()"
   ]
  },
  {
   "cell_type": "markdown",
   "metadata": {
    "deletable": false,
    "editable": false,
    "nbgrader": {
     "cell_type": "markdown",
     "checksum": "6296a71f3e681e7a2f10f33e25d0758c",
     "grade": false,
     "grade_id": "cell-df8274298d3f4143",
     "locked": true,
     "schema_version": 3,
     "solution": false,
     "task": false
    }
   },
   "source": [
    "### Train and evaluate the model\n",
    "\n",
    "Here we train the model using `model.fit()` as before.\n",
    "\n",
    "<div class=\"alert alert-danger\" style=\"color:black\"><b>Warning:</b> Please do not run this cell on UWE machines/CSCT cloud!<br>\n",
    "This training process can take a <em>very</em> long time! It could take many hours, depending on your hardware, and especially if you do not have a GPU. Instead, <b>skip this cell and load one the pre-trained model provided</b> (below).\n",
    "</div>"
   ]
  },
  {
   "cell_type": "code",
   "execution_count": null,
   "metadata": {
    "deletable": false,
    "editable": false,
    "nbgrader": {
     "cell_type": "code",
     "checksum": "0e5d6857ec1b34c406d49fca21629f9e",
     "grade": false,
     "grade_id": "cell-b3851fb78fc6b6a8",
     "locked": true,
     "schema_version": 3,
     "solution": false,
     "task": false
    }
   },
   "outputs": [],
   "source": [
    "# if not grading:\n",
    "#     model_chkptr = tf.keras.callbacks.ModelCheckpoint(\n",
    "#         os.path.join(data_dir,'seq2seq_translator.weights.h5'),\n",
    "#         monitor='val_loss',\n",
    "#         verbose=0,\n",
    "#         save_best_only=True,\n",
    "#         save_weights_only=True,\n",
    "#         mode='min',\n",
    "#         save_freq='epoch')\n",
    "\n",
    "#     model_earlystp = tf.keras.callbacks.EarlyStopping(\n",
    "#         monitor='val_loss',\n",
    "#         min_delta=0.001,\n",
    "#         patience=3,\n",
    "#         verbose=0,\n",
    "#         mode='min',\n",
    "#         restore_best_weights=True)\n",
    "\n",
    "#     # Fit the model\n",
    "#     results = model.fit(train_generator, epochs=20, validation_data=val_generator, callbacks=[model_chkptr, model_earlystp])\n",
    "#     # Save the results\n",
    "#     with open(os.path.join(data_dir, 'seq2seq_translator_results.pkl'), 'wb') as file:\n",
    "#         pickle.dump(results.history, file)"
   ]
  },
  {
   "cell_type": "code",
   "execution_count": 8,
   "metadata": {
    "tags": []
   },
   "outputs": [
    {
     "name": "stdout",
     "output_type": "stream",
     "text": [
      "Train loss: 0.349\n",
      "Train accuracy: 0.914\n",
      "Best validation loss: 2.332\n",
      "Best validation accuracy: 0.724\n"
     ]
    },
    {
     "data": {
      "image/png": "[encoded data removed]",
      "text/plain": [
       "<Figure size 800x600 with 2 Axes>"
      ]
     },
     "metadata": {},
     "output_type": "display_data"
    }
   ],
   "source": [
    "try: results\n",
    "except NameError: results = None\n",
    "if grading or not results:\n",
    "    # Load the results\n",
    "    with open(os.path.join(model_dir, 'seq2seq_translator_results.pkl'), 'rb') as file:\n",
    "        metrics = pickle.load(file)\n",
    "elif not grading and results:\n",
    "    # Or get them from model training\n",
    "    metrics = results.history\n",
    "\n",
    "# Show best loss and accuracy\n",
    "print(f\"Train loss: {min(metrics['loss']):.3f}\")\n",
    "print(f\"Train accuracy: {max(metrics['accuracy']):.3f}\")\n",
    "print(f\"Best validation loss: {min(metrics['val_loss']):.3f}\")\n",
    "print(f\"Best validation accuracy: {max(metrics['val_accuracy']):.3f}\")\n",
    "\n",
    "# Plot the training loss and accuracy\n",
    "fig, ax = plt.subplots(1, 2, figsize=(8, 6), sharex=True, sharey=False)\n",
    "ax[0].plot(metrics['loss'], label='Train Loss')\n",
    "ax[0].plot(metrics['val_loss'], label='Validation Loss')\n",
    "ax[0].set(xlabel='Epoch', ylabel='Loss')\n",
    "ax[1].plot(metrics['accuracy'], label='Train Accuracy')\n",
    "ax[1].plot(metrics['val_accuracy'], label='Validation Accuracy')\n",
    "ax[1].set(xlabel='Epoch', ylabel='Accuracy')\n",
    "plt.legend(['Train', 'Validation'])\n",
    "plt.tight_layout()\n",
    "plt.show()"
   ]
  },
  {
   "cell_type": "markdown",
   "metadata": {
    "deletable": false,
    "editable": false,
    "nbgrader": {
     "cell_type": "markdown",
     "checksum": "572b4c154cbdbd3057f5889b981dcf87",
     "grade": false,
     "grade_id": "cell-a46255eaff254f65",
     "locked": true,
     "schema_version": 3,
     "solution": false,
     "task": false
    }
   },
   "source": [
    "## 1.4 Calculate BLEU and METEOR scores\n",
    "\n",
    "[Bilingual Evaluation Understudy (BLEU)](https://aclanthology.org/P02-1040/), is a score for comparing a candidate translation of text to one or more reference translations.\n",
    "\n",
    "- BLEU score is more precision based than recalled. In other words, it is based on evaluating whether all words in the generated candidate are in the reference that a manual evaluator comes up with. But it does not check if all words in reference are covered!\n",
    "\n",
    "- BLEU score does not take into account semantic similarity. The BLEU score looks for exact word matches. But it does not consider the fact that a word such as red is close to the word scarlet for instance. For example, “the cat is on the mat” should be semantically similar to “the cat is over the mat”. However, “the cat is under the mat” does not mean the same thing! BLEU score fails here.\n",
    "\n",
    "- Good matches often have clusters of words in candidate that match closely with clusters of words in the reference. BLEU score is not great with capturing this.\n",
    "\n",
    "[METEOR](https://aclanthology.org/W05-0909/) evaluates a translation by computing a score based on explicit word-to-word matches between the translation and a given reference translation. If more than one reference translation is available, the translation is scored against each reference independently, and the best scoring pair is used.\n",
    "\n",
    "Once the model is trained we can evaluate it by calculating the BLEU and METEOR scores. First we should load the weights of the best model found during training. As previously discussed, due to the length of training time it is **highly recommended you load the model provided**:\n",
    "\n",
    "`seq2seq_translator.weights.h5`:\n",
    " - Vocabulary size = ~16k English and ~28k French\n",
    " - Max sequence length = 20\n",
    " - Embedding dimension = 100\n",
    " - LSTM units = 256\n",
    " - Epochs = ~10"
   ]
  },
  {
   "cell_type": "code",
   "execution_count": 9,
   "metadata": {
    "tags": []
   },
   "outputs": [
    {
     "name": "stderr",
     "output_type": "stream",
     "text": [
      "/opt/conda/lib/python3.11/site-packages/keras/src/saving/saving_lib.py:576: UserWarning: Skipping variable loading for optimizer 'adam', because it has 2 variables whereas the saved optimizer has 33 variables. \n",
      "  saveable.load_own_variables(weights_store.get(inner_path))\n"
     ]
    },
    {
     "data": {
      "text/html": [
       "<pre style=\"white-space:pre;overflow-x:auto;line-height:normal;font-family:Menlo,'DejaVu Sans Mono',consolas,'Courier New',monospace\"><span style=\"font-weight: bold\">Model: \"seq2seq_attn\"</span>\n",
       "</pre>\n"
      ],
      "text/plain": [
       "\u001b[1mModel: \"seq2seq_attn\"\u001b[0m\n"
      ]
     },
     "metadata": {},
     "output_type": "display_data"
    },
    {
     "data": {
      "text/html": [
       "<pre style=\"white-space:pre;overflow-x:auto;line-height:normal;font-family:Menlo,'DejaVu Sans Mono',consolas,'Courier New',monospace\">┏━━━━━━━━━━━━━━━━━━━━━┳━━━━━━━━━━━━━━━━━━━┳━━━━━━━━━━━━┳━━━━━━━━━━━━━━━━━━━┓\n",
       "┃<span style=\"font-weight: bold\"> Layer (type)        </span>┃<span style=\"font-weight: bold\"> Output Shape      </span>┃<span style=\"font-weight: bold\">    Param # </span>┃<span style=\"font-weight: bold\"> Connected to      </span>┃\n",
       "┡━━━━━━━━━━━━━━━━━━━━━╇━━━━━━━━━━━━━━━━━━━╇━━━━━━━━━━━━╇━━━━━━━━━━━━━━━━━━━┩\n",
       "│ encoder_inputs      │ (<span style=\"color: #00d7ff; text-decoration-color: #00d7ff\">None</span>, <span style=\"color: #00af00; text-decoration-color: #00af00\">20</span>)        │          <span style=\"color: #00af00; text-decoration-color: #00af00\">0</span> │ -                 │\n",
       "│ (<span style=\"color: #0087ff; text-decoration-color: #0087ff\">InputLayer</span>)        │                   │            │                   │\n",
       "├─────────────────────┼───────────────────┼────────────┼───────────────────┤\n",
       "│ decoder_inputs      │ (<span style=\"color: #00d7ff; text-decoration-color: #00d7ff\">None</span>, <span style=\"color: #00af00; text-decoration-color: #00af00\">20</span>)        │          <span style=\"color: #00af00; text-decoration-color: #00af00\">0</span> │ -                 │\n",
       "│ (<span style=\"color: #0087ff; text-decoration-color: #0087ff\">InputLayer</span>)        │                   │            │                   │\n",
       "├─────────────────────┼───────────────────┼────────────┼───────────────────┤\n",
       "│ Translator          │ (<span style=\"color: #00d7ff; text-decoration-color: #00d7ff\">None</span>, <span style=\"color: #00af00; text-decoration-color: #00af00\">20</span>, <span style=\"color: #00af00; text-decoration-color: #00af00\">27962</span>) │ <span style=\"color: #00af00; text-decoration-color: #00af00\">12,311,431</span> │ encoder_inputs[<span style=\"color: #00af00; text-decoration-color: #00af00\">0</span>… │\n",
       "│ (<span style=\"color: #0087ff; text-decoration-color: #0087ff\">Translator</span>)        │                   │            │ decoder_inputs[<span style=\"color: #00af00; text-decoration-color: #00af00\">0</span>… │\n",
       "└─────────────────────┴───────────────────┴────────────┴───────────────────┘\n",
       "</pre>\n"
      ],
      "text/plain": [
       "┏━━━━━━━━━━━━━━━━━━━━━┳━━━━━━━━━━━━━━━━━━━┳━━━━━━━━━━━━┳━━━━━━━━━━━━━━━━━━━┓\n",
       "┃\u001b[1m \u001b[0m\u001b[1mLayer (type)       \u001b[0m\u001b[1m \u001b[0m┃\u001b[1m \u001b[0m\u001b[1mOutput Shape     \u001b[0m\u001b[1m \u001b[0m┃\u001b[1m \u001b[0m\u001b[1m   Param #\u001b[0m\u001b[1m \u001b[0m┃\u001b[1m \u001b[0m\u001b[1mConnected to     \u001b[0m\u001b[1m \u001b[0m┃\n",
       "┡━━━━━━━━━━━━━━━━━━━━━╇━━━━━━━━━━━━━━━━━━━╇━━━━━━━━━━━━╇━━━━━━━━━━━━━━━━━━━┩\n",
       "│ encoder_inputs      │ (\u001b[38;5;45mNone\u001b[0m, \u001b[38;5;34m20\u001b[0m)        │          \u001b[38;5;34m0\u001b[0m │ -                 │\n",
       "│ (\u001b[38;5;33mInputLayer\u001b[0m)        │                   │            │                   │\n",
       "├─────────────────────┼───────────────────┼────────────┼───────────────────┤\n",
       "│ decoder_inputs      │ (\u001b[38;5;45mNone\u001b[0m, \u001b[38;5;34m20\u001b[0m)        │          \u001b[38;5;34m0\u001b[0m │ -                 │\n",
       "│ (\u001b[38;5;33mInputLayer\u001b[0m)        │                   │            │                   │\n",
       "├─────────────────────┼───────────────────┼────────────┼───────────────────┤\n",
       "│ Translator          │ (\u001b[38;5;45mNone\u001b[0m, \u001b[38;5;34m20\u001b[0m, \u001b[38;5;34m27962\u001b[0m) │ \u001b[38;5;34m12,311,431\u001b[0m │ encoder_inputs[\u001b[38;5;34m0\u001b[0m… │\n",
       "│ (\u001b[38;5;33mTranslator\u001b[0m)        │                   │            │ decoder_inputs[\u001b[38;5;34m0\u001b[0m… │\n",
       "└─────────────────────┴───────────────────┴────────────┴───────────────────┘\n"
      ]
     },
     "metadata": {},
     "output_type": "display_data"
    },
    {
     "data": {
      "text/html": [
       "<pre style=\"white-space:pre;overflow-x:auto;line-height:normal;font-family:Menlo,'DejaVu Sans Mono',consolas,'Courier New',monospace\"><span style=\"font-weight: bold\"> Total params: </span><span style=\"color: #00af00; text-decoration-color: #00af00\">12,311,431</span> (46.96 MB)\n",
       "</pre>\n"
      ],
      "text/plain": [
       "\u001b[1m Total params: \u001b[0m\u001b[38;5;34m12,311,431\u001b[0m (46.96 MB)\n"
      ]
     },
     "metadata": {},
     "output_type": "display_data"
    },
    {
     "data": {
      "text/html": [
       "<pre style=\"white-space:pre;overflow-x:auto;line-height:normal;font-family:Menlo,'DejaVu Sans Mono',consolas,'Courier New',monospace\"><span style=\"font-weight: bold\"> Trainable params: </span><span style=\"color: #00af00; text-decoration-color: #00af00\">12,311,431</span> (46.96 MB)\n",
       "</pre>\n"
      ],
      "text/plain": [
       "\u001b[1m Trainable params: \u001b[0m\u001b[38;5;34m12,311,431\u001b[0m (46.96 MB)\n"
      ]
     },
     "metadata": {},
     "output_type": "display_data"
    },
    {
     "data": {
      "text/html": [
       "<pre style=\"white-space:pre;overflow-x:auto;line-height:normal;font-family:Menlo,'DejaVu Sans Mono',consolas,'Courier New',monospace\"><span style=\"font-weight: bold\"> Non-trainable params: </span><span style=\"color: #00af00; text-decoration-color: #00af00\">0</span> (0.00 B)\n",
       "</pre>\n"
      ],
      "text/plain": [
       "\u001b[1m Non-trainable params: \u001b[0m\u001b[38;5;34m0\u001b[0m (0.00 B)\n"
      ]
     },
     "metadata": {},
     "output_type": "display_data"
    }
   ],
   "source": [
    "# Load the model\n",
    "model.load_weights(os.path.join(model_dir, 'seq2seq_translator.weights.h5'))\n",
    "model.summary()"
   ]
  },
  {
   "cell_type": "markdown",
   "metadata": {
    "deletable": false,
    "editable": false,
    "nbgrader": {
     "cell_type": "markdown",
     "checksum": "0e9a01727a65e9f16020e03b968fd108",
     "grade": false,
     "grade_id": "cell-d4a51943d74210ff",
     "locked": true,
     "schema_version": 3,
     "solution": false,
     "task": false
    }
   },
   "source": [
    "Now create a list of reference (ground truth) and candidate (predicted) sequences:\n",
    "\n",
    "1. Loop over each batch in the test data (we will use the validation set)\n",
    "\n",
    "2. Use the model to generate predictions\n",
    "\n",
    "3. Convert the predicted token ids back into words, and similarly for the actual translation\n",
    "\n",
    "4. Calculate BLEU and METEOR for all the candidate and reference pairs\n",
    "\n",
    "<div class=\"alert alert-danger\" style=\"color:black\"><b>Warning:</b> This cell is quite computationally expensive. It is strongly recommended you only run ~10-100 batches, just to get a picture of the BLEU and METEOR score.\n",
    "</div>"
   ]
  },
  {
   "cell_type": "code",
   "execution_count": null,
   "metadata": {},
   "outputs": [],
   "source": [
    "if not grading:\n",
    "    candidates = []\n",
    "    references = []\n",
    "    special_tokens = ['<s>', '</s>', '<pad>']\n",
    "\n",
    "    # Just make predictions on the first n batches\n",
    "    num_batches = 10\n",
    "    for i in range(num_batches):\n",
    "        \n",
    "        # Get the inputs and outputs\n",
    "        inputs, outputs = val_generator[i]\n",
    "\n",
    "        # Predict on the validation set\n",
    "        predictions = model.predict(inputs, verbose=0)\n",
    "\n",
    "        # Convert the predictions to ids\n",
    "        predicted_ids = tf.argmax(predictions, axis=-1).numpy()\n",
    "\n",
    "        # Get the predicted sentence and the reference sentence\n",
    "        for j in range(predicted_ids.shape[0]):\n",
    "\n",
    "            # Convert the ids to words\n",
    "            predicted_sentence = [fr_vocab[i] for i in predicted_ids[j] if fr_vocab[i] not in special_tokens]\n",
    "            candidates.append(predicted_sentence)\n",
    "\n",
    "            reference_sentence = [fr_vocab[i] for i in outputs[j] if fr_vocab[i] not in special_tokens]\n",
    "            references.append(reference_sentence)\n",
    "\n",
    "    # Smoothing function accounts for cases where the candidate sentence is shorter than the reference sentence\n",
    "    ch = SmoothingFunction().method7  # Chen and Cherry method\n",
    "\n",
    "    # Cumulative - calculation of individual n-gram scores at all orders from 1 to n\n",
    "    c_1g = corpus_bleu(references, candidates, weights=(1, 0, 0, 0), smoothing_function=ch)\n",
    "    c_2g = corpus_bleu(references, candidates, weights=(0.5, 0.5, 0, 0), smoothing_function=ch)\n",
    "    c_3g = corpus_bleu(references, candidates, weights=(0.33, 0.33, 0.33, 0), smoothing_function=ch)\n",
    "    c_4g = corpus_bleu(references, candidates, weights=(0.25, 0.25, 0.25, 0.25), smoothing_function=ch)\n",
    "    print(f\"BLEU Cumulative 1-gram: {c_1g:.4f}, 2-gram: {c_2g:.4f}, 3-gram: {c_3g:.4f}, 4-gram: {c_4g:.4f}\")\n",
    "\n",
    "    meteor_scores = [round(meteor([references[i]], candidates[i]), 5) for i in range(len(references))]\n",
    "    print(f\"Completions METEOR: Mean={np.mean(meteor_scores):.4f}, Max={np.max(meteor_scores):.4f}, Min={np.min(meteor_scores):.4f}\")"
   ]
  },
  {
   "cell_type": "markdown",
   "metadata": {
    "deletable": false,
    "editable": false,
    "nbgrader": {
     "cell_type": "markdown",
     "checksum": "33a1a2a4143d9af99928ca519e2d144e",
     "grade": false,
     "grade_id": "cell-6302d6e972007dfe",
     "locked": true,
     "schema_version": 3,
     "solution": false,
     "task": false
    }
   },
   "source": [
    "## 1.5 Translate text\n",
    "\n",
    "Once the model is trained we can now use it to translate some text! First we should load the weights of the best model found during training. Then we can set choose a phrase for translation and (optionally) set the correct translation. Our `translate()` function can take care of the rest!"
   ]
  },
  {
   "cell_type": "code",
   "execution_count": 10,
   "metadata": {
    "tags": []
   },
   "outputs": [
    {
     "name": "stdout",
     "output_type": "stream",
     "text": [
      "Input: I am a student.\n",
      "Predicted translation: je suis etudiant .\n",
      "Input sentence: I am a student.\n",
      "Translation: Je suis un étudiant.\n",
      "Predicted translation: je suis etudiant .\n"
     ]
    },
    {
     "data": {
      "image/png": "[encoded data removed]",
      "text/plain": [
       "<Figure size 800x600 with 1 Axes>"
      ]
     },
     "metadata": {},
     "output_type": "display_data"
    }
   ],
   "source": [
    "# Test the model on a sentence\n",
    "input_sentence = \"I am a student.\"\n",
    "correct_translation = \"Je suis un étudiant.\"\n",
    "\n",
    "# Translate the sentence\n",
    "predicted_translation, attn_fig = translator.translate(input_sentence)\n",
    "\n",
    "print(f\"Input sentence: {input_sentence}\")\n",
    "print(f\"Translation: {correct_translation}\")\n",
    "print(f\"Predicted translation: {predicted_translation}\")"
   ]
  },
  {
   "cell_type": "markdown",
   "metadata": {
    "deletable": false,
    "editable": false,
    "nbgrader": {
     "cell_type": "markdown",
     "checksum": "a38d00519b1b977c05a519dcae56b563",
     "grade": false,
     "grade_id": "cell-89f2500c66bda278",
     "locked": true,
     "schema_version": 3,
     "solution": false,
     "task": false
    }
   },
   "source": [
    "<div class=\"alert alert-success\" style=\"color:black\"><h3>Before you submit this notebook to NBGrader for marking:</h3> \n",
    "\n",
    "1. Make sure have completed all exercises marked by <span style=\"color:blue\">**blue cells**</span>.\n",
    "2. For automatically marked exercises ensure you have completed any cells with `# YOUR CODE HERE`. Then click 'Validate' button above, or ensure all cells run without producing an error.\n",
    "3. For manually marked exercises ensure you have completed any cells with `\"YOUR ANSWER HERE\"`.\n",
    "4. Ensure all cells are run with their output visible.\n",
    "5. Fill in your student ID (**only**) below.\n",
    "6. You should now **save and download** your work.\n",
    "\n",
    "</div>"
   ]
  },
  {
   "cell_type": "markdown",
   "metadata": {},
   "source": [
    "**Student ID:** 15006280\n"
   ]
  }
 ],
 "metadata": {
  "kernelspec": {
   "display_name": "adv_ai",
   "language": "python",
   "name": "adv_ai"
  },
  "language_info": {
   "codemirror_mode": {
    "name": "ipython",
    "version": 3
   },
   "file_extension": ".py",
   "mimetype": "text/x-python",
   "name": "python",
   "nbconvert_exporter": "python",
   "pygments_lexer": "ipython3",
   "version": "3.11.9"
  }
 },
 "nbformat": 4,
 "nbformat_minor": 4
}
