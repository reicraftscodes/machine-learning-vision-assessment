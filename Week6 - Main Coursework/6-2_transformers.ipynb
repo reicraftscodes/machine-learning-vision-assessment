{
 "cells": [
  {
   "cell_type": "markdown",
   "metadata": {
    "deletable": false,
    "editable": false,
    "nbgrader": {
     "cell_type": "markdown",
     "checksum": "bc571f9f7bc97b944e8a8cbe5f07662a",
     "grade": false,
     "grade_id": "cell-48458869b95c396d",
     "locked": true,
     "schema_version": 3,
     "solution": false,
     "task": false
    }
   },
   "source": [
    "<div class=\"alert alert-danger\" style=\"color:black\"><b>Running ML-LV Jupyter Notebooks:</b><br>\n",
    "    <ol>\n",
    "        <li>Make sure you are running all notebooks using the <code>adv_ai</code> kernel.\n",
    "        <li><b>It is very important that you do not create any additional files within the weekly folders on CSCT cloud.</b> Any additional files, or editing the notebooks with a different environment may prevent submission/marking of your work.</li>\n",
    "            <ul>\n",
    "                <li>NBGrader will automatically fetch and create the correct folders files for you.</li>\n",
    "                <li>All files that are not the Jupyter notebooks should be stored in the 'ML-LV/data' directory.</li>\n",
    "            </ul>\n",
    "        <li>Please <b>do not pip install</b> any python packages (or anything else). You should not need to install anything to complete these notebooks other than the packages provided in the Jupyter CSCT Cloud environment.</li>\n",
    "    </ol>\n",
    "    <b>If you would like to run this notebook locally you should:</b><br>\n",
    "    <ol>\n",
    "        <li>Create an environment using the requirements.txt file provided. <b>Any additional packages you install will not be accessible when uploaded to the server and may prevent marking.</b></li>\n",
    "        <li>Download a copy  of the notebook to your own machine. You can then edit the cells as you wish and then go back and copy the code into/edit the ones on the CSCT cloud in-place.</li>\n",
    "        <li><b>It is very important that you do not re-upload any notebooks that you have edited locally.</b> This is because NBGrader uses cell metadata to track marked tasks. <b>If you change this format it may prevent marking.</b></li>\n",
    "    </ol>\n",
    "</div>"
   ]
  },
  {
   "cell_type": "markdown",
   "metadata": {
    "deletable": false,
    "editable": false,
    "nbgrader": {
     "cell_type": "markdown",
     "checksum": "f2742d32b576e17dd4a70275b2b81f83",
     "grade": false,
     "grade_id": "cell-d733db0e9a8b211b",
     "locked": true,
     "schema_version": 3,
     "solution": false,
     "task": false
    }
   },
   "source": [
    "# 2 Translation with Transformers (T5)\n",
    "\n",
    "## 2.0 Import libraries\n",
    "\n",
    "1. [Transformers](https://huggingface.co/docs/transformers/index) - is a Python library created by Hugging Face 🤗. It provides APIs and tools to easily download and train state-of-the-art pretrained models."
   ]
  },
  {
   "cell_type": "code",
   "execution_count": 1,
   "metadata": {
    "tags": []
   },
   "outputs": [],
   "source": [
    "import os\n",
    "os.environ['TF_CPP_MIN_LOG_LEVEL'] = '3'  # Suppress Tensorflow messages\n",
    "os.environ[\"TF_USE_LEGACY_KERAS\"] = \"1\"  # Use legacy keras for compatibility\n",
    "import re\n",
    "import pickle\n",
    "import nltk\n",
    "import numpy as np\n",
    "import matplotlib.pyplot as plt\n",
    "import tensorflow as tf\n",
    "from nltk.translate.bleu_score import corpus_bleu, SmoothingFunction\n",
    "from nltk.translate import meteor\n",
    "from transformers import AutoTokenizer, DataCollatorForSeq2Seq, TFT5ForConditionalGeneration, AdamWeightDecay, pipeline\n",
    "from datasets import Dataset\n",
    "%matplotlib inline\n",
    "\n",
    "# Get the status of NBgrader (for skipping cell execution while validating/grading)\n",
    "grading = True if os.getenv('NBGRADER_EXECUTION') else False\n",
    "\n",
    "# Set seaborn style for matplotlib plots\n",
    "plt.style.use('seaborn-v0_8-white')\n",
    "\n",
    "# Get the project directory (should be in ML-LV)\n",
    "path = ''\n",
    "while os.path.basename(os.path.abspath(path)) != 'ML-LV':\n",
    "    path = os.path.abspath(os.path.join(path, '..'))\n",
    "\n",
    "# Set the directory to the data folder (should be in ML-LV/data)\n",
    "data_dir = os.path.join(path, 'data')\n",
    "\n",
    "# Set the directory to the shared dataset folder (should be in shared/datasets/translate)\n",
    "dataset_dir = os.path.join(path, '..', 'shared', 'datasets', 'translate')\n",
    "\n",
    "# Set the directory to the shared models folder (should be in shared/models/translate)\n",
    "model_dir = os.path.join(path, '..', 'shared', 'models', 'translate')\n",
    "\n",
    "# Set the nltk data directory (should be in shared/datasets/nltk_data)\n",
    "nltk.data.path.append(os.path.join(dataset_dir, '..', 'nltk_data'))"
   ]
  },
  {
   "cell_type": "markdown",
   "metadata": {
    "deletable": false,
    "editable": false,
    "nbgrader": {
     "cell_type": "markdown",
     "checksum": "4eda74a37b632dd3d0087d843031cc9e",
     "grade": false,
     "grade_id": "cell-203aed7ebf4a787b",
     "locked": true,
     "schema_version": 3,
     "solution": false,
     "task": false
    }
   },
   "source": [
    "## 2.1 Load and pre-process data\n",
    "\n",
    "The data directory should contain the English and French text file. We will simply loop over the file and separate the English and French phrases. However, this time we wont preform any further pre-processing yet."
   ]
  },
  {
   "cell_type": "code",
   "execution_count": 2,
   "metadata": {},
   "outputs": [
    {
     "name": "stdout",
     "output_type": "stream",
     "text": [
      "Number of English sentences: 197463\n",
      "Number of French sentences: 197463\n",
      "First 5 sentences: \n",
      "Go. -> Va !\n",
      "Go. -> Marche.\n",
      "Go. -> En route !\n",
      "Go. -> Bouge !\n",
      "Hi. -> Salut !\n"
     ]
    }
   ],
   "source": [
    "if not grading:\n",
    "    # Preprocess the English and French sentences\n",
    "    eng_corpus = []\n",
    "    fr_corpus = []\n",
    "    with open(os.path.join(dataset_dir, 'english-french.txt'), 'r', encoding='utf-8') as file:\n",
    "        text = file.read().splitlines()\n",
    "\n",
    "        for line in text:\n",
    "            # Split the line into English and French\n",
    "            line = line.split('\\t')\n",
    "\n",
    "            # Add to corpus\n",
    "            eng_corpus.append(line[0])\n",
    "            fr_corpus.append(line[1])\n",
    "\n",
    "    print(f\"Number of English sentences: {len(eng_corpus)}\")\n",
    "    print(f\"Number of French sentences: {len(fr_corpus)}\")\n",
    "    print(\"First 5 sentences: \")\n",
    "    for i in range(5):\n",
    "        print(eng_corpus[i] + ' -> ' + fr_corpus[i])"
   ]
  },
  {
   "cell_type": "markdown",
   "metadata": {
    "deletable": false,
    "editable": false,
    "nbgrader": {
     "cell_type": "markdown",
     "checksum": "05644a35c155e5a9932a6447c0551de2",
     "grade": false,
     "grade_id": "cell-dc3abf360ab838e8",
     "locked": true,
     "schema_version": 3,
     "solution": false,
     "task": false
    }
   },
   "source": [
    "## 2.2 Tokenise and Batch the data\n",
    "\n",
    "Next we will create a [Dataset](https://huggingface.co/docs/datasets/v2.8.0/en/package_reference/main_classes#main-classes) using the Hugging Face 🤗 Dataset class. This allows us to create a dataset from the English and French corpora, split the data into training and test sets (like the SKlearn function) and also batch the data.\n",
    "\n",
    "We will also create a [Tokeniser](https://huggingface.co/docs/transformers/v4.26.0/en/main_classes/tokenizer) for the T5 model. The tokeniser...tokenises the input and output sequences. It also pads/truncates the sequences to the `max_seq_len` and creates a vocabulary.\n",
    "\n",
    "Together the `Dataset` and `Tokeniser` automate many of the steps of the data generator and vocabulary creation that we implemented for the Seq2Seq model.\n",
    "\n",
    "<div class=\"alert alert-success\" style=\"color:black\"><b>Note:</b> Models such as T5 and GPT-3 use prompts to inform the model which task it is to perform. In this case we add the prefix \"translate English to French: \" to the input sequences.</div>"
   ]
  },
  {
   "cell_type": "code",
   "execution_count": 3,
   "metadata": {},
   "outputs": [
    {
     "data": {
      "application/vnd.jupyter.widget-view+json": {
       "model_id": "06466d77f36349438d05dee7f6864550",
       "version_major": 2,
       "version_minor": 0
      },
      "text/plain": [
       "Map:   0%|          | 0/157970 [00:00<?, ? examples/s]"
      ]
     },
     "metadata": {},
     "output_type": "display_data"
    },
    {
     "data": {
      "application/vnd.jupyter.widget-view+json": {
       "model_id": "1bfe3ada68c042eeb9f294719cc4d32d",
       "version_major": 2,
       "version_minor": 0
      },
      "text/plain": [
       "Map:   0%|          | 0/39493 [00:00<?, ? examples/s]"
      ]
     },
     "metadata": {},
     "output_type": "display_data"
    },
    {
     "name": "stdout",
     "output_type": "stream",
     "text": [
      "Train Dataset: Dataset({\n",
      "    features: ['eng', 'fr', 'input_ids', 'attention_mask', 'labels'],\n",
      "    num_rows: 157970\n",
      "})\n",
      "Test Dataset: Dataset({\n",
      "    features: ['eng', 'fr', 'input_ids', 'attention_mask', 'labels'],\n",
      "    num_rows: 39493\n",
      "})\n",
      "Input Sentence: I'm fighting mad because someone stole my bike.\n",
      "Input Vector: [13959, 1566, 12, 2379, 10, 27, 31, 51, 6237, 11454, 250, 841, 26357, 82, 3724, 5, 1]\n",
      "Attention Mask: [1, 1, 1, 1, 1, 1, 1, 1, 1, 1, 1, 1, 1, 1, 1, 1, 1]\n",
      "Target Sentence: Je suis en rogne parce que quelqu'un a fauché mon vélo.\n",
      "Target Vector: [1022, 3448, 3, 35, 3, 3822, 29, 15, 9359, 238, 22002, 31, 202, 3, 9, 3, 89, 11532, 154, 1]\n",
      "\n",
      "Input Sentence: I have great friends.\n",
      "Input Vector: [13959, 1566, 12, 2379, 10, 27, 43, 248, 803, 5, 1]\n",
      "Attention Mask: [1, 1, 1, 1, 1, 1, 1, 1, 1, 1, 1]\n",
      "Target Sentence: J'ai de très bons amis.\n",
      "Target Vector: [446, 31, 9, 23, 20, 1264, 2682, 7, 15245, 5, 1]\n",
      "\n",
      "Input Sentence: We aren't sure.\n",
      "Input Vector: [13959, 1566, 12, 2379, 10, 101, 33, 29, 31, 17, 417, 5, 1]\n",
      "Attention Mask: [1, 1, 1, 1, 1, 1, 1, 1, 1, 1, 1, 1, 1]\n",
      "Target Sentence: Nous ne sommes pas sûrs.\n",
      "Target Vector: [2228, 3, 29, 15, 7056, 330, 9524, 7, 5, 1]\n",
      "\n"
     ]
    }
   ],
   "source": [
    "if not grading:\n",
    "    # Set the maximum sequence length and batch size\n",
    "    max_seq_len = 20\n",
    "    batch_size = 64\n",
    "    \n",
    "    # Create a dataset from the English and French sentences\n",
    "    dataset = Dataset.from_dict({'eng': eng_corpus, 'fr': fr_corpus})\n",
    "    dataset = dataset.train_test_split(test_size=0.2, shuffle=True, seed=42)\n",
    "    \n",
    "    # The prefix is added to the English sentences to indicate that they are to be translated to French\n",
    "    prefix = \"translate English to French: \"\n",
    "    def preprocess_function(examples):\n",
    "        inputs = [prefix + example for example in examples['eng']]\n",
    "        targets = [example for example in examples['fr']]\n",
    "        model_inputs = tokeniser(inputs, text_target=targets, max_length=max_seq_len, truncation=True)\n",
    "        return model_inputs\n",
    "    \n",
    "    # Create a tokeniser for the English and French sentences using the T5 model\n",
    "    tokeniser = AutoTokenizer.from_pretrained(os.path.join(model_dir, 't5_tokeniser'), model_max_length=max_seq_len)\n",
    "    # Apply the preprocessing function to the dataset\n",
    "    tokenised_data = dataset.map(preprocess_function, batched=True, batch_size=batch_size)\n",
    "    \n",
    "    # Print the keys and shapes of the training and test datasets\n",
    "    print(f\"Train Dataset: {tokenised_data['train']}\")\n",
    "    print(f\"Test Dataset: {tokenised_data['test']}\")\n",
    "    \n",
    "    # Print the first examples\n",
    "    for i in range(3):\n",
    "        print(f\"Input Sentence: {tokenised_data['train'][i]['eng']}\")\n",
    "        print(f\"Input Vector: {tokenised_data['train'][i]['input_ids']}\")\n",
    "        print(f\"Attention Mask: {tokenised_data['train'][i]['attention_mask']}\")\n",
    "        print(f\"Target Sentence: {tokenised_data['train'][i]['fr']}\")\n",
    "        print(f\"Target Vector: {tokenised_data['train'][i]['labels']}\")\n",
    "        print()"
   ]
  },
  {
   "cell_type": "markdown",
   "metadata": {
    "deletable": false,
    "editable": false,
    "nbgrader": {
     "cell_type": "markdown",
     "checksum": "35b7e1e4ad403512381e40a23fe91d93",
     "grade": false,
     "grade_id": "cell-9c65633ccce456af",
     "locked": true,
     "schema_version": 3,
     "solution": false,
     "task": false
    }
   },
   "source": [
    "Next we create a [DataCollator](https://huggingface.co/docs/transformers/main_classes/data_collator#transformers.DataCollatorForSeq2Seq) which is a utility for creating the appropriate encoder and decoder inputs for Seq2Seq models, just as we did with the `MTDataGenerator` class. Then we can create a Tensorflow dataset from the training and test split we created previously."
   ]
  },
  {
   "cell_type": "code",
   "execution_count": 5,
   "metadata": {},
   "outputs": [],
   "source": [
    "# Create a data collator for the tokenised data\n",
    "data_collator = DataCollatorForSeq2Seq(tokenizer=tokeniser, return_tensors=\"tf\")\n",
    "\n",
    "# Create TensorFlow datasets from the tokenised data\n",
    "train_set = tokenised_data['train'].to_tf_dataset(\n",
    "    columns=['input_ids', 'attention_mask'],\n",
    "    label_cols=['labels'],\n",
    "    shuffle=True,\n",
    "    batch_size=batch_size,\n",
    "    collate_fn=data_collator,\n",
    ")\n",
    "\n",
    "test_set = tokenised_data['test'].to_tf_dataset(\n",
    "    columns=['input_ids', 'attention_mask'],\n",
    "    label_cols=['labels'],\n",
    "    shuffle=True,\n",
    "    batch_size=batch_size,\n",
    "    collate_fn=data_collator,\n",
    ")"
   ]
  },
  {
   "cell_type": "markdown",
   "metadata": {
    "deletable": false,
    "editable": false,
    "nbgrader": {
     "cell_type": "markdown",
     "checksum": "9af0c085dafd191c3f9921d7a5f7c9c5",
     "grade": false,
     "grade_id": "cell-18f7bcdd3facfd01",
     "locked": true,
     "schema_version": 3,
     "solution": false,
     "task": false
    }
   },
   "source": [
    "## 2.3 Build the T5 Model\n",
    "\n",
    "With the Hugging Face 🤗 library it is very straightforward to load a pre-trained model, and [there are lots to choose from](https://huggingface.co/models). We just need to provide a compatible model name, in this case 't5-small', which will be downloaded and can then be compiled like a standard Keras model."
   ]
  },
  {
   "cell_type": "code",
   "execution_count": 6,
   "metadata": {},
   "outputs": [
    {
     "name": "stderr",
     "output_type": "stream",
     "text": [
      "All model checkpoint layers were used when initializing TFT5ForConditionalGeneration.\n",
      "\n",
      "All the layers of TFT5ForConditionalGeneration were initialized from the model checkpoint at /home/jovyan/ML-LV/../shared/models/translate/t5_small.\n",
      "If your task is similar to the task the model of the checkpoint was trained on, you can already use TFT5ForConditionalGeneration for predictions without further training.\n"
     ]
    },
    {
     "name": "stdout",
     "output_type": "stream",
     "text": [
      "Model: \"tft5_for_conditional_generation\"\n",
      "_________________________________________________________________\n",
      " Layer (type)                Output Shape              Param #   \n",
      "=================================================================\n",
      " shared (Embedding)          multiple                  16449536  \n",
      "                                                                 \n",
      " encoder (TFT5MainLayer)     multiple                  35330816  \n",
      "                                                                 \n",
      " decoder (TFT5MainLayer)     multiple                  41625344  \n",
      "                                                                 \n",
      "=================================================================\n",
      "Total params: 60506624 (230.81 MB)\n",
      "Trainable params: 60506624 (230.81 MB)\n",
      "Non-trainable params: 0 (0.00 Byte)\n",
      "_________________________________________________________________\n"
     ]
    }
   ],
   "source": [
    "# Create the AdamWeightDecay optimizer\n",
    "optimiser = AdamWeightDecay(learning_rate=2e-5, weight_decay_rate=0.01)\n",
    "# Load the T5 model\n",
    "model = TFT5ForConditionalGeneration.from_pretrained(os.path.join(model_dir, 't5_small'))\n",
    "model.compile(optimizer=optimiser)\n",
    "model.summary()"
   ]
  },
  {
   "cell_type": "markdown",
   "metadata": {
    "deletable": false,
    "editable": false,
    "nbgrader": {
     "cell_type": "markdown",
     "checksum": "deff28ba917c47fddcae5c25f40d4990",
     "grade": false,
     "grade_id": "cell-f2c047b6a917a33b",
     "locked": true,
     "schema_version": 3,
     "solution": false,
     "task": false
    }
   },
   "source": [
    "### Train and evaluate the model\n",
    "\n",
    "Here we train the model using `model.fit()` as before. However, instead of saving the model weights during training, using the `ModelCheckpoint`, we will simply save the fine-tuned model once training is complete. Usually  only a few epochs are necessary when fine-tuning a model.\n",
    "\n",
    "<div class=\"alert alert-danger\" style=\"color:black\"><b>Warning:</b> Please do not run this cell on UWE machines/CSCT cloud!<br>\n",
    "This training process can take a <em>very</em> long time! It could take many hours, depending on your hardware, and especially if you do not have a GPU. Instead, <b>skip this cell and load one the pre-trained model provided</b> (below).\n",
    "</div>"
   ]
  },
  {
   "cell_type": "code",
   "execution_count": null,
   "metadata": {
    "deletable": false,
    "editable": false,
    "nbgrader": {
     "cell_type": "code",
     "checksum": "9019b3245bf47aa73a9e679665c55834",
     "grade": false,
     "grade_id": "cell-b5d099475dab3f65",
     "locked": true,
     "schema_version": 3,
     "solution": false,
     "task": false
    }
   },
   "outputs": [],
   "source": [
    "# if not grading:\n",
    "#     model_earlystp = tf.keras.callbacks.EarlyStopping(\n",
    "#         monitor='val_loss',\n",
    "#         min_delta=0.01,\n",
    "#         patience=2,\n",
    "#         verbose=0,\n",
    "#         mode='min',\n",
    "#         restore_best_weights=True)\n",
    "    \n",
    "#     # Fit the model\n",
    "#     results = model.fit(train_set, epochs=5, validation_data=test_set, callbacks=[model_earlystp])\n",
    "\n",
    "#     # Save the model\n",
    "#     model.save_pretrained(os.path.join(data_dir, 't5_translator'))\n",
    "\n",
    "#     # Save the results\n",
    "#     with open(os.path.join(data_dir, 't5_translator_results.pkl'), 'wb') as file:\n",
    "#         pickle.dump(results.history, file)"
   ]
  },
  {
   "cell_type": "code",
   "execution_count": 7,
   "metadata": {},
   "outputs": [
    {
     "name": "stdout",
     "output_type": "stream",
     "text": [
      "Train loss: 0.626\n",
      "Best validation loss: 0.529\n"
     ]
    },
    {
     "data": {
      "image/png": "[encoded data removed]",
      "text/plain": [
       "<Figure size 800x600 with 1 Axes>"
      ]
     },
     "metadata": {},
     "output_type": "display_data"
    }
   ],
   "source": [
    "try: results\n",
    "except NameError: results = None\n",
    "if grading or not results:\n",
    "    # Load the results\n",
    "    with open(os.path.join(model_dir, 't5_translator_results.pkl'), 'rb') as file:\n",
    "        metrics = pickle.load(file)\n",
    "elif not grading and results:\n",
    "    # Or get them from model training\n",
    "    metrics = results.history\n",
    "\n",
    "# Show best loss and accuracy\n",
    "print(f\"Train loss: {min(metrics['loss']):.3f}\")\n",
    "print(f\"Best validation loss: {min(metrics['val_loss']):.3f}\")\n",
    "\n",
    "# Plot the training loss and accuracy\n",
    "fig, ax = plt.subplots(figsize=(8, 6))\n",
    "ax.plot(metrics['loss'], label='Train Loss')\n",
    "ax.plot(metrics['val_loss'], label='Validation Loss')\n",
    "ax.set(xlabel='Epoch', ylabel='Loss')\n",
    "plt.legend(['Train', 'Validation'])\n",
    "plt.tight_layout()\n",
    "plt.show()"
   ]
  },
  {
   "cell_type": "markdown",
   "metadata": {
    "deletable": false,
    "editable": false,
    "nbgrader": {
     "cell_type": "markdown",
     "checksum": "f46ae8e7f2278e3522826597a1b9e800",
     "grade": false,
     "grade_id": "cell-6f13f22083e37957",
     "locked": true,
     "schema_version": 3,
     "solution": false,
     "task": false
    }
   },
   "source": [
    "## 2.4 Calculate BLEU and METEOR scores\n",
    "\n",
    "Once the model is trained we can evaluate it by calculating the BLEU and METEOR scores. First we should load the weights of the model as well as the tokeniser. The process is similar to before:\n",
    "\n",
    "1. Loop over each batch in the test set\n",
    "\n",
    "2. Use the model to generate predictions\n",
    "\n",
    "3. Convert the predicted token ids back into words, and similarly for the actual translation. In this case the `.decode()` function returns a complete string, so we need to split them back into tokens and ignore everything after the `</s>` token.\n",
    "\n",
    "4. Calculate BLEU and METEOR for all the candidate and reference pairs\n",
    "\n",
    "<div class=\"alert alert-danger\" style=\"color:black\"><b>Warning:</b> This cell is quite computationally expensive. It is strongly recommended you only run ~10-100 batches, just to get a picture of the BLEU and METEOR score.\n",
    "</div>"
   ]
  },
  {
   "cell_type": "code",
   "execution_count": 8,
   "metadata": {},
   "outputs": [
    {
     "name": "stderr",
     "output_type": "stream",
     "text": [
      "All model checkpoint layers were used when initializing TFT5ForConditionalGeneration.\n",
      "\n",
      "All the layers of TFT5ForConditionalGeneration were initialized from the model checkpoint at /home/jovyan/ML-LV/../shared/models/translate/t5_translator.\n",
      "If your task is similar to the task the model of the checkpoint was trained on, you can already use TFT5ForConditionalGeneration for predictions without further training.\n"
     ]
    }
   ],
   "source": [
    "# Load the best model found during training\n",
    "model = TFT5ForConditionalGeneration.from_pretrained(os.path.join(model_dir,'t5_translator'))\n",
    "tokeniser = AutoTokenizer.from_pretrained(os.path.join(model_dir, 't5_tokeniser'))"
   ]
  },
  {
   "cell_type": "code",
   "execution_count": 9,
   "metadata": {},
   "outputs": [
    {
     "name": "stdout",
     "output_type": "stream",
     "text": [
      "BLEU Cumulative 1-gram: 0.4377, 2-gram: 0.2528, 3-gram: 0.1489, 4-gram: 0.0844\n",
      "Completions METEOR: Mean=0.7409, Max=0.9998, Min=0.0000\n"
     ]
    }
   ],
   "source": [
    "if not grading: \n",
    "    candidates = []\n",
    "    references = []\n",
    "\n",
    "    # Just make predictions on the first n batches\n",
    "    num_batches = 10\n",
    "    for i in range(num_batches):\n",
    "        example = next(iter(test_set))\n",
    "\n",
    "        # Predict on the test set\n",
    "        inp_ids, attn_mask, labels = example[0]['input_ids'], example[0]['attention_mask'], example[1]\n",
    "        outputs = model(input_ids=inp_ids, attention_mask=attn_mask, decoder_input_ids=None, labels=labels)\n",
    "\n",
    "        # Convert the logits to predicted ids\n",
    "        predictions = tf.nn.softmax(outputs['logits'], axis=-1)\n",
    "        predicted_ids = tf.argmax(predictions, axis=-1).numpy()\n",
    "\n",
    "        # Get the predicted sentences and the reference sentence\n",
    "        for j in range(predicted_ids.shape[0]):\n",
    "\n",
    "            # Use the tokeniser to decode the predicted ids\n",
    "            predicted_sentence = tokeniser.decode(predicted_ids[j], skip_special_tokens=False)\n",
    "            predicted_sentence = re.sub(r\"([?.!,¿])\", r\" \\1 \", predicted_sentence)\n",
    "            # Ignore everything after the </s> token\n",
    "            predicted_sentence = predicted_sentence.split('</s>')[0]\n",
    "            predicted_sentence = predicted_sentence.strip().split(' ')\n",
    "            candidates.append(predicted_sentence)\n",
    "\n",
    "            # Use the tokeniser to decode the reference ids from the labels\n",
    "            label_ids = np.delete(labels[j], np.where(labels[j] == -100)) # Remove the padding tokens\n",
    "            reference_sentence = tokeniser.decode(label_ids, skip_special_tokens=True)\n",
    "            reference_sentence = re.sub(r\"([?.!,¿])\", r\" \\1 \", reference_sentence)\n",
    "            reference_sentence = reference_sentence.strip().split(' ')\n",
    "            references.append(reference_sentence)\n",
    "\n",
    "    # Smoothing function accounts for cases where the candidate sentence is shorter than the reference sentence\n",
    "    ch = SmoothingFunction().method7  # Chen and Cherry method\n",
    "\n",
    "    # Cumulative - calculation of individual n-gram scores at all orders from 1 to n\n",
    "    c_1g = corpus_bleu(references, candidates, weights=(1, 0, 0, 0), smoothing_function=ch)\n",
    "    c_2g = corpus_bleu(references, candidates, weights=(0.5, 0.5, 0, 0), smoothing_function=ch)\n",
    "    c_3g = corpus_bleu(references, candidates, weights=(0.33, 0.33, 0.33, 0), smoothing_function=ch)\n",
    "    c_4g = corpus_bleu(references, candidates, weights=(0.25, 0.25, 0.25, 0.25), smoothing_function=ch)\n",
    "    print(f\"BLEU Cumulative 1-gram: {c_1g:.4f}, 2-gram: {c_2g:.4f}, 3-gram: {c_3g:.4f}, 4-gram: {c_4g:.4f}\")\n",
    "\n",
    "    meteor_scores = [round(meteor([references[i]], candidates[i]), 5) for i in range(len(references))]\n",
    "    print(f\"Completions METEOR: Mean={np.mean(meteor_scores):.4f}, Max={np.max(meteor_scores):.4f}, Min={np.min(meteor_scores):.4f}\")"
   ]
  },
  {
   "cell_type": "markdown",
   "metadata": {
    "deletable": false,
    "editable": false,
    "nbgrader": {
     "cell_type": "markdown",
     "checksum": "395ed0ed7cb1bcfd6bbb937d99cf920e",
     "grade": false,
     "grade_id": "cell-0c4d414f2e6d0aec",
     "locked": true,
     "schema_version": 3,
     "solution": false,
     "task": false
    }
   },
   "source": [
    "## 2.5 Translate text\n",
    "\n",
    "Once the model is trained we can now use it to translate some text! First we should load the weights of the model as well as the tokeniser. Then we can set choose a phrase for translation and (optionally) set the correct translation. Then we can use a [Pipeline](https://huggingface.co/docs/transformers/v4.26.0/en/main_classes/pipelines#transformers.pipeline) to create a full end-to-end translation function with our model and tokeniser."
   ]
  },
  {
   "cell_type": "code",
   "execution_count": 12,
   "metadata": {},
   "outputs": [
    {
     "name": "stderr",
     "output_type": "stream",
     "text": [
      "Device set to use 0\n"
     ]
    },
    {
     "name": "stdout",
     "output_type": "stream",
     "text": [
      "Input sentence: I am a student.\n",
      "Translation: Je suis un étudiant.\n",
      "Predicted translation: Ich bin student.\n"
     ]
    }
   ],
   "source": [
    "# Test the model on a sentence\n",
    "input_sentence = \"I am a student.\"\n",
    "correct_translation = \"Je suis un étudiant.\"\n",
    "\n",
    "# Create a pipeline to translate the input sentence\n",
    "translator = pipeline(\"translation_en_to_fr\", model=model, tokenizer=tokeniser)\n",
    "predicted_translation = translator(input_sentence)\n",
    "\n",
    "print(f\"Input sentence: {input_sentence}\")\n",
    "print(f\"Translation: {correct_translation}\")\n",
    "print(f\"Predicted translation: {predicted_translation[0]['translation_text']}\")"
   ]
  },
  {
   "cell_type": "markdown",
   "metadata": {
    "deletable": false,
    "editable": false,
    "nbgrader": {
     "cell_type": "markdown",
     "checksum": "bac6e97b1872dbeb877dfba608588d54",
     "grade": false,
     "grade_id": "cell-7b034bb4d0a3601e",
     "locked": true,
     "schema_version": 3,
     "solution": false,
     "task": false
    }
   },
   "source": [
    "<div class=\"alert alert-success\" style=\"color:black\"><h3>Before you submit this notebook to NBGrader for marking:</h3> \n",
    "\n",
    "1. Make sure have completed all exercises marked by <span style=\"color:blue\">**blue cells**</span>.\n",
    "2. For automatically marked exercises ensure you have completed any cells with `# YOUR CODE HERE`. Then click 'Validate' button above, or ensure all cells run without producing an error.\n",
    "3. For manually marked exercises ensure you have completed any cells with `\"YOUR ANSWER HERE\"`.\n",
    "4. Ensure all cells are run with their output visible.\n",
    "5. Fill in your student ID (**only**) below.\n",
    "6. You should now **save and download** your work.\n",
    "\n",
    "</div>"
   ]
  },
  {
   "cell_type": "markdown",
   "metadata": {},
   "source": [
    "**Student ID:** 15006280"
   ]
  }
 ],
 "metadata": {
  "kernelspec": {
   "display_name": "adv_ai",
   "language": "python",
   "name": "adv_ai"
  },
  "language_info": {
   "codemirror_mode": {
    "name": "ipython",
    "version": 3
   },
   "file_extension": ".py",
   "mimetype": "text/x-python",
   "name": "python",
   "nbconvert_exporter": "python",
   "pygments_lexer": "ipython3",
   "version": "3.11.9"
  }
 },
 "nbformat": 4,
 "nbformat_minor": 4
}
